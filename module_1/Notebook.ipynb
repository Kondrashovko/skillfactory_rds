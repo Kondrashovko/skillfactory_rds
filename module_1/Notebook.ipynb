{
 "cells": [
  {
   "cell_type": "code",
   "execution_count": null,
   "metadata": {
    "_cell_guid": "b1076dfc-b9ad-4769-8c92-a6c4dae69d19",
    "_uuid": "8f2839f25d086af736a60e9eeb907d3b93b6e0e5",
    "colab": {},
    "colab_type": "code",
    "id": "U2D2gTdJVp90"
   },
   "outputs": [],
   "source": [
    "import numpy as np\n",
    "import pandas as pd\n",
    "import seaborn as sns\n",
    "import matplotlib.pyplot as plt\n",
    "from collections import Counter\n",
    "from itertools import combinations"
   ]
  },
  {
   "cell_type": "code",
   "execution_count": null,
   "metadata": {
    "_cell_guid": "79c7e3d0-c299-4dcb-8224-4455121ee9b0",
    "_uuid": "d629ff2d2480ee46fbb7e2d37f6b5fab8052498a",
    "colab": {},
    "colab_type": "code",
    "id": "oyGfxL3eVp9-"
   },
   "outputs": [],
   "source": [
    "data = pd.read_csv('movie_bd_v5.csv')\n",
    "data.sample(5)"
   ]
  },
  {
   "cell_type": "code",
   "execution_count": null,
   "metadata": {
    "colab": {},
    "colab_type": "code",
    "id": "CoYUnagMVp-C"
   },
   "outputs": [],
   "source": [
    "data.describe()"
   ]
  },
  {
   "cell_type": "markdown",
   "metadata": {
    "colab_type": "text",
    "id": "DTIt7ezGVp-G"
   },
   "source": [
    "# Предобработка"
   ]
  },
  {
   "cell_type": "code",
   "execution_count": null,
   "metadata": {
    "colab": {},
    "colab_type": "code",
    "id": "jNb40DwKVp-H"
   },
   "outputs": [],
   "source": [
    "answers = {}\n",
    "# создадим словарь для ответов\n",
    "data['profit'] = data['revenue'] - data['budget']\n",
    "# добавляем столбец прибыли - он понадобится для расчетов"
   ]
  },
  {
   "cell_type": "markdown",
   "metadata": {
    "colab_type": "text",
    "id": "YxZaH-nPVp-L"
   },
   "source": [
    "# 1. У какого фильма из списка самый большой бюджет?"
   ]
  },
  {
   "cell_type": "code",
   "execution_count": null,
   "metadata": {},
   "outputs": [],
   "source": [
    "answers['1'] = data[data['budget'] == data['budget'].max()]['original_title'].values[0]\n",
    "# выбираем фильм с максимальным бюджетом и вписываем его название в словарь для ответов "
   ]
  },
  {
   "cell_type": "markdown",
   "metadata": {
    "colab_type": "text",
    "id": "FNRbbI3vVp-c"
   },
   "source": [
    "# 2. Какой из фильмов самый длительный (в минутах)?"
   ]
  },
  {
   "cell_type": "code",
   "execution_count": null,
   "metadata": {
    "colab": {},
    "colab_type": "code",
    "id": "ot-VX2XrVp-g"
   },
   "outputs": [],
   "source": [
    "answers['2'] = data[data['runtime'] == data['runtime'].max()]['original_title'].values[0]\n",
    "# вписываем название самого длительного фильма в словарь для ответов "
   ]
  },
  {
   "cell_type": "markdown",
   "metadata": {
    "colab_type": "text",
    "id": "bapLlpW8Vp-k"
   },
   "source": [
    "# 3. Какой из фильмов самый короткий (в минутах)?\n",
    "\n",
    "\n",
    "\n"
   ]
  },
  {
   "cell_type": "code",
   "execution_count": null,
   "metadata": {
    "colab": {},
    "colab_type": "code",
    "id": "YBxaSHuAVp-l"
   },
   "outputs": [],
   "source": [
    "answers['3'] = data[data['runtime'] == data['runtime'].min()]['original_title'].values[0]"
   ]
  },
  {
   "cell_type": "markdown",
   "metadata": {
    "colab_type": "text",
    "id": "TfQbxbfNVp-p"
   },
   "source": [
    "# 4. Какова средняя длительность фильмов?\n"
   ]
  },
  {
   "cell_type": "code",
   "execution_count": null,
   "metadata": {
    "colab": {},
    "colab_type": "code",
    "id": "5K6dKZYVVp-q"
   },
   "outputs": [],
   "source": [
    "answers['4'] = data['runtime'].mean()\n",
    "# считаем среднюю продолжительность всех фильмов"
   ]
  },
  {
   "cell_type": "markdown",
   "metadata": {
    "colab_type": "text",
    "id": "r5TvbnT_Vp-u"
   },
   "source": [
    "# 5. Каково медианное значение длительности фильмов? "
   ]
  },
  {
   "cell_type": "code",
   "execution_count": null,
   "metadata": {
    "colab": {},
    "colab_type": "code",
    "id": "iBROplKnVp-v"
   },
   "outputs": [],
   "source": [
    "answers['5'] = data['runtime'].median()"
   ]
  },
  {
   "cell_type": "markdown",
   "metadata": {
    "colab_type": "text",
    "id": "39P-deDSVp-y"
   },
   "source": [
    "# 6. Какой самый прибыльный фильм?\n",
    "#### Внимание! Здесь и далее под «прибылью» или «убытками» понимается разность между сборами и бюджетом фильма. (прибыль = сборы - бюджет) в нашем датасете это будет (profit = revenue - budget) "
   ]
  },
  {
   "cell_type": "code",
   "execution_count": null,
   "metadata": {
    "colab": {},
    "colab_type": "code",
    "id": "UYZh4T9WVp-y"
   },
   "outputs": [],
   "source": [
    "# создаем во время предобработки данных новую колонку 'profit' для упрощения решения\n",
    "answers['6'] = data[data['profit'] == data['profit'].max()]['original_title'].values[0]\n",
    "# вписываем название самого прибыльного фильма в словарь для ответов"
   ]
  },
  {
   "cell_type": "markdown",
   "metadata": {
    "colab_type": "text",
    "id": "M99JmIX4Vp-2"
   },
   "source": [
    "# 7. Какой фильм самый убыточный? "
   ]
  },
  {
   "cell_type": "code",
   "execution_count": null,
   "metadata": {
    "colab": {},
    "colab_type": "code",
    "id": "w-D2m4XPVp-3"
   },
   "outputs": [],
   "source": [
    "answers['7'] = data[data['profit'] == data['profit'].min()]['original_title'].values[0]"
   ]
  },
  {
   "cell_type": "markdown",
   "metadata": {
    "colab_type": "text",
    "id": "wEOM5ERVVp-6"
   },
   "source": [
    "# 8. У скольких фильмов из датасета объем сборов оказался выше бюджета?"
   ]
  },
  {
   "cell_type": "code",
   "execution_count": null,
   "metadata": {
    "colab": {},
    "colab_type": "code",
    "id": "y00_7HD6Vp-7"
   },
   "outputs": [],
   "source": [
    "answers['8'] = data[data['profit'] > 0]['imdb_id'].count()\n",
    "# считаем идентификаторы всех прибыльных фильмов в словарь для ответов."
   ]
  },
  {
   "cell_type": "markdown",
   "metadata": {
    "colab_type": "text",
    "id": "xhpspA9KVp_A"
   },
   "source": [
    "# 9. Какой фильм оказался самым кассовым в 2008 году?"
   ]
  },
  {
   "cell_type": "code",
   "execution_count": null,
   "metadata": {
    "colab": {},
    "colab_type": "code",
    "id": "MoUyQr9RVp_B"
   },
   "outputs": [],
   "source": [
    "answers['9'] = data.loc[\n",
    "                        data['release_year'] == 2008\n",
    "                        ].sort_values(['profit'],ascending=False)['original_title'].values[0]\n",
    "# выбираем все фильмы за 2008 год, сортируем по прибыльности и первый, самый прибыльный фильм записываем в ответы"
   ]
  },
  {
   "cell_type": "markdown",
   "metadata": {
    "colab_type": "text",
    "id": "Zi4hDKidVp_F"
   },
   "source": [
    "# 10. Самый убыточный фильм за период с 2012 по 2014 г. (включительно)?\n"
   ]
  },
  {
   "cell_type": "code",
   "execution_count": null,
   "metadata": {
    "colab": {},
    "colab_type": "code",
    "id": "XqyRmufJVp_F"
   },
   "outputs": [],
   "source": [
    "answers['10'] = data.loc[\n",
    "                        (data['release_year'] >= 2012) &\n",
    "                        (data['release_year'] <= 2014)\n",
    "                        ].sort_values(['profit'])['original_title'].values[0]\n",
    "# все фильмы с 2012 по 2014 года, сортируем по убыточности и первый, самый убыточный фильм записываем в ответы"
   ]
  },
  {
   "cell_type": "markdown",
   "metadata": {
    "colab_type": "text",
    "id": "EA7Sa9dkVp_I"
   },
   "source": [
    "# 11. Какого жанра фильмов больше всего?"
   ]
  },
  {
   "cell_type": "code",
   "execution_count": null,
   "metadata": {
    "colab": {},
    "colab_type": "code",
    "id": "zsJAwJ8QVp_J"
   },
   "outputs": [],
   "source": [
    "data_genres = data[['imdb_id', 'genres', 'profit']].copy().set_index('imdb_id')\n",
    "# создаем датасет с прибылью и жанрами\n",
    "data_genres.genres = data_genres.genres.str.split('|')\n",
    "# разделяем жанры, т.к. у многих фильмов несколько жанров\n",
    "data_gen = data_genres.explode('genres')\n",
    "# расширяем датасет жанров, для удобства счета\n",
    "answers['11'] = pd.pivot_table(data_gen, \n",
    "                               index='genres', \n",
    "                               aggfunc='count').nlargest(1, 'profit').index[0]\n",
    "# из датасета считаем максимальное количество успешных фильмов для самого производимого жанра\n",
    "# вносим название жанра в словарь для ответов"
   ]
  },
  {
   "cell_type": "markdown",
   "metadata": {
    "colab_type": "text",
    "id": "T9_bPWpkVp_Q"
   },
   "source": [
    "# 12. Фильмы какого жанра чаще всего становятся прибыльными? "
   ]
  },
  {
   "cell_type": "code",
   "execution_count": null,
   "metadata": {
    "colab": {},
    "colab_type": "code",
    "id": "Tmt8MaK1Vp_R"
   },
   "outputs": [],
   "source": [
    "data_pribal = data[data['profit'] > 0]\n",
    "# выберем прибыльные фильмы\n",
    "data_genres_pr = data_pribal[['imdb_id', 'genres', 'profit']].copy().set_index('imdb_id')\n",
    "# создаем датасет с прибылью и жанрами\n",
    "data_genres_pr.genres = data_genres_pr.genres.str.split('|')\n",
    "# разделяем жанры, т.к. у многих фильмов несколько жанров\n",
    "data_gen_2 = data_genres_pr.explode('genres')\n",
    "# расширяем датасет жанров, для удобства счета\n",
    "answers['12'] = pd.pivot_table(data_gen_2, \n",
    "                               index='genres', \n",
    "                               aggfunc='count').nlargest(1, 'profit').index[0]\n",
    "# из датасета считаем максимальное количество успешных фильмов для самого \"надежного\" жанра\n",
    "# вносим название жанра в словарь для ответов"
   ]
  },
  {
   "cell_type": "markdown",
   "metadata": {
    "colab_type": "text",
    "id": "0F23bgsDVp_U"
   },
   "source": [
    "# 13. У какого режиссера самые большие суммарные кассовые сборы?"
   ]
  },
  {
   "cell_type": "code",
   "execution_count": null,
   "metadata": {
    "colab": {},
    "colab_type": "code",
    "id": "K6Z3J8ygVp_X"
   },
   "outputs": [],
   "source": [
    "answers['13'] = data.groupby(['director'])['profit'].sum().sort_values(ascending=False).index[0]"
   ]
  },
  {
   "cell_type": "markdown",
   "metadata": {
    "colab_type": "text",
    "id": "PsYC9FgRVp_a"
   },
   "source": [
    "# 14. Какой режисер снял больше всего фильмов в стиле Action?"
   ]
  },
  {
   "cell_type": "code",
   "execution_count": null,
   "metadata": {
    "colab": {},
    "colab_type": "code",
    "id": "wd2M-wHeVp_b"
   },
   "outputs": [],
   "source": [
    "data_action = data[data.genres.str.contains(\"Action\")] \n",
    "# создаем выбираем все фильмы экшн\n",
    "data_action = data_action['director'].str.cat(sep='|') \n",
    "# превращаем всех режисеров в одну строку\n",
    "data_action = pd.Series(data_action.split('|')) \n",
    "# создаем список разделяя строку по '|'\n",
    "data_action = data_action.value_counts(ascending=False) \n",
    "# считаем количество элементов строке\n",
    "answers['14'] = data_action.index[0] \n",
    "# Записываем самого востребованного для этого жанра режиссера, первого в списке"
   ]
  },
  {
   "cell_type": "markdown",
   "metadata": {
    "colab_type": "text",
    "id": "PQ0KciD7Vp_f"
   },
   "source": [
    "# 15. Фильмы с каким актером принесли самые высокие кассовые сборы в 2012 году? "
   ]
  },
  {
   "cell_type": "code",
   "execution_count": null,
   "metadata": {
    "colab": {},
    "colab_type": "code",
    "id": "aga62oeKVp_g"
   },
   "outputs": [],
   "source": [
    "data_budget = data[['imdb_id', 'cast', 'profit', 'release_year']].copy().set_index('imdb_id')\n",
    "# создаем датасет с прибылью и актерским составом\n",
    "data_2012 = data_budget.loc[data_budget['release_year'] == 2012]\n",
    "# Выбираем фильмы за 2012 год\n",
    "data_2012.cast = data_2012.cast.str.split('|')\n",
    "# разделяем актеров, чтобы каждого актера можно было посчитать\n",
    "data_cast = data_2012.explode('cast')\n",
    "# расширяем датасет актеров, для удобства счета\n",
    "answers['15'] = pd.pivot_table(data_cast, \n",
    "                               index='cast', \n",
    "                               aggfunc='sum').nlargest(1, 'profit').index[0]\n",
    "# из датасета считаем максимальные сборы, для самого \"прибыльного\" актера\n",
    "# вносим имя актера в словарь для ответов"
   ]
  },
  {
   "cell_type": "markdown",
   "metadata": {
    "colab_type": "text",
    "id": "mWHyyL7QVp_j"
   },
   "source": [
    "# 16. Какой актер снялся в большем количестве высокобюджетных фильмов?"
   ]
  },
  {
   "cell_type": "code",
   "execution_count": null,
   "metadata": {
    "colab": {},
    "colab_type": "code",
    "id": "qQtmHKTFVp_k"
   },
   "outputs": [],
   "source": [
    "data_budget_2 = data[['imdb_id', 'cast', 'budget']].copy().set_index('imdb_id')\n",
    "# создаем датасет с бюджетом и актерским составом\n",
    "data_budget_2 = data_budget_2[data_budget_2['budget'] > data_budget_2['budget'].mean()]\n",
    "# создаем датасет с высокобюджетными фильмами\n",
    "data_budget_2.cast = data_budget_2.cast.str.split('|')\n",
    "# разделяем актеров, чтобы каждого актера можно было посчитать\n",
    "data_cast_2 = data_budget_2.explode('cast')\n",
    "# расширяем датасет актеров, для удобства счета\n",
    "answers['16'] = pd.pivot_table(data_cast_2, \n",
    "                               index='cast', \n",
    "                               aggfunc='count').nlargest(1, 'budget').index[0]\n",
    "# из датасета считаем максимальное количество высокобюджетных фильмов, для самого востребованного актера\n",
    "# вносим имя актера в словарь для ответов"
   ]
  },
  {
   "cell_type": "markdown",
   "metadata": {
    "colab_type": "text",
    "id": "NIh6AaW5Vp_n"
   },
   "source": [
    "# 17. В фильмах какого жанра больше всего снимался Nicolas Cage? "
   ]
  },
  {
   "cell_type": "code",
   "execution_count": null,
   "metadata": {
    "colab": {},
    "colab_type": "code",
    "id": "H74SJDIBVp_n"
   },
   "outputs": [],
   "source": [
    "data_cast_gen = data[['imdb_id', 'genres', 'cast', 'release_year']].copy().set_index('imdb_id')\n",
    "# создаем датасет с жанрами и актерским составом\n",
    "data_cast_gen.genres = data_cast_gen.genres.str.split('|')\n",
    "# разделяем жанры, на случай если у фильма несколько жанров\n",
    "data_Cage = data_cast_gen[data_cast_gen['cast'].str.contains(\"Nicolas Cage\")]\n",
    "# создаем датасет с актером Николасом Кейджем\n",
    "data_Cage_genres = data_Cage.explode('genres')\n",
    "# расширяем датасет жанров, чтобы каждый жанр был прописан в датасете\n",
    "answers['17'] = pd.pivot_table(data_Cage_genres, \n",
    "                               index='genres', \n",
    "                               aggfunc='count').nlargest(1, 'release_year').index[0]\n",
    "# из датасета считаем максимальное количество премьер, для самого востребованного зимой режиссера\n",
    "# вносим имя режиссера в словарь для ответов"
   ]
  },
  {
   "cell_type": "markdown",
   "metadata": {
    "colab_type": "text",
    "id": "RqOmPRfWVp_q"
   },
   "source": [
    "# 18. Самый убыточный фильм от Paramount Pictures"
   ]
  },
  {
   "cell_type": "code",
   "execution_count": null,
   "metadata": {
    "colab": {},
    "colab_type": "code",
    "id": "9E_B0Y96Vp_r"
   },
   "outputs": [],
   "source": [
    "data_paramount = data[data['production_companies'].str.contains(\"Paramount Pictures\")]\n",
    "# создаем датасет всех фильмом от компании \"Paramount Pictures\"\n",
    "answers['18'] = data_paramount[data_paramount['profit'] == data_paramount['profit'].min()]['original_title'].values[0]\n",
    "# из нового датасета выписываем название самого убыточного фильма в словарь для ответов"
   ]
  },
  {
   "cell_type": "markdown",
   "metadata": {
    "colab_type": "text",
    "id": "vS8Ur6ddVp_u"
   },
   "source": [
    "# 19. Какой год стал самым успешным по суммарным кассовым сборам?"
   ]
  },
  {
   "cell_type": "code",
   "execution_count": null,
   "metadata": {
    "colab": {},
    "colab_type": "code",
    "id": "Dnbt4GdIVp_v"
   },
   "outputs": [],
   "source": [
    "answers['19'] = pd.pivot_table(data, index='release_year', aggfunc='sum').nlargest(1, 'profit').index[0]\n",
    "# из датасета считаем максимально прибыльный год и вносим результаты словарь для ответов"
   ]
  },
  {
   "cell_type": "markdown",
   "metadata": {
    "colab_type": "text",
    "id": "JAzJh4QAVp_z"
   },
   "source": [
    "# 20. Какой самый прибыльный год для студии Warner Bros?"
   ]
  },
  {
   "cell_type": "code",
   "execution_count": null,
   "metadata": {
    "colab": {},
    "colab_type": "code",
    "id": "wgVu02DEVp_0"
   },
   "outputs": [],
   "source": [
    "data_WarnerBros = data[data['production_companies'].str.contains(\"Warner Bros\")]\n",
    "# создаем датасет c производственной компанией Warner Bros\n",
    "answers['20'] = pd.pivot_table(data_WarnerBros, \n",
    "                               index='release_year', \n",
    "                               aggfunc='sum').nlargest(1, 'profit').index[0]\n",
    "# из датасета считаем максимально прибыльный год для компании Warner Bros вносим результаты словарь для ответов"
   ]
  },
  {
   "cell_type": "markdown",
   "metadata": {
    "colab_type": "text",
    "id": "8Im1S2HRVp_4"
   },
   "source": [
    "# 21. В каком месяце за все годы суммарно вышло больше всего фильмов?"
   ]
  },
  {
   "cell_type": "code",
   "execution_count": null,
   "metadata": {
    "colab": {},
    "colab_type": "code",
    "id": "lev6TH7gVp_4"
   },
   "outputs": [],
   "source": [
    "data_release = data[['imdb_id', 'original_title', 'release_date']].copy().set_index('imdb_id')\n",
    "# создаем датасет с названиями фильмов и датой фильма\n",
    "data_release['release_date'] = data_release['release_date'].str.split('/', expand=True)\n",
    "# от даты выхода фильма оставляем только месяц премьеры\n",
    "data_release.rename(columns={\"release_date\": \"release_month\"}, inplace=True)\n",
    "# меняем название колонки с \"release_date\" (день премьеры) на \"release_month\" (месяц премьеры)\n",
    "answers['21'] = pd.pivot_table(data_release, index='release_month', aggfunc='count').nlargest(1, 'original_title').index[0]\n",
    "# из датасета считаем максимальное количество фильмов, вышедших за месяц\n",
    "# вносим результаты счетчика в словарь для ответов"
   ]
  },
  {
   "cell_type": "markdown",
   "metadata": {
    "colab_type": "text",
    "id": "uAJsZ_NeVp_7"
   },
   "source": [
    "# 22. Сколько суммарно вышло фильмов летом? (за июнь, июль, август)"
   ]
  },
  {
   "cell_type": "code",
   "execution_count": null,
   "metadata": {
    "colab": {},
    "colab_type": "code",
    "id": "Aa-hEREoVp_8"
   },
   "outputs": [],
   "source": [
    "data_release_2 = data[['imdb_id', 'release_date']].copy().set_index('imdb_id')\n",
    "# создаем датасет с датами выхода фильма\n",
    "data_release_2.release_date = data_release_2['release_date'].str.split('/', expand=True)\n",
    "# от даты выхода фильма оставляем только месяц премьеры\n",
    "data_release_2.rename(columns={\"release_date\": \"release_month\"}, inplace=True)\n",
    "# меняем название колонки с \"release_date\" (день премьеры) на \"release_month\" (месяц премьеры)\n",
    "answers['22'] = data_release_2.loc[data_release_2['release_month'].isin(['6', '7', '8'])].count()[0]\n",
    "# из датасета считаем количество фильмов, вышедших летом (за 6, 7 и 8 месяц - июнь, июль и август соответствено) \n",
    "# вносим результаты счетчика в словарь для ответов"
   ]
  },
  {
   "cell_type": "markdown",
   "metadata": {
    "colab_type": "text",
    "id": "G94ppOY1VqAA"
   },
   "source": [
    "# 23. Для какого режиссера зима – самое продуктивное время года? "
   ]
  },
  {
   "cell_type": "code",
   "execution_count": null,
   "metadata": {
    "colab": {},
    "colab_type": "code",
    "id": "RhNTsamuVqAB"
   },
   "outputs": [],
   "source": [
    "data_dir_release = data[['imdb_id', 'release_date', 'director']].copy().set_index('imdb_id')\n",
    "# создаем датасет с датами выхода и режиссерами фильмов\n",
    "data_dir_release.director = data_dir_release.director.str.split('|')\n",
    "# разделяем режиссеров, на случай если у фильма несколько режисеров\n",
    "data_director = data_dir_release.explode('director')\n",
    "# расширяем датасет режиссеров, чтобы каждый режиссер был с датой премьеры\n",
    "data_director.release_date = data_director['release_date'].str.split('/', expand=True)\n",
    "# от даты выхода фильма оставляем только месяц премьеры\n",
    "data_director.rename(columns={\"release_date\": \"release_month\"}, inplace=True)\n",
    "# меняем название колонки с \"release_date\" (день премьеры) на \"release_month\" (месяц премьеры)\n",
    "data_dir_winter = data_director.loc[data_director['release_month'].isin(['12', '1', '2'])]\n",
    "# создаем датасет с премьерами зимой (за 12, 1 и 2 месяц - декабрь, январь и февраль соответствено) \n",
    "answers['23'] = pd.pivot_table(data_dir_winter, \n",
    "                               index='director', \n",
    "                               aggfunc='count').nlargest(1, 'release_month').index[0]\n",
    "# из датасета считаем максимальное количество премьер, для самого востребованного зимой режиссера\n",
    "# вносим имя режиссера в словарь для ответов"
   ]
  },
  {
   "cell_type": "markdown",
   "metadata": {
    "colab_type": "text",
    "id": "RBo0JVjVVqAF"
   },
   "source": [
    "# 24. Какая студия дает самые длинные названия своим фильмам по количеству символов?"
   ]
  },
  {
   "cell_type": "code",
   "execution_count": null,
   "metadata": {
    "colab": {},
    "colab_type": "code",
    "id": "QRGS8L0iVqAG"
   },
   "outputs": [],
   "source": [
    "data_title = data[['imdb_id', 'original_title', 'production_companies']].copy().set_index('imdb_id')\n",
    "# создаем датасет с названиями фильмов и производственными компаниями\n",
    "data_title.production_companies = data_title.production_companies.str.split('|')\n",
    "# разделяем производственные компаниями, на случай если у фильма несколько компаний\n",
    "data_title_pr = data_title.explode('production_companies')\n",
    "# расширяем датасет производственных компаний, чтобы каждая компания была с каждым своим фильмом\n",
    "data_title_pr.original_title = data_title_pr['original_title'].str.len()\n",
    "# заменяем название фильма длиной названия фильма\n",
    "data_title_pr.rename(columns={\"original_title\": \"length_title\"}, inplace=True)\n",
    "# меняем название колонки с \"original_title\" (оригинальное название) на \"length_title\" (длина названия)\n",
    "answers['24'] = pd.pivot_table(data_title_pr, \n",
    "                               index='production_companies', \n",
    "                               aggfunc='mean').nlargest(1, 'length_title').index[0]\n",
    "# из датасета считаем максимальную среднюю длину названия для производственной компании\n",
    "# вносим название производственной компании с максимальной средней длиной названия в словарь ответов"
   ]
  },
  {
   "cell_type": "markdown",
   "metadata": {
    "colab_type": "text",
    "id": "9G0hbvR7VqAK"
   },
   "source": [
    "# 25. Описание фильмов какой студии в среднем самые длинные по количеству слов?"
   ]
  },
  {
   "cell_type": "code",
   "execution_count": null,
   "metadata": {
    "colab": {},
    "colab_type": "code",
    "id": "Ge2GsLNxVqAK"
   },
   "outputs": [],
   "source": [
    "data_overview = data[['imdb_id', 'overview', 'production_companies']].copy().set_index('imdb_id')\n",
    "# создаем датасет с описанием фильмов и производственными компаниями\n",
    "data_overview.production_companies = data_overview.production_companies.str.split('|')\n",
    "# разделяем производственные компаниями, на случай если у фильма несколько компаний\n",
    "data_overview_pr = data_overview.explode('production_companies')\n",
    "# расширяем датасет производственных компаний, чтобы каждая компания была с каждым своим описанием к фильму\n",
    "data_overview_pr.overview = data_overview_pr.overview.str.replace(\"-\", \" \")\n",
    "data_overview_pr.overview = data_overview_pr.overview.str.replace(\"- \", \"\")\n",
    "# заменяем дефис пробелом, а тире с пробелом пустотой, чтобы не считать тире за слово\n",
    "data_overview_pr.overview = data_overview_pr['overview'].str.count(' ') + 1\n",
    "# заменяем описание фильма количеством слов в описании к фильма, считая, что слова разделены пробелом\n",
    "# +1 - это последнее слово, т.к. пробелов в описании на 1 меньше, чем слов\n",
    "data_overview_pr.rename(columns={\"overview\": \"overview_word_count\"}, inplace=True)\n",
    "# меняем название колонки с \"overview\" (описание) на \"overview_word_count\" (количество слов в описании)\n",
    "answers['25'] = pd.pivot_table(data_overview_pr,\n",
    "                               index='production_companies',\n",
    "                               aggfunc='mean').nlargest(1, 'overview_word_count').index[0]\n",
    "# из датасета считаем максимальную среднее количество слов в описании для производственной компании\n",
    "# вносим название производственной компании в словарь ответов"
   ]
  },
  {
   "cell_type": "markdown",
   "metadata": {
    "colab_type": "text",
    "id": "FJ1AFt90VqAP"
   },
   "source": [
    "# 26. Какие фильмы входят в 1 процент лучших по рейтингу? \n",
    "по vote_average"
   ]
  },
  {
   "cell_type": "code",
   "execution_count": null,
   "metadata": {
    "colab": {},
    "colab_type": "code",
    "id": "8qmJVq4CVqAQ"
   },
   "outputs": [],
   "source": [
    "data_vote = data[['imdb_id', 'original_title', 'vote_average']].copy().set_index('imdb_id')\n",
    "# создаем датасет с названием фильмов и средними оценками\n",
    "best_1pr = round(data_vote['vote_average'].count()/100)\n",
    "# создаем переменную и считаем сколько фильмов входит в 1 процент, округляя до целого\n",
    "answers['26'] = data_vote.groupby(['original_title'])['vote_average'].max().sort_values(ascending=False).head(best_1pr)\n",
    "# создаем датасет, сортируя по максимальной оценке и выбирая 1 процент самых рейтинговых фильмов вносим датасет в словарь ответов"
   ]
  },
  {
   "cell_type": "markdown",
   "metadata": {
    "colab_type": "text",
    "id": "MdXsUXbCVqAV"
   },
   "source": [
    "# 27. Какие актеры чаще всего снимаются в одном фильме вместе?\n"
   ]
  },
  {
   "cell_type": "code",
   "execution_count": null,
   "metadata": {},
   "outputs": [],
   "source": [
    "data_cast_film = data[['imdb_id', 'original_title', 'cast']].copy().set_index('imdb_id')\n",
    "# создаем датасет с названием фильмов и актерским составом\n",
    "data_cast_film.cast = data_cast_film.cast.str.split('|')\n",
    "# разделяем имена актеров\n",
    "pairs = Counter()\n",
    "# создаем счетчик экранных дуэтов\n",
    "for i in data_cast_film['cast']:    # цикл для актерского состава в каждом фильме\n",
    "    for j in combinations(i, 2):    # цикл комбинации двух актеров в актерском составе\n",
    "        if j not in pairs:\n",
    "            pairs[j] = 1       # создать счетчик для пары, если её нет в счетчике\n",
    "        else:\n",
    "            pairs[j] += 1      # увеличить счетчик для пары, если она уже есть в счетчике\n",
    "answers['27'] = pairs.most_common(1)[0][0]\n",
    "# выбираем самую частый дуэт актеров в фильме и вносим его в словарь ответов"
   ]
  },
  {
   "cell_type": "markdown",
   "metadata": {
    "colab_type": "text",
    "id": "U0nONFnGVqAX"
   },
   "source": [
    "# Submission"
   ]
  },
  {
   "cell_type": "code",
   "execution_count": null,
   "metadata": {
    "colab": {},
    "colab_type": "code",
    "id": "IfcaRO9-VqAX",
    "outputId": "0f132912-32bb-4196-c98c-abfbc4ad5a5f"
   },
   "outputs": [],
   "source": [
    "# в конце можно посмотреть свои ответы к каждому вопросу\n",
    "answers"
   ]
  },
  {
   "cell_type": "code",
   "execution_count": null,
   "metadata": {
    "colab": {},
    "colab_type": "code",
    "id": "SiRmHPl8VqAd"
   },
   "outputs": [],
   "source": [
    "# и убедиться что ни чего не пропустил)\n",
    "len(answers)"
   ]
  }
 ],
 "metadata": {
  "colab": {
   "name": "Copy of [SF-DST] Movies IMBD v4.1 TEMPLATE.ipynb",
   "provenance": []
  },
  "kernelspec": {
   "display_name": "Python 3",
   "language": "python",
   "name": "python3"
  },
  "language_info": {
   "codemirror_mode": {
    "name": "ipython",
    "version": 3
   },
   "file_extension": ".py",
   "mimetype": "text/x-python",
   "name": "python",
   "nbconvert_exporter": "python",
   "pygments_lexer": "ipython3",
   "version": "3.8.5"
  }
 },
 "nbformat": 4,
 "nbformat_minor": 1
}
