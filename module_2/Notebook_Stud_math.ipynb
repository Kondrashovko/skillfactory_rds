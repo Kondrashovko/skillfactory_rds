{
 "cells": [
  {
   "cell_type": "code",
   "execution_count": null,
   "metadata": {},
   "outputs": [],
   "source": [
    "#Цель проекта:\n",
    "#Выбрать параметры датасета для модели, которая предсказывала бы результаты госэкзамена по математике."
   ]
  },
  {
   "cell_type": "code",
   "execution_count": null,
   "metadata": {},
   "outputs": [],
   "source": [
    "#Задачи проекта:\n",
    "#Провести первичную обработку данных;\n",
    "#По необходимости преобразовать данные;\n",
    "#Провести разведывательный анализ данных;\n",
    "#Выявить параметры, сильно влияющие на успеваемость по математике;\n",
    "#Создать датасет с выбранными параметры для модели;\n",
    "#Составить отчёт по результатам работы."
   ]
  },
  {
   "cell_type": "code",
   "execution_count": null,
   "metadata": {},
   "outputs": [],
   "source": [
    "import pandas as pd \n",
    "import matplotlib.pyplot as plt\n",
    "import seaborn as sns\n",
    "import warnings; warnings.simplefilter('ignore')\n",
    "from itertools import combinations\n",
    "from scipy.stats import ttest_ind\n",
    "pd.set_option('display.max_columns', 50) "
   ]
  },
  {
   "cell_type": "code",
   "execution_count": null,
   "metadata": {},
   "outputs": [],
   "source": [
    "#Функции\n",
    "#Оценка количества уникальных значений для каждого столбца в датасете:\n",
    "def unic_data(dataset):\n",
    "    for column in dataset:\n",
    "        display(column)\n",
    "        display(dataset.loc[:, column].unique())\n",
    "        display(pd.DataFrame(dataset.loc[:, column].value_counts()))\n",
    "#Создание распределение оценки для каждого параметра с помощью Boxplot:  \n",
    "def get_boxplot(column):\n",
    "    if column == 'score':\n",
    "        return 0 \n",
    "    else:\n",
    "        fig, ax = plt.subplots(figsize = (14, 4))\n",
    "        sns.boxplot(x=column, y='score', \n",
    "                    data=students.loc[students.loc[:, column].isin(students.loc[:, column].value_counts().index[:20])],\n",
    "                   ax=ax)\n",
    "        plt.xticks(rotation=45)\n",
    "        ax.set_title('Boxplot for ' + column)\n",
    "        plt.show()\n",
    "#Распределение оценок по номинативным признакам, с помощью теста Стьюдента:\n",
    "def get_stat_dif(column):\n",
    "    marker = 0\n",
    "    if column == 'score':\n",
    "        return 0 \n",
    "    else:\n",
    "        cols = students.loc[:, column].value_counts().index[:20]\n",
    "        combinations_all = list(combinations(cols, 2))\n",
    "        for comb in combinations_all:\n",
    "            if ttest_ind(students.loc[students.loc[:, column] == comb[0], 'score'],\n",
    "                         students.loc[students.loc[:, column] == comb[1], 'score'],\n",
    "                         nan_policy='omit').pvalue <= 0.1/len(combinations_all):\n",
    "                print('Найдены статистически значимые различия для колонки', column)\n",
    "                marker = 1\n",
    "                break\n",
    "    return marker"
   ]
  },
  {
   "cell_type": "code",
   "execution_count": null,
   "metadata": {
    "scrolled": true
   },
   "outputs": [],
   "source": [
    "#Прочитаем файл и осмотрим данные:\n",
    "students = pd.read_csv('stud_math.csv')\n",
    "students"
   ]
  },
  {
   "cell_type": "code",
   "execution_count": null,
   "metadata": {
    "scrolled": true
   },
   "outputs": [],
   "source": [
    "#Выведем информацию о датасете:\n",
    "students.info()"
   ]
  },
  {
   "cell_type": "code",
   "execution_count": null,
   "metadata": {},
   "outputs": [],
   "source": [
    "#В описании данных не сказано о столбце 'studytime, granular'.\n",
    "#Возможно стоит его удалить, т.к описать влияние неизветного параметра - невыполнимая задача.\n",
    "#Но оставим его неизменным и посмотрим корреляцию - ведь стереть неизвестный параметр всегда успеем."
   ]
  },
  {
   "cell_type": "code",
   "execution_count": null,
   "metadata": {},
   "outputs": [],
   "source": [
    "#Сохраним копию изначального датасета перед преобразованием:\n",
    "data = students.copy()"
   ]
  },
  {
   "cell_type": "code",
   "execution_count": null,
   "metadata": {
    "scrolled": true
   },
   "outputs": [],
   "source": [
    "#Оценим количество уникальных значений для каждого столбца:\n",
    "unic_data(students)"
   ]
  },
  {
   "cell_type": "code",
   "execution_count": null,
   "metadata": {},
   "outputs": [],
   "source": [
    "#Расмотрим пропуски в столбцах и возможность их восстановить:\n",
    "#Пропуски не восстановить для следующих параметров:\n",
    "#Адрес (address);\n",
    "#Состав семьи (famsize);\n",
    "#Состоянии семьи (Pstatus);\n",
    "#Образование и работа родителей (Medu, Fedu, Mjob, Fjob);\n",
    "#Опекунство (guardian);\n",
    "#Время в пути до школы (traveltime);\n",
    "#Время на учёбу помимо школы (studytime);\n",
    "#Внеучебные неудачи (failures);\n",
    "#Посещение детского сада (nursery);\n",
    "#Желание о высшем обравзовании (higher);\n",
    "#Семейные отношения (famrel);\n",
    "#Свободное время (freetime);\n",
    "#Время с друзьями (goout);\n",
    "#Здоровье (health);\n",
    "#Количество пропущенных занятий (absences);\n",
    "#Баллы по математике (score)."
   ]
  },
  {
   "cell_type": "code",
   "execution_count": null,
   "metadata": {},
   "outputs": [],
   "source": [
    "#Пропуски причины выбора школы (reason) можнозаполнить причиной \"other\":\n",
    "students.reason = students.reason.astype(str).apply(lambda x: \"other\" if x.strip() == '' else \"other\" if x == 'nan'  else x)"
   ]
  },
  {
   "cell_type": "code",
   "execution_count": null,
   "metadata": {},
   "outputs": [],
   "source": [
    "#Пропуски данных, для которых можем допустить, что их нет и заменить на соответствуещее значение ('no'):\n",
    "#Дополнительной школьной (schoolsup) и семейной (famsup) образовательных поддержек;\n",
    "#Дополнительные занятия (paid);\n",
    "#Внеучебные занятия (activities);\n",
    "#Наличие интернета (internet) \n",
    "#Наличие романтических отношений (romantic) \n",
    "for col in ['schoolsup', \n",
    "            'famsup', \n",
    "            'paid', \n",
    "            'activities',\n",
    "            'internet', \n",
    "            'romantic']:\n",
    "    students.loc[:, col] = students.loc[:, col].astype(str).apply(lambda x: 'no' if x.strip() == '' else 'no' if x == 'nan' else x)"
   ]
  },
  {
   "cell_type": "code",
   "execution_count": null,
   "metadata": {},
   "outputs": [],
   "source": [
    "#Посмотрим на распределение признака для числовых переменных с помощью boxplot:\n",
    "for col in ['age', \n",
    "            'Medu', \n",
    "            'Fedu', \n",
    "            'traveltime', \n",
    "            'studytime', \n",
    "            'failures', \n",
    "            'studytime, granular', \n",
    "            'famrel', \n",
    "            'freetime', \n",
    "            'goout', \n",
    "            'health', \n",
    "            'absences', \n",
    "            'score']:\n",
    "        students.loc[:, col].plot(kind='box', grid=True)\n",
    "        plt.show()"
   ]
  },
  {
   "cell_type": "code",
   "execution_count": null,
   "metadata": {},
   "outputs": [],
   "source": [
    "#Рассмотрим выбросы:\n",
    "#Возраст (age) 22 года - это не выброс. Оставим в датасете.\n",
    "#Образование отца (Fedu) равно 40 - это явный выброс. Заменим на 'None':\n",
    "students.loc[students['Fedu'] > 4,'Fedu'] = None\n",
    "#График boxplot количества внеучебных неудач (failures) объясняется модой значений равной 0.\n",
    "#Значения внеучебных неудач (failures) отличные от 0 - это не выбросы.\n",
    "#Cемейные отношения (famrel) равное -1 - это явный выброс. Заменим на 'None':\n",
    "students.loc[students['famrel'] < 0,'famrel'] = None\n",
    "#График количества пропущенных занятий (absences) содержит явные выбросы с большим количеством прогулов. \n",
    "#С этими людьми нужно работать отдельно:\n",
    "truants = students[students.absences > 50]\n",
    "#В результате работы выделим отдельно этот датасет, убирая прогульщиков из основного датасета:\n",
    "students = students[students.absences <= 50]\n",
    "#По распределению признака для числовых переменных заметно большое количество оценок 0 для студентов (37 значений). \n",
    "#Создадим для них отдельный датасет:\n",
    "bad_result = students[students.score == 0]\n",
    "#Возможно и стоит их рассмотреть отдельно, в результате работы выделим этот момент. \n",
    "#Но из основного датасета их убирать не будем.\n",
    "#Также удалим данные с неизвестной оценкой:\n",
    "students = students[students.score != None]"
   ]
  },
  {
   "cell_type": "code",
   "execution_count": null,
   "metadata": {},
   "outputs": [],
   "source": [
    "#Проведем корреляционный анализ количественных переменных:\n",
    "students.corr()"
   ]
  },
  {
   "cell_type": "code",
   "execution_count": null,
   "metadata": {},
   "outputs": [],
   "source": [
    "#Самые не коррелирующие с оценкой данные: \n",
    "#Семейные отношения (famrel); \n",
    "#Свободное время (freetime);\n",
    "#Здоровье (health);\n",
    "#Прогулы (absences)."
   ]
  },
  {
   "cell_type": "code",
   "execution_count": null,
   "metadata": {},
   "outputs": [],
   "source": [
    "#Самый заметный фактор влияющий на оценку: \n",
    "#Обратная кореляция с количеством жизненных неудач - чем неудач больше, тем ниже оценка."
   ]
  },
  {
   "cell_type": "code",
   "execution_count": null,
   "metadata": {},
   "outputs": [],
   "source": [
    "#Посмотрим на распределение оценки (score) для каждого параметра с помощью boxplot:\n",
    "for col in students:\n",
    "    get_boxplot(col)"
   ]
  },
  {
   "cell_type": "code",
   "execution_count": null,
   "metadata": {},
   "outputs": [],
   "source": [
    "#Среди факторов не влияющих на оценку можно выделить следующие параметры:\n",
    "#Работа отца (Fjob);\n",
    "#Причина выбора школы (reason); \n",
    "#Внеучебные занятия (activities); \n",
    "#Посещение детского сада (nursery)."
   ]
  },
  {
   "cell_type": "code",
   "execution_count": null,
   "metadata": {},
   "outputs": [],
   "source": [
    "#На графиках явно видно, что прогулы (absences) влияют на оценку, несмотря на корреляционный анализ\n",
    "#Большое количество прогулов сильно снижает среднюю оценку."
   ]
  },
  {
   "cell_type": "code",
   "execution_count": null,
   "metadata": {},
   "outputs": [],
   "source": [
    "#Создадим датасет модели и запишем в него оценку (score):\n",
    "students_model = pd.DataFrame({})\n",
    "students_model['score'] = students['score']"
   ]
  },
  {
   "cell_type": "code",
   "execution_count": null,
   "metadata": {
    "scrolled": false
   },
   "outputs": [],
   "source": [
    "#Проанализируем переменные которые влияют на итоговую оценку (score):\n",
    "for col in students:\n",
    "    check = get_stat_dif(col)\n",
    "    if check == 1:\n",
    "        students_model.loc[:, [col]] = students.loc[:, [col]]\n",
    "        #В модель запишем переменные которые влияют на оценку (score):"
   ]
  },
  {
   "cell_type": "code",
   "execution_count": null,
   "metadata": {},
   "outputs": [],
   "source": [
    "#Проверим, отличаются ли данные для первоначального датасета и преобразованного:\n",
    "data_check = data[data.score != None]\n",
    "for col in data_check:\n",
    "    check = get_stat_dif(col)\n",
    "#Так мы убедимся, что не потеряли ни один важный параметр из-за преобразования данных."
   ]
  },
  {
   "cell_type": "code",
   "execution_count": null,
   "metadata": {},
   "outputs": [],
   "source": [
    "#Как видим выбранные параметры для преобразованного датасета не отличаются от первоначального."
   ]
  },
  {
   "cell_type": "code",
   "execution_count": null,
   "metadata": {},
   "outputs": [],
   "source": [
    "#Осмотрим полученные данные для модели:\n",
    "students_model"
   ]
  },
  {
   "cell_type": "code",
   "execution_count": null,
   "metadata": {},
   "outputs": [],
   "source": [
    "# Результаты работы\n",
    "#Преобразованы данные, пропущеные данные заменены, сохранен не преобразованный датасет (data);\n",
    "#Устранены выбросы, также из датасета (students) убраны прогульщики (больше 50 прогулов) и сохранены в \n",
    "#отдельный датасет (truants);\n",
    "#Стоит обратит внимание на большое количество нулевых результатов. Из датасета (students) они не были \n",
    "#убраны, но создан отдельный датасет (bad_result);\n",
    "#Выбраны параметры, сильно влияющие на успеваемость по математике;\n",
    "#Выбранные параметры для преобразованного датасета (students) не отличаются от первоначального (data).\n",
    "#Создан датасет с выбранными параметрами для модели (students_model)."
   ]
  }
 ],
 "metadata": {
  "kernelspec": {
   "display_name": "Python 3",
   "language": "python",
   "name": "python3"
  },
  "language_info": {
   "codemirror_mode": {
    "name": "ipython",
    "version": 3
   },
   "file_extension": ".py",
   "mimetype": "text/x-python",
   "name": "python",
   "nbconvert_exporter": "python",
   "pygments_lexer": "ipython3",
   "version": "3.8.5"
  }
 },
 "nbformat": 4,
 "nbformat_minor": 4
}
