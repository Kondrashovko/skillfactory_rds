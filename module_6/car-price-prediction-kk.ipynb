{
 "cells": [
  {
   "cell_type": "markdown",
   "metadata": {},
   "source": [
    "# Прогнозирование стоимости автомобиля"
   ]
  },
  {
   "cell_type": "markdown",
   "metadata": {},
   "source": [
    "### Цель проекта\n",
    "Подобрать выбрать оптимальный тип и параметры модели для определения цены автомобиля по характеристикам."
   ]
  },
  {
   "cell_type": "markdown",
   "metadata": {},
   "source": [
    "### Задачи:\n",
    "1. Создать тренировочный датасет, используя объявления с сайта auto.ru;\n",
    "2. Обработать тренировочный и тестовый датасеты;\n",
    "3. Поработать с дубликатами, пропусками;\n",
    "4. Провести EDA;\n",
    "5. Сделать Feature Engineering;\n",
    "6. Перебрать модели обучения из разных библиотек и выбрать лучшую;\n",
    "7. Провести подбор оптимальных параметров моделей."
   ]
  },
  {
   "cell_type": "markdown",
   "metadata": {},
   "source": [
    "### 1. Импортируем библиотеки необходимые для обработки данных"
   ]
  },
  {
   "cell_type": "code",
   "execution_count": 1,
   "metadata": {
    "execution": {
     "iopub.execute_input": "2022-02-01T11:10:35.999603Z",
     "iopub.status.busy": "2022-02-01T11:10:35.999253Z",
     "iopub.status.idle": "2022-02-01T11:10:38.777184Z",
     "shell.execute_reply": "2022-02-01T11:10:38.776397Z",
     "shell.execute_reply.started": "2022-02-01T11:10:35.999516Z"
    }
   },
   "outputs": [],
   "source": [
    "import numpy as np \n",
    "import pandas as pd \n",
    "import pandas_profiling\n",
    "import warnings\n",
    "warnings.simplefilter('ignore')\n",
    "import sys\n",
    "import time\n",
    "from datetime import datetime\n",
    "import matplotlib.pyplot as plt\n",
    "import seaborn as sns\n",
    "from sklearn.preprocessing import PolynomialFeatures, LabelEncoder, StandardScaler\n",
    "from sklearn.model_selection import train_test_split, KFold\n",
    "from tqdm.notebook import tqdm\n",
    "from sklearn.neighbors import KNeighborsRegressor\n",
    "from catboost import CatBoostRegressor\n",
    "from sklearn.feature_selection import f_classif, mutual_info_classif\n",
    "from sklearn.model_selection import GridSearchCV, train_test_split\n",
    "from sklearn.linear_model import LinearRegression\n",
    "from sklearn.ensemble import RandomForestRegressor, GradientBoostingRegressor, ExtraTreesRegressor\n",
    "from sklearn.base import clone\n",
    "import xgboost as xgb"
   ]
  },
  {
   "cell_type": "markdown",
   "metadata": {},
   "source": [
    "Зададим параметры отображения dataframe без ограничения количества столбцов и 30 строк по умолчанию:"
   ]
  },
  {
   "cell_type": "code",
   "execution_count": 2,
   "metadata": {
    "execution": {
     "iopub.execute_input": "2022-02-01T11:10:38.779178Z",
     "iopub.status.busy": "2022-02-01T11:10:38.778969Z",
     "iopub.status.idle": "2022-02-01T11:10:38.783109Z",
     "shell.execute_reply": "2022-02-01T11:10:38.782173Z",
     "shell.execute_reply.started": "2022-02-01T11:10:38.779152Z"
    }
   },
   "outputs": [],
   "source": [
    "pd.options.display.max_columns = None\n",
    "pd.options.display.max_rows = 30"
   ]
  },
  {
   "cell_type": "markdown",
   "metadata": {},
   "source": [
    "### 2.Проверим версию пакетов"
   ]
  },
  {
   "cell_type": "code",
   "execution_count": 3,
   "metadata": {
    "execution": {
     "iopub.execute_input": "2022-02-01T11:10:38.784735Z",
     "iopub.status.busy": "2022-02-01T11:10:38.784399Z",
     "iopub.status.idle": "2022-02-01T11:10:38.796585Z",
     "shell.execute_reply": "2022-02-01T11:10:38.795849Z",
     "shell.execute_reply.started": "2022-02-01T11:10:38.784676Z"
    }
   },
   "outputs": [],
   "source": [
    "print('Python       :', sys.version.split('\\n')[0])\n",
    "print('Numpy        :', np.__version__)"
   ]
  },
  {
   "cell_type": "code",
   "execution_count": 4,
   "metadata": {
    "execution": {
     "iopub.execute_input": "2022-02-01T11:10:38.798691Z",
     "iopub.status.busy": "2022-02-01T11:10:38.798135Z",
     "iopub.status.idle": "2022-02-01T11:10:43.116562Z",
     "shell.execute_reply": "2022-02-01T11:10:43.115667Z",
     "shell.execute_reply.started": "2022-02-01T11:10:38.798658Z"
    }
   },
   "outputs": [],
   "source": [
    "!pip freeze > requirements.txt"
   ]
  },
  {
   "cell_type": "markdown",
   "metadata": {},
   "source": [
    "### 3. Функции для обработки данных"
   ]
  },
  {
   "cell_type": "markdown",
   "metadata": {},
   "source": [
    "Фиксируем RANDOM_SEED:"
   ]
  },
  {
   "cell_type": "code",
   "execution_count": 5,
   "metadata": {
    "execution": {
     "iopub.execute_input": "2022-02-01T11:10:43.119607Z",
     "iopub.status.busy": "2022-02-01T11:10:43.119346Z",
     "iopub.status.idle": "2022-02-01T11:10:43.123511Z",
     "shell.execute_reply": "2022-02-01T11:10:43.122961Z",
     "shell.execute_reply.started": "2022-02-01T11:10:43.119574Z"
    }
   },
   "outputs": [],
   "source": [
    "RANDOM_SEED = 42"
   ]
  },
  {
   "cell_type": "markdown",
   "metadata": {},
   "source": [
    "Запишем функцию для вычисления итоговой метрики:"
   ]
  },
  {
   "cell_type": "code",
   "execution_count": 6,
   "metadata": {
    "execution": {
     "iopub.execute_input": "2022-02-01T11:10:43.125351Z",
     "iopub.status.busy": "2022-02-01T11:10:43.124568Z",
     "iopub.status.idle": "2022-02-01T11:10:43.135870Z",
     "shell.execute_reply": "2022-02-01T11:10:43.135090Z",
     "shell.execute_reply.started": "2022-02-01T11:10:43.125308Z"
    }
   },
   "outputs": [],
   "source": [
    "def mape(y_true, y_pred):\n",
    "    return np.mean(np.abs((y_pred-y_true)/y_true))"
   ]
  },
  {
   "cell_type": "markdown",
   "metadata": {},
   "source": [
    "Подсчет количества выбросов:"
   ]
  },
  {
   "cell_type": "code",
   "execution_count": 7,
   "metadata": {
    "execution": {
     "iopub.execute_input": "2022-02-01T11:10:43.137336Z",
     "iopub.status.busy": "2022-02-01T11:10:43.136810Z",
     "iopub.status.idle": "2022-02-01T11:10:43.147015Z",
     "shell.execute_reply": "2022-02-01T11:10:43.146202Z",
     "shell.execute_reply.started": "2022-02-01T11:10:43.137300Z"
    }
   },
   "outputs": [],
   "source": [
    "def data_outliers(column):  \n",
    "    Q1 = column.quantile(0.25)\n",
    "    Q3 = column.quantile(0.75)\n",
    "    IQR = Q3 - Q1\n",
    "    min_meaning = Q1 - 1.5 * IQR\n",
    "    max_meaning = Q3 + 1.5 * IQR\n",
    "    return (column < min_meaning).sum() + (column > max_meaning).sum(), min_meaning, max_meaning"
   ]
  },
  {
   "cell_type": "markdown",
   "metadata": {},
   "source": [
    "Построение boxplot:"
   ]
  },
  {
   "cell_type": "code",
   "execution_count": 8,
   "metadata": {
    "execution": {
     "iopub.execute_input": "2022-02-01T11:10:43.148575Z",
     "iopub.status.busy": "2022-02-01T11:10:43.148088Z",
     "iopub.status.idle": "2022-02-01T11:10:43.156580Z",
     "shell.execute_reply": "2022-02-01T11:10:43.155895Z",
     "shell.execute_reply.started": "2022-02-01T11:10:43.148531Z"
    }
   },
   "outputs": [],
   "source": [
    "def get_boxplot(df, col):\n",
    "    fig, axes = plt.subplots(figsize = (14, 4))\n",
    "    sns.boxplot(x='price', y=col, data=df, ax=axes)\n",
    "    axes.set_title('Boxplot for ' + col)\n",
    "    plt.show()"
   ]
  },
  {
   "cell_type": "markdown",
   "metadata": {},
   "source": [
    "### 4.Код парсинга"
   ]
  },
  {
   "cell_type": "markdown",
   "metadata": {},
   "source": [
    "Код прасинга получился очень затратным по времени, поэтому было принято решение о паралельной разработке.\n",
    "\n",
    "Паралельно парсилась база данных и проходил обработку начальный датасет.\n",
    "\n",
    "Прилагаю ссылку Parcing_code на github:\n",
    "\n",
    "[Parcing_code.ipynb](https://github.com/Kondrashovko/skillfactory_rds/blob/main/module_6/Parcing_code.ipynb)"
   ]
  },
  {
   "cell_type": "markdown",
   "metadata": {},
   "source": [
    "### 5.Импортируем данные необходимые для построения модели"
   ]
  },
  {
   "cell_type": "markdown",
   "metadata": {},
   "source": [
    "Пропишем путь для датасетов:"
   ]
  },
  {
   "cell_type": "code",
   "execution_count": 9,
   "metadata": {
    "execution": {
     "iopub.execute_input": "2022-02-01T11:10:43.158365Z",
     "iopub.status.busy": "2022-02-01T11:10:43.157703Z",
     "iopub.status.idle": "2022-02-01T11:10:43.167386Z",
     "shell.execute_reply": "2022-02-01T11:10:43.166774Z",
     "shell.execute_reply.started": "2022-02-01T11:10:43.158334Z"
    }
   },
   "outputs": [],
   "source": [
    "path = '../input/sf-dst-car-price-prediction/'\n",
    "#'D:/Python/files/ML/Itog_7/' "
   ]
  },
  {
   "cell_type": "markdown",
   "metadata": {},
   "source": [
    "Подгрузим test, осмотрим данные и опишем параметры:"
   ]
  },
  {
   "cell_type": "code",
   "execution_count": 10,
   "metadata": {
    "execution": {
     "iopub.execute_input": "2022-02-01T11:10:43.168912Z",
     "iopub.status.busy": "2022-02-01T11:10:43.168645Z",
     "iopub.status.idle": "2022-02-01T11:10:46.683978Z",
     "shell.execute_reply": "2022-02-01T11:10:46.683106Z",
     "shell.execute_reply.started": "2022-02-01T11:10:43.168883Z"
    }
   },
   "outputs": [],
   "source": [
    "test = pd.read_csv(path+'test.csv')"
   ]
  },
  {
   "cell_type": "code",
   "execution_count": 11,
   "metadata": {
    "execution": {
     "iopub.execute_input": "2022-02-01T11:10:46.685953Z",
     "iopub.status.busy": "2022-02-01T11:10:46.685273Z",
     "iopub.status.idle": "2022-02-01T11:10:46.818827Z",
     "shell.execute_reply": "2022-02-01T11:10:46.817894Z",
     "shell.execute_reply.started": "2022-02-01T11:10:46.685907Z"
    }
   },
   "outputs": [],
   "source": [
    "test.info()"
   ]
  },
  {
   "cell_type": "code",
   "execution_count": 12,
   "metadata": {
    "execution": {
     "iopub.execute_input": "2022-02-01T11:10:46.820216Z",
     "iopub.status.busy": "2022-02-01T11:10:46.819994Z",
     "iopub.status.idle": "2022-02-01T11:10:46.858964Z",
     "shell.execute_reply": "2022-02-01T11:10:46.858046Z",
     "shell.execute_reply.started": "2022-02-01T11:10:46.820187Z"
    }
   },
   "outputs": [],
   "source": [
    "test.sample(5)"
   ]
  },
  {
   "cell_type": "markdown",
   "metadata": {},
   "source": [
    "В наборе данных следующие признаки:\n",
    "* bodyType - тип кузова;\n",
    "* brand - марка автомобиля;\n",
    "* car_url - url страницы объявления;\n",
    "* color - цвет автомобиля;\n",
    "* complectation_dict - комплектация автомобиля;\n",
    "* description - описание продавца;\n",
    "* engineDisplacement - объём двигателя;\n",
    "* enginePower - мощность двигателя;\n",
    "* equipment_dict - дополнительные модули, установленные в автомобиль;\n",
    "* fuelType - тип топлива;\n",
    "* image - ссылка на картинку;\n",
    "* mileage - пробег;\n",
    "* modelDate - дата релиза модели;\n",
    "* model_info - информация о модели автомобиля;\n",
    "* model_name - модель автомобиля;\n",
    "* name - имя, введенное пользователем;\n",
    "* numberOfDoors - количество дверей;\n",
    "* parsing_unixtime - время парсинга данных;\n",
    "* priceCurrency - валюта указанной цены;\n",
    "* production_date - дата производства автомобиля;\n",
    "* sell_id - уникальный индетификатор продавца;\n",
    "* super_gen - дополнительные параметры автомобиля;\n",
    "* vehicleConfiguration - конфигурация транспортного средства (ТС);\n",
    "* vehicleTransmission - тип коробки передач;\n",
    "* vendor - страна производитель\n",
    "* Владельцы - количество владельцев;\n",
    "* Владение - время владения автомобилем;\n",
    "* ПТС - паспорт ТС;\n",
    "* Привод - тип привода;\n",
    "* Руль - сторона руля;\n",
    "* Состояние - состояние автомобиля;\n",
    "* Таможня - этап растаможки;\n",
    "\n",
    "Признаки могут оказаться малополезными и от их использования можно отказаться. \n",
    "\n",
    "Будем приводить параметры обучающего датасета к этим параметрам.\n",
    "\n",
    "Также если в обучающем датасете не будет этих параметров, то либо придется парсить заново, либо удалить эти параметры."
   ]
  },
  {
   "cell_type": "markdown",
   "metadata": {},
   "source": [
    "Датасет для обучения модели:"
   ]
  },
  {
   "cell_type": "code",
   "execution_count": 13,
   "metadata": {
    "execution": {
     "iopub.execute_input": "2022-02-01T11:10:46.861282Z",
     "iopub.status.busy": "2022-02-01T11:10:46.860436Z",
     "iopub.status.idle": "2022-02-01T11:10:52.894204Z",
     "shell.execute_reply": "2022-02-01T11:10:52.893391Z",
     "shell.execute_reply.started": "2022-02-01T11:10:46.861245Z"
    }
   },
   "outputs": [],
   "source": [
    "train = pd.read_csv('../input/car-list-final/cars_list_final.csv') \n",
    "#train = pd.read_csv('../input/car-list/cars_list.csv') \n",
    "#train = pd.read_csv(path+'cars_list.csv')"
   ]
  },
  {
   "cell_type": "code",
   "execution_count": 14,
   "metadata": {
    "execution": {
     "iopub.execute_input": "2022-02-01T11:10:52.899524Z",
     "iopub.status.busy": "2022-02-01T11:10:52.899305Z",
     "iopub.status.idle": "2022-02-01T11:10:53.173542Z",
     "shell.execute_reply": "2022-02-01T11:10:53.172546Z",
     "shell.execute_reply.started": "2022-02-01T11:10:52.899497Z"
    }
   },
   "outputs": [],
   "source": [
    "train.info()"
   ]
  },
  {
   "cell_type": "code",
   "execution_count": 15,
   "metadata": {
    "execution": {
     "iopub.execute_input": "2022-02-01T11:10:53.175352Z",
     "iopub.status.busy": "2022-02-01T11:10:53.175033Z",
     "iopub.status.idle": "2022-02-01T11:10:53.213144Z",
     "shell.execute_reply": "2022-02-01T11:10:53.212095Z",
     "shell.execute_reply.started": "2022-02-01T11:10:53.175307Z"
    }
   },
   "outputs": [],
   "source": [
    "train.sample(5)"
   ]
  },
  {
   "cell_type": "markdown",
   "metadata": {},
   "source": [
    "В присутсвуют новые параметры. Описывать их нет смысла - таких параметров нет в тестовом датасете, и они подлежат удалению.\n",
    "\n",
    "Также, некоторые параметры отличаются по своему содержанию и названию столбцов. Исправим все и приведем к общему виду при первичной обработке данных."
   ]
  },
  {
   "cell_type": "markdown",
   "metadata": {},
   "source": [
    "Загрузим sample_submission:"
   ]
  },
  {
   "cell_type": "code",
   "execution_count": 16,
   "metadata": {
    "execution": {
     "iopub.execute_input": "2022-02-01T11:10:53.215026Z",
     "iopub.status.busy": "2022-02-01T11:10:53.214729Z",
     "iopub.status.idle": "2022-02-01T11:10:53.244799Z",
     "shell.execute_reply": "2022-02-01T11:10:53.243912Z",
     "shell.execute_reply.started": "2022-02-01T11:10:53.214993Z"
    }
   },
   "outputs": [],
   "source": [
    "sample_submission = pd.read_csv(path+'sample_submission.csv')"
   ]
  },
  {
   "cell_type": "markdown",
   "metadata": {},
   "source": [
    "### 6.Preprocessing"
   ]
  },
  {
   "cell_type": "markdown",
   "metadata": {},
   "source": [
    "Большинство параметров представленных в тестовой выборке присутствуют и в обучающей выборке, только они имеют другие параметры. \n",
    "\n",
    "Обработаем обучающий датасет и приведем данные к общему знаменателю."
   ]
  },
  {
   "cell_type": "markdown",
   "metadata": {},
   "source": [
    "#### 6.1. engineDisplacement и fuelType"
   ]
  },
  {
   "cell_type": "markdown",
   "metadata": {},
   "source": [
    "##### 6.1.a. Топливные автомобили"
   ]
  },
  {
   "cell_type": "markdown",
   "metadata": {},
   "source": [
    "Для начала обработаем автомобили на топливе, электроавтомобили обработаем ниже:"
   ]
  },
  {
   "cell_type": "markdown",
   "metadata": {},
   "source": [
    "Объем двигателя в обучающей модели можно извлечь из параметра 'Двигатель':"
   ]
  },
  {
   "cell_type": "code",
   "execution_count": 17,
   "metadata": {
    "execution": {
     "iopub.execute_input": "2022-02-01T11:10:53.247237Z",
     "iopub.status.busy": "2022-02-01T11:10:53.246994Z",
     "iopub.status.idle": "2022-02-01T11:10:53.282992Z",
     "shell.execute_reply": "2022-02-01T11:10:53.282378Z",
     "shell.execute_reply.started": "2022-02-01T11:10:53.247206Z"
    }
   },
   "outputs": [],
   "source": [
    "train.engineDisplacement = train.Двигатель.apply(lambda x: x[:4])"
   ]
  },
  {
   "cell_type": "markdown",
   "metadata": {},
   "source": [
    "Также в тестовой выборке оставим только сам объем двигателя:"
   ]
  },
  {
   "cell_type": "code",
   "execution_count": 18,
   "metadata": {
    "execution": {
     "iopub.execute_input": "2022-02-01T11:10:53.284784Z",
     "iopub.status.busy": "2022-02-01T11:10:53.284034Z",
     "iopub.status.idle": "2022-02-01T11:10:53.303484Z",
     "shell.execute_reply": "2022-02-01T11:10:53.302766Z",
     "shell.execute_reply.started": "2022-02-01T11:10:53.284745Z"
    }
   },
   "outputs": [],
   "source": [
    "test.engineDisplacement = test.engineDisplacement.apply(lambda x: x[:4])"
   ]
  },
  {
   "cell_type": "markdown",
   "metadata": {},
   "source": [
    "Установить какой тип топлива используется в автомобиле мы не можем, поэтому применяем топлива для всех автомобилей:"
   ]
  },
  {
   "cell_type": "code",
   "execution_count": 19,
   "metadata": {
    "execution": {
     "iopub.execute_input": "2022-02-01T11:10:53.304771Z",
     "iopub.status.busy": "2022-02-01T11:10:53.304546Z",
     "iopub.status.idle": "2022-02-01T11:10:53.311887Z",
     "shell.execute_reply": "2022-02-01T11:10:53.311041Z",
     "shell.execute_reply.started": "2022-02-01T11:10:53.304735Z"
    }
   },
   "outputs": [],
   "source": [
    "train['fuelType'] = 'Топливо'"
   ]
  },
  {
   "cell_type": "markdown",
   "metadata": {},
   "source": [
    "Также заменим на топливо и в тестовом датасете:"
   ]
  },
  {
   "cell_type": "code",
   "execution_count": 20,
   "metadata": {
    "execution": {
     "iopub.execute_input": "2022-02-01T11:10:53.313476Z",
     "iopub.status.busy": "2022-02-01T11:10:53.313161Z",
     "iopub.status.idle": "2022-02-01T11:10:53.339931Z",
     "shell.execute_reply": "2022-02-01T11:10:53.339248Z",
     "shell.execute_reply.started": "2022-02-01T11:10:53.313447Z"
    }
   },
   "outputs": [],
   "source": [
    "fuel_dict = {'бензин':'Топливо', \n",
    "             'дизель':'Топливо', \n",
    "             'гибрид':'Гибрид', \n",
    "             'электро':'Электро', \n",
    "             'газ':'Топливо'}\n",
    "test['fuelType'] = test['fuelType'].replace(to_replace=fuel_dict)"
   ]
  },
  {
   "cell_type": "markdown",
   "metadata": {},
   "source": [
    "Мощность двигателя в обучающей выборке можно извлечь из параметра 'Двигатель':"
   ]
  },
  {
   "cell_type": "code",
   "execution_count": 21,
   "metadata": {
    "execution": {
     "iopub.execute_input": "2022-02-01T11:10:53.341383Z",
     "iopub.status.busy": "2022-02-01T11:10:53.341036Z",
     "iopub.status.idle": "2022-02-01T11:10:53.499545Z",
     "shell.execute_reply": "2022-02-01T11:10:53.498733Z",
     "shell.execute_reply.started": "2022-02-01T11:10:53.341356Z"
    }
   },
   "outputs": [],
   "source": [
    "train.enginePower = train.Двигатель.apply(lambda x: x[9:12])\n",
    "train.enginePower = train.enginePower.str.replace('/ ', '0')\n",
    "train.enginePower = train.enginePower.apply(lambda x: int(x))"
   ]
  },
  {
   "cell_type": "markdown",
   "metadata": {},
   "source": [
    "В тестовой выборке только мощность:"
   ]
  },
  {
   "cell_type": "code",
   "execution_count": 22,
   "metadata": {
    "execution": {
     "iopub.execute_input": "2022-02-01T11:10:53.501190Z",
     "iopub.status.busy": "2022-02-01T11:10:53.500967Z",
     "iopub.status.idle": "2022-02-01T11:10:53.556900Z",
     "shell.execute_reply": "2022-02-01T11:10:53.556040Z",
     "shell.execute_reply.started": "2022-02-01T11:10:53.501156Z"
    }
   },
   "outputs": [],
   "source": [
    "test.enginePower = test.enginePower.apply(lambda x: int(x[:3]))"
   ]
  },
  {
   "cell_type": "markdown",
   "metadata": {},
   "source": [
    "##### 6.1.b. Электроавтомобили"
   ]
  },
  {
   "cell_type": "markdown",
   "metadata": {},
   "source": [
    "Электроавтомобилей не так много и из обработка требует немного другого подхода. Поэтому переберем все данные и извлечем данные двигателя для обучающих и тестовых данных:"
   ]
  },
  {
   "cell_type": "code",
   "execution_count": 23,
   "metadata": {
    "execution": {
     "iopub.execute_input": "2022-02-01T11:10:53.558107Z",
     "iopub.status.busy": "2022-02-01T11:10:53.557908Z",
     "iopub.status.idle": "2022-02-01T11:10:54.699171Z",
     "shell.execute_reply": "2022-02-01T11:10:54.698303Z",
     "shell.execute_reply.started": "2022-02-01T11:10:53.558082Z"
    }
   },
   "outputs": [],
   "source": [
    "for i in range(len(train)):\n",
    "    if 'Электро' in train.Двигатель[i]:\n",
    "        train.enginePower[i] = 0\n",
    "        train['fuelType'][i] = 'Электро'"
   ]
  },
  {
   "cell_type": "code",
   "execution_count": 24,
   "metadata": {
    "execution": {
     "iopub.execute_input": "2022-02-01T11:10:54.700600Z",
     "iopub.status.busy": "2022-02-01T11:10:54.700365Z",
     "iopub.status.idle": "2022-02-01T11:10:55.169691Z",
     "shell.execute_reply": "2022-02-01T11:10:55.168973Z",
     "shell.execute_reply.started": "2022-02-01T11:10:54.700569Z"
    }
   },
   "outputs": [],
   "source": [
    "for i in range(len(test)):\n",
    "    if 'Electro' in test.name[i]:        \n",
    "        test.engineDisplacement[i] = 0"
   ]
  },
  {
   "cell_type": "markdown",
   "metadata": {},
   "source": [
    "Рабочий объем элетродвигателя связан с топливом, поэтому параметр 'engineDisplacement' запишем равный 0."
   ]
  },
  {
   "cell_type": "markdown",
   "metadata": {},
   "source": [
    "##### 6.1.c. Приведение к численным параметрам"
   ]
  },
  {
   "cell_type": "markdown",
   "metadata": {},
   "source": [
    "Запишем новые данные в датасет:"
   ]
  },
  {
   "cell_type": "code",
   "execution_count": 25,
   "metadata": {
    "execution": {
     "iopub.execute_input": "2022-02-01T11:10:55.171693Z",
     "iopub.status.busy": "2022-02-01T11:10:55.170926Z",
     "iopub.status.idle": "2022-02-01T11:10:55.180263Z",
     "shell.execute_reply": "2022-02-01T11:10:55.179456Z",
     "shell.execute_reply.started": "2022-02-01T11:10:55.171646Z"
    }
   },
   "outputs": [],
   "source": [
    "train['enginePower'] = train.enginePower\n",
    "test['enginePower'] = test.enginePower\n",
    "train['engineDisplacement'] = train.engineDisplacement\n",
    "test['engineDisplacement'] = test.engineDisplacement"
   ]
  },
  {
   "cell_type": "markdown",
   "metadata": {},
   "source": [
    "Переведем engineDisplacement в float64:"
   ]
  },
  {
   "cell_type": "code",
   "execution_count": 26,
   "metadata": {
    "execution": {
     "iopub.execute_input": "2022-02-01T11:10:55.181755Z",
     "iopub.status.busy": "2022-02-01T11:10:55.181505Z",
     "iopub.status.idle": "2022-02-01T11:10:55.226906Z",
     "shell.execute_reply": "2022-02-01T11:10:55.226230Z",
     "shell.execute_reply.started": "2022-02-01T11:10:55.181699Z"
    }
   },
   "outputs": [],
   "source": [
    "train['engineDisplacement'] = train['engineDisplacement'].astype('float64')\n",
    "test['engineDisplacement'] = test['engineDisplacement'].astype('float64')"
   ]
  },
  {
   "cell_type": "markdown",
   "metadata": {},
   "source": [
    "#### 6.2. Пробег"
   ]
  },
  {
   "cell_type": "markdown",
   "metadata": {},
   "source": [
    "Пробег имеет лишние пробелы и подпись 'км'. избавимся от них. "
   ]
  },
  {
   "cell_type": "code",
   "execution_count": 27,
   "metadata": {
    "execution": {
     "iopub.execute_input": "2022-02-01T11:10:55.229617Z",
     "iopub.status.busy": "2022-02-01T11:10:55.228788Z",
     "iopub.status.idle": "2022-02-01T11:10:55.423030Z",
     "shell.execute_reply": "2022-02-01T11:10:55.422390Z",
     "shell.execute_reply.started": "2022-02-01T11:10:55.229568Z"
    }
   },
   "outputs": [],
   "source": [
    "train['Пробег'] = train['Пробег'].str.replace(' ', '')\n",
    "train['Пробег'] = train['Пробег'].apply(lambda x: int(x[:-2]))"
   ]
  },
  {
   "cell_type": "markdown",
   "metadata": {},
   "source": [
    "Позже переименуем колонку в 'mileage' как в тестовом датасете. "
   ]
  },
  {
   "cell_type": "markdown",
   "metadata": {},
   "source": [
    "#### 6.3. name"
   ]
  },
  {
   "cell_type": "markdown",
   "metadata": {},
   "source": [
    "Имя модели параметр текстовый и из него мало чего получить при обучении модели. Поэтому удалим брэнд и  все вариации описания модели:"
   ]
  },
  {
   "cell_type": "code",
   "execution_count": 28,
   "metadata": {
    "execution": {
     "iopub.execute_input": "2022-02-01T11:10:55.424764Z",
     "iopub.status.busy": "2022-02-01T11:10:55.424348Z",
     "iopub.status.idle": "2022-02-01T11:10:55.485361Z",
     "shell.execute_reply": "2022-02-01T11:10:55.484752Z",
     "shell.execute_reply.started": "2022-02-01T11:10:55.424733Z"
    }
   },
   "outputs": [],
   "source": [
    "train['name'] = train.name.apply(lambda x: x.split(' ')[1].upper())"
   ]
  },
  {
   "cell_type": "markdown",
   "metadata": {},
   "source": [
    "Позже переименуем колонку в 'model_name' как в тестовом датасете. "
   ]
  },
  {
   "cell_type": "markdown",
   "metadata": {},
   "source": [
    "#### 6.4. numberOfDoors"
   ]
  },
  {
   "cell_type": "markdown",
   "metadata": {},
   "source": [
    "К сожалению в обучающей выборке не оказалось данных о количестве дверей. Их можно восстановить по типу кузова. Введем словарь для количества дверей:"
   ]
  },
  {
   "cell_type": "code",
   "execution_count": 29,
   "metadata": {
    "execution": {
     "iopub.execute_input": "2022-02-01T11:10:55.487151Z",
     "iopub.status.busy": "2022-02-01T11:10:55.486741Z",
     "iopub.status.idle": "2022-02-01T11:10:55.492952Z",
     "shell.execute_reply": "2022-02-01T11:10:55.492430Z",
     "shell.execute_reply.started": "2022-02-01T11:10:55.487120Z"
    }
   },
   "outputs": [],
   "source": [
    "doors_dict = {'лифтбек':5, \n",
    "              'внедорожник 5 дв.':5, \n",
    "              'седан':4, \n",
    "              'хэтчбек 5 дв.':5,\n",
    "              'универсал 5 дв.':5,\n",
    "              'минивэн':5,\n",
    "              'купе':5,\n",
    "              'хэтчбек 3 дв.':3,\n",
    "              'компактвэн':5,\n",
    "              'внедорожник 3 дв.':3,\n",
    "              'фургон':5,\n",
    "              'пикап двойная кабина':2,\n",
    "              'купе-хардтоп':2,\n",
    "              'кабриолет':4,\n",
    "              'родстер':2,\n",
    "              'фастбек':2,\n",
    "              'пикап одинарная кабина':2,\n",
    "              'пикап полуторная кабина':2,\n",
    "              'седан 2 дв.':2,\n",
    "              'тарга':2,\n",
    "              'внедорожник открытый':0,\n",
    "              'седан-хардтоп':4,\n",
    "              'лимузин':4,\n",
    "              'микровэн':5,\n",
    "              'хэтчбек 4 дв.':4,\n",
    "             }"
   ]
  },
  {
   "cell_type": "markdown",
   "metadata": {},
   "source": [
    "Также в обучающей выборке перед некоторыми параметрами спарсился пробел. Исправим это для кузова:"
   ]
  },
  {
   "cell_type": "code",
   "execution_count": 30,
   "metadata": {
    "execution": {
     "iopub.execute_input": "2022-02-01T11:10:55.494286Z",
     "iopub.status.busy": "2022-02-01T11:10:55.493777Z",
     "iopub.status.idle": "2022-02-01T11:10:55.543635Z",
     "shell.execute_reply": "2022-02-01T11:10:55.542935Z",
     "shell.execute_reply.started": "2022-02-01T11:10:55.494251Z"
    }
   },
   "outputs": [],
   "source": [
    "train['Кузов'] = train['Кузов'].apply(lambda x: x[1:])"
   ]
  },
  {
   "cell_type": "markdown",
   "metadata": {},
   "source": [
    "Восстановим количество дверей:"
   ]
  },
  {
   "cell_type": "code",
   "execution_count": 31,
   "metadata": {
    "execution": {
     "iopub.execute_input": "2022-02-01T11:10:55.545105Z",
     "iopub.status.busy": "2022-02-01T11:10:55.544901Z",
     "iopub.status.idle": "2022-02-01T11:10:55.562903Z",
     "shell.execute_reply": "2022-02-01T11:10:55.562113Z",
     "shell.execute_reply.started": "2022-02-01T11:10:55.545080Z"
    }
   },
   "outputs": [],
   "source": [
    "train['numberOfDoors']= train['Кузов'].map(doors_dict)"
   ]
  },
  {
   "cell_type": "markdown",
   "metadata": {},
   "source": [
    "##### 6.6. brand"
   ]
  },
  {
   "cell_type": "markdown",
   "metadata": {},
   "source": [
    "В обучающей выборке много брендов. Тогда как в тестовой их не так много:"
   ]
  },
  {
   "cell_type": "code",
   "execution_count": 32,
   "metadata": {
    "execution": {
     "iopub.execute_input": "2022-02-01T11:10:55.565149Z",
     "iopub.status.busy": "2022-02-01T11:10:55.564367Z",
     "iopub.status.idle": "2022-02-01T11:10:55.576304Z",
     "shell.execute_reply": "2022-02-01T11:10:55.575564Z",
     "shell.execute_reply.started": "2022-02-01T11:10:55.565100Z"
    }
   },
   "outputs": [],
   "source": [
    "Car_type = list(test['brand'].unique())\n",
    "Car_type"
   ]
  },
  {
   "cell_type": "markdown",
   "metadata": {},
   "source": [
    "Поскольку 'brand' - категориальный параметр, в котором нужно будет выбрать самые популярные марки, то лучше заранее оставить важные марки:"
   ]
  },
  {
   "cell_type": "code",
   "execution_count": 33,
   "metadata": {
    "execution": {
     "iopub.execute_input": "2022-02-01T11:10:55.578463Z",
     "iopub.status.busy": "2022-02-01T11:10:55.577933Z",
     "iopub.status.idle": "2022-02-01T11:10:55.615233Z",
     "shell.execute_reply": "2022-02-01T11:10:55.614525Z",
     "shell.execute_reply.started": "2022-02-01T11:10:55.578419Z"
    }
   },
   "outputs": [],
   "source": [
    "train['brand'] = train['brand'].apply(lambda x: x if x in Car_type else 'other')"
   ]
  },
  {
   "cell_type": "markdown",
   "metadata": {},
   "source": [
    "#### 6.6. vendor"
   ]
  },
  {
   "cell_type": "markdown",
   "metadata": {},
   "source": [
    "Восстановим вендора через словарь:"
   ]
  },
  {
   "cell_type": "code",
   "execution_count": 34,
   "metadata": {
    "execution": {
     "iopub.execute_input": "2022-02-01T11:10:55.616545Z",
     "iopub.status.busy": "2022-02-01T11:10:55.616317Z",
     "iopub.status.idle": "2022-02-01T11:10:55.624425Z",
     "shell.execute_reply": "2022-02-01T11:10:55.623898Z",
     "shell.execute_reply.started": "2022-02-01T11:10:55.616517Z"
    }
   },
   "outputs": [],
   "source": [
    "vendor_dict = {'BMW' : 'EUROPEAN', \n",
    "               'MERCEDES' : 'EUROPEAN', \n",
    "               'VOLKSWAGEN' : 'EUROPEAN', \n",
    "               'TOYOTA' : 'JAPANESE', \n",
    "               'NISSAN' : 'JAPANESE',\n",
    "               'AUDI' : 'EUROPEAN',\n",
    "               'SKODA' : 'EUROPEAN', \n",
    "               'MITSUBISHI' : 'JAPANESE',\n",
    "               'INFINITI' : 'JAPANESE', \n",
    "               'HONDA' : 'JAPANESE',\n",
    "               'VOLVO' : 'EUROPEAN',\n",
    "               'LEXUS' : 'JAPANESE',\n",
    "               'other': 'other'\n",
    "              }"
   ]
  },
  {
   "cell_type": "code",
   "execution_count": 35,
   "metadata": {
    "execution": {
     "iopub.execute_input": "2022-02-01T11:10:55.625869Z",
     "iopub.status.busy": "2022-02-01T11:10:55.625626Z",
     "iopub.status.idle": "2022-02-01T11:10:55.694814Z",
     "shell.execute_reply": "2022-02-01T11:10:55.693924Z",
     "shell.execute_reply.started": "2022-02-01T11:10:55.625842Z"
    }
   },
   "outputs": [],
   "source": [
    "train['vendor'] = train['brand'].replace(to_replace=vendor_dict)"
   ]
  },
  {
   "cell_type": "markdown",
   "metadata": {},
   "source": [
    "#### 6.7. price"
   ]
  },
  {
   "cell_type": "markdown",
   "metadata": {},
   "source": [
    "Цены для тестовой выборки неизвестны и поэтому равны 0:"
   ]
  },
  {
   "cell_type": "code",
   "execution_count": 36,
   "metadata": {
    "execution": {
     "iopub.execute_input": "2022-02-01T11:10:55.696451Z",
     "iopub.status.busy": "2022-02-01T11:10:55.696209Z",
     "iopub.status.idle": "2022-02-01T11:10:55.701044Z",
     "shell.execute_reply": "2022-02-01T11:10:55.700220Z",
     "shell.execute_reply.started": "2022-02-01T11:10:55.696422Z"
    }
   },
   "outputs": [],
   "source": [
    "test['price'] = 0"
   ]
  },
  {
   "cell_type": "markdown",
   "metadata": {},
   "source": [
    "#### 6.8. Обработка ошибок парсинга"
   ]
  },
  {
   "cell_type": "markdown",
   "metadata": {},
   "source": [
    "Также в обучающей выборке перед некоторыми параметрами спарсился пробел. Исправим это для всех замеченных параметров:"
   ]
  },
  {
   "cell_type": "code",
   "execution_count": 37,
   "metadata": {
    "execution": {
     "iopub.execute_input": "2022-02-01T11:10:55.703185Z",
     "iopub.status.busy": "2022-02-01T11:10:55.702539Z",
     "iopub.status.idle": "2022-02-01T11:10:55.890648Z",
     "shell.execute_reply": "2022-02-01T11:10:55.890024Z",
     "shell.execute_reply.started": "2022-02-01T11:10:55.703155Z"
    }
   },
   "outputs": [],
   "source": [
    "train['Коробка'] = train['Коробка'].apply(lambda x: x[1:])\n",
    "train['Привод'] = train['Привод'].apply(lambda x: x[1:])\n",
    "train['Руль'] = train['Руль'].apply(lambda x: x[1:])\n",
    "train['Состояние'] = train['Состояние'].apply(lambda x: x[1:])\n",
    "train['Таможня'] = train['Таможня'].apply(lambda x: x[1:])"
   ]
  },
  {
   "cell_type": "markdown",
   "metadata": {},
   "source": [
    "#### 6.9. Переименование колонок"
   ]
  },
  {
   "cell_type": "markdown",
   "metadata": {},
   "source": [
    "Переименуем колонки обучающей выборки в соответствие с тестовой выборкой:"
   ]
  },
  {
   "cell_type": "code",
   "execution_count": 38,
   "metadata": {
    "execution": {
     "iopub.execute_input": "2022-02-01T11:10:55.892119Z",
     "iopub.status.busy": "2022-02-01T11:10:55.891765Z",
     "iopub.status.idle": "2022-02-01T11:10:55.897441Z",
     "shell.execute_reply": "2022-02-01T11:10:55.896478Z",
     "shell.execute_reply.started": "2022-02-01T11:10:55.892090Z"
    }
   },
   "outputs": [],
   "source": [
    "train.rename(columns = {'Кузов' : 'bodyType', \n",
    "                        'url':'car_url', \n",
    "                        'name' : 'model_name',\n",
    "                        'Пробег':'mileage', \n",
    "                        'Коробка':'vehicleTransmission'}, inplace = True) "
   ]
  },
  {
   "cell_type": "markdown",
   "metadata": {},
   "source": [
    "#### 6.10. Очистка данных от дубликатов"
   ]
  },
  {
   "cell_type": "markdown",
   "metadata": {},
   "source": [
    "У каждого автомобиля своя уникальная ссылка. По ней и будем дубликаты:"
   ]
  },
  {
   "cell_type": "code",
   "execution_count": 39,
   "metadata": {
    "execution": {
     "iopub.execute_input": "2022-02-01T11:10:55.898942Z",
     "iopub.status.busy": "2022-02-01T11:10:55.898702Z",
     "iopub.status.idle": "2022-02-01T11:10:56.143440Z",
     "shell.execute_reply": "2022-02-01T11:10:56.142493Z",
     "shell.execute_reply.started": "2022-02-01T11:10:55.898914Z"
    }
   },
   "outputs": [],
   "source": [
    "train = train.drop_duplicates(subset=['car_url'])"
   ]
  },
  {
   "cell_type": "markdown",
   "metadata": {},
   "source": [
    "Проверим количество дубликатов:"
   ]
  },
  {
   "cell_type": "code",
   "execution_count": 40,
   "metadata": {
    "execution": {
     "iopub.execute_input": "2022-02-01T11:10:56.145971Z",
     "iopub.status.busy": "2022-02-01T11:10:56.145235Z",
     "iopub.status.idle": "2022-02-01T11:10:56.168415Z",
     "shell.execute_reply": "2022-02-01T11:10:56.167484Z",
     "shell.execute_reply.started": "2022-02-01T11:10:56.145933Z"
    }
   },
   "outputs": [],
   "source": [
    "train['car_url'].duplicated().sum()"
   ]
  },
  {
   "cell_type": "markdown",
   "metadata": {},
   "source": [
    "#### 6.11. Сохранение данных перед очисткой"
   ]
  },
  {
   "cell_type": "markdown",
   "metadata": {},
   "source": [
    "В нашем обучение не пригодится 'parsing_unixtime'. Однако его можно обработать для других целей: "
   ]
  },
  {
   "cell_type": "code",
   "execution_count": 41,
   "metadata": {
    "execution": {
     "iopub.execute_input": "2022-02-01T11:10:56.177341Z",
     "iopub.status.busy": "2022-02-01T11:10:56.177129Z",
     "iopub.status.idle": "2022-02-01T11:10:56.183339Z",
     "shell.execute_reply": "2022-02-01T11:10:56.182450Z",
     "shell.execute_reply.started": "2022-02-01T11:10:56.177313Z"
    }
   },
   "outputs": [],
   "source": [
    "test['parsing_unixtime'].median()"
   ]
  },
  {
   "cell_type": "code",
   "execution_count": 42,
   "metadata": {
    "execution": {
     "iopub.execute_input": "2022-02-01T11:10:56.184894Z",
     "iopub.status.busy": "2022-02-01T11:10:56.184635Z",
     "iopub.status.idle": "2022-02-01T11:10:56.194280Z",
     "shell.execute_reply": "2022-02-01T11:10:56.193751Z",
     "shell.execute_reply.started": "2022-02-01T11:10:56.184866Z"
    }
   },
   "outputs": [],
   "source": [
    "parcing_date = datetime.fromtimestamp(test['parsing_unixtime'].median()).strftime(\"%d/%m/%Y\")\n",
    "parcing_date"
   ]
  },
  {
   "cell_type": "markdown",
   "metadata": {},
   "source": [
    "Средняя дата парсинга - 21 октября 2020 года. \n",
    "\n",
    "Данные же, используемые в обучающем датасете, собраны в конце января 2022.\n",
    "\n",
    "Используем это в дальнейшем, чтобы учесть инфляцию при обучении."
   ]
  },
  {
   "cell_type": "markdown",
   "metadata": {},
   "source": [
    "#### 6.12. Очистка данных"
   ]
  },
  {
   "cell_type": "markdown",
   "metadata": {},
   "source": [
    "Удалим лишние данные:"
   ]
  },
  {
   "cell_type": "code",
   "execution_count": 43,
   "metadata": {
    "execution": {
     "iopub.execute_input": "2022-02-01T11:10:56.195704Z",
     "iopub.status.busy": "2022-02-01T11:10:56.195266Z",
     "iopub.status.idle": "2022-02-01T11:10:56.254580Z",
     "shell.execute_reply": "2022-02-01T11:10:56.253944Z",
     "shell.execute_reply.started": "2022-02-01T11:10:56.195651Z"
    }
   },
   "outputs": [],
   "source": [
    "train.drop(['@context', \n",
    "            '@type', \n",
    "            'Двигатель',\n",
    "            'год выпуска', \n",
    "            'offers',\n",
    "            'Цвет',\n",
    "            'Комплектация',\n",
    "            'Налог',\n",
    "            'Гарантия',\n",
    "            'VIN',            \n",
    "            'Госномер',\n",
    "            'availability',\n",
    "            'Обмен',            \n",
    "            'Запас хода',\n",
    "            'Кузов №',\n",
    "            ], axis=1, inplace=True)"
   ]
  },
  {
   "cell_type": "code",
   "execution_count": 44,
   "metadata": {
    "execution": {
     "iopub.execute_input": "2022-02-01T11:10:56.256826Z",
     "iopub.status.busy": "2022-02-01T11:10:56.256423Z",
     "iopub.status.idle": "2022-02-01T11:10:56.279346Z",
     "shell.execute_reply": "2022-02-01T11:10:56.278735Z",
     "shell.execute_reply.started": "2022-02-01T11:10:56.256781Z"
    }
   },
   "outputs": [],
   "source": [
    "test.drop(['complectation_dict', \n",
    "           'equipment_dict', \n",
    "           'modelDate',\n",
    "           'model_info', \n",
    "           'name', \n",
    "           'vehicleConfiguration',\n",
    "           'parsing_unixtime',\n",
    "           'super_gen'\n",
    "          ], axis=1, inplace=True)"
   ]
  },
  {
   "cell_type": "markdown",
   "metadata": {},
   "source": [
    "Удалим строки, где отсутствует цена"
   ]
  },
  {
   "cell_type": "code",
   "execution_count": 45,
   "metadata": {
    "execution": {
     "iopub.execute_input": "2022-02-01T11:10:56.281418Z",
     "iopub.status.busy": "2022-02-01T11:10:56.281040Z",
     "iopub.status.idle": "2022-02-01T11:10:56.327006Z",
     "shell.execute_reply": "2022-02-01T11:10:56.326180Z",
     "shell.execute_reply.started": "2022-02-01T11:10:56.281372Z"
    }
   },
   "outputs": [],
   "source": [
    "train = train.dropna(axis=0, subset=['price'])"
   ]
  },
  {
   "cell_type": "markdown",
   "metadata": {},
   "source": [
    "Прежде чем приступать к обработке данных посмотрим выбросы в целевой переменной:"
   ]
  },
  {
   "cell_type": "code",
   "execution_count": 46,
   "metadata": {
    "execution": {
     "iopub.execute_input": "2022-02-01T11:10:56.328913Z",
     "iopub.status.busy": "2022-02-01T11:10:56.328633Z",
     "iopub.status.idle": "2022-02-01T11:10:56.343290Z",
     "shell.execute_reply": "2022-02-01T11:10:56.342331Z",
     "shell.execute_reply.started": "2022-02-01T11:10:56.328881Z"
    }
   },
   "outputs": [],
   "source": [
    "data_outliers(train['price'])"
   ]
  },
  {
   "cell_type": "code",
   "execution_count": 47,
   "metadata": {
    "execution": {
     "iopub.execute_input": "2022-02-01T11:10:56.345229Z",
     "iopub.status.busy": "2022-02-01T11:10:56.344835Z",
     "iopub.status.idle": "2022-02-01T11:10:56.352081Z",
     "shell.execute_reply": "2022-02-01T11:10:56.351262Z",
     "shell.execute_reply.started": "2022-02-01T11:10:56.345178Z"
    }
   },
   "outputs": [],
   "source": [
    "train['price'].min()"
   ]
  },
  {
   "cell_type": "markdown",
   "metadata": {},
   "source": [
    "Отрицательной цены нет, значит выбросов по минимальной цене нет\n",
    "\n",
    "5583 выбросов с ценой выше 4 миллионов рублей. Посмотрим максимальное значение:"
   ]
  },
  {
   "cell_type": "code",
   "execution_count": 48,
   "metadata": {
    "execution": {
     "iopub.execute_input": "2022-02-01T11:10:56.354442Z",
     "iopub.status.busy": "2022-02-01T11:10:56.353886Z",
     "iopub.status.idle": "2022-02-01T11:10:56.382006Z",
     "shell.execute_reply": "2022-02-01T11:10:56.381386Z",
     "shell.execute_reply.started": "2022-02-01T11:10:56.354395Z"
    }
   },
   "outputs": [],
   "source": [
    "train[train['price'] == train['price'].max()]"
   ]
  },
  {
   "cell_type": "markdown",
   "metadata": {},
   "source": [
    "Явный выброс:"
   ]
  },
  {
   "cell_type": "code",
   "execution_count": 49,
   "metadata": {
    "execution": {
     "iopub.execute_input": "2022-02-01T11:10:56.383669Z",
     "iopub.status.busy": "2022-02-01T11:10:56.383279Z",
     "iopub.status.idle": "2022-02-01T11:10:56.425965Z",
     "shell.execute_reply": "2022-02-01T11:10:56.425056Z",
     "shell.execute_reply.started": "2022-02-01T11:10:56.383638Z"
    }
   },
   "outputs": [],
   "source": [
    "train = train.loc[train['price'] != train['price'].max()]"
   ]
  },
  {
   "cell_type": "code",
   "execution_count": 50,
   "metadata": {
    "execution": {
     "iopub.execute_input": "2022-02-01T11:10:56.427731Z",
     "iopub.status.busy": "2022-02-01T11:10:56.427329Z",
     "iopub.status.idle": "2022-02-01T11:10:56.471928Z",
     "shell.execute_reply": "2022-02-01T11:10:56.470966Z",
     "shell.execute_reply.started": "2022-02-01T11:10:56.427664Z"
    }
   },
   "outputs": [],
   "source": [
    "train = train.loc[train['price'] < 20000000]"
   ]
  },
  {
   "cell_type": "markdown",
   "metadata": {},
   "source": [
    "Посмотрим цены выше 10 миллионов рублей и год их выпуска:"
   ]
  },
  {
   "cell_type": "code",
   "execution_count": 51,
   "metadata": {
    "execution": {
     "iopub.execute_input": "2022-02-01T11:10:56.473442Z",
     "iopub.status.busy": "2022-02-01T11:10:56.473215Z",
     "iopub.status.idle": "2022-02-01T11:10:56.511867Z",
     "shell.execute_reply": "2022-02-01T11:10:56.511200Z",
     "shell.execute_reply.started": "2022-02-01T11:10:56.473415Z"
    }
   },
   "outputs": [],
   "source": [
    "train[train['price'] > 10000000].sample(10)"
   ]
  },
  {
   "cell_type": "code",
   "execution_count": 52,
   "metadata": {
    "execution": {
     "iopub.execute_input": "2022-02-01T11:10:56.513196Z",
     "iopub.status.busy": "2022-02-01T11:10:56.512978Z",
     "iopub.status.idle": "2022-02-01T11:10:56.522847Z",
     "shell.execute_reply": "2022-02-01T11:10:56.522071Z",
     "shell.execute_reply.started": "2022-02-01T11:10:56.513161Z"
    }
   },
   "outputs": [],
   "source": [
    "train[train['price'] > 10000000].productionDate.value_counts()"
   ]
  },
  {
   "cell_type": "markdown",
   "metadata": {
    "execution": {
     "iopub.execute_input": "2022-01-31T21:57:11.132937Z",
     "iopub.status.busy": "2022-01-31T21:57:11.132607Z",
     "iopub.status.idle": "2022-01-31T21:57:11.185174Z",
     "shell.execute_reply": "2022-01-31T21:57:11.18428Z",
     "shell.execute_reply.started": "2022-01-31T21:57:11.132894Z"
    }
   },
   "source": [
    "Новые и раритетные автомобили. Вроде все нормально.\n",
    "\n",
    "Посмотрим цены выше 20 миллионов рублей:"
   ]
  },
  {
   "cell_type": "code",
   "execution_count": 53,
   "metadata": {
    "execution": {
     "iopub.execute_input": "2022-02-01T11:10:56.524608Z",
     "iopub.status.busy": "2022-02-01T11:10:56.524130Z",
     "iopub.status.idle": "2022-02-01T11:10:56.541589Z",
     "shell.execute_reply": "2022-02-01T11:10:56.541042Z",
     "shell.execute_reply.started": "2022-02-01T11:10:56.524568Z"
    }
   },
   "outputs": [],
   "source": [
    "train[train['price'] > 20000000]"
   ]
  },
  {
   "cell_type": "code",
   "execution_count": 54,
   "metadata": {
    "execution": {
     "iopub.execute_input": "2022-02-01T11:10:56.542914Z",
     "iopub.status.busy": "2022-02-01T11:10:56.542659Z",
     "iopub.status.idle": "2022-02-01T11:10:56.550967Z",
     "shell.execute_reply": "2022-02-01T11:10:56.549926Z",
     "shell.execute_reply.started": "2022-02-01T11:10:56.542885Z"
    }
   },
   "outputs": [],
   "source": [
    "train[train['price'] > 20000000].productionDate.value_counts()"
   ]
  },
  {
   "cell_type": "markdown",
   "metadata": {
    "execution": {
     "iopub.execute_input": "2022-01-31T21:59:46.624197Z",
     "iopub.status.busy": "2022-01-31T21:59:46.623521Z",
     "iopub.status.idle": "2022-01-31T21:59:46.631914Z",
     "shell.execute_reply": "2022-01-31T21:59:46.630446Z",
     "shell.execute_reply.started": "2022-01-31T21:59:46.624147Z"
    }
   },
   "source": [
    "Это уже выбросы. Удаляем эти данные из датасета:"
   ]
  },
  {
   "cell_type": "code",
   "execution_count": 55,
   "metadata": {
    "execution": {
     "iopub.execute_input": "2022-02-01T11:10:56.552418Z",
     "iopub.status.busy": "2022-02-01T11:10:56.552129Z",
     "iopub.status.idle": "2022-02-01T11:10:56.595626Z",
     "shell.execute_reply": "2022-02-01T11:10:56.594974Z",
     "shell.execute_reply.started": "2022-02-01T11:10:56.552378Z"
    }
   },
   "outputs": [],
   "source": [
    "train = train.loc[train['price'] < 20000000]"
   ]
  },
  {
   "cell_type": "markdown",
   "metadata": {},
   "source": [
    "### 7.Объединяем данные"
   ]
  },
  {
   "cell_type": "markdown",
   "metadata": {},
   "source": [
    "Для корректной обработки признаков объединяем трейн и тест в один датасет и ставим метку обучающей части:"
   ]
  },
  {
   "cell_type": "code",
   "execution_count": 56,
   "metadata": {
    "execution": {
     "iopub.execute_input": "2022-02-01T11:10:56.597302Z",
     "iopub.status.busy": "2022-02-01T11:10:56.596926Z",
     "iopub.status.idle": "2022-02-01T11:10:56.602590Z",
     "shell.execute_reply": "2022-02-01T11:10:56.601974Z",
     "shell.execute_reply.started": "2022-02-01T11:10:56.597255Z"
    }
   },
   "outputs": [],
   "source": [
    "train['sample'] = 1 \n",
    "test['sample'] = 0 "
   ]
  },
  {
   "cell_type": "markdown",
   "metadata": {},
   "source": [
    "Объединяем данные:"
   ]
  },
  {
   "cell_type": "code",
   "execution_count": 57,
   "metadata": {
    "execution": {
     "iopub.execute_input": "2022-02-01T11:10:56.604624Z",
     "iopub.status.busy": "2022-02-01T11:10:56.603800Z",
     "iopub.status.idle": "2022-02-01T11:10:56.859984Z",
     "shell.execute_reply": "2022-02-01T11:10:56.858984Z",
     "shell.execute_reply.started": "2022-02-01T11:10:56.604590Z"
    }
   },
   "outputs": [],
   "source": [
    "data = test.append(train, sort=False).reset_index(drop=True) # объединяем"
   ]
  },
  {
   "cell_type": "markdown",
   "metadata": {},
   "source": [
    "Осматриваем результат:"
   ]
  },
  {
   "cell_type": "code",
   "execution_count": 58,
   "metadata": {
    "execution": {
     "iopub.execute_input": "2022-02-01T11:10:56.862204Z",
     "iopub.status.busy": "2022-02-01T11:10:56.861862Z",
     "iopub.status.idle": "2022-02-01T11:10:56.897280Z",
     "shell.execute_reply": "2022-02-01T11:10:56.896381Z",
     "shell.execute_reply.started": "2022-02-01T11:10:56.862160Z"
    }
   },
   "outputs": [],
   "source": [
    "data.sample(5)"
   ]
  },
  {
   "cell_type": "markdown",
   "metadata": {},
   "source": [
    "Очистим данные от дубликатов:"
   ]
  },
  {
   "cell_type": "code",
   "execution_count": 59,
   "metadata": {
    "execution": {
     "iopub.execute_input": "2022-02-01T11:10:56.899426Z",
     "iopub.status.busy": "2022-02-01T11:10:56.899107Z",
     "iopub.status.idle": "2022-02-01T11:10:57.002124Z",
     "shell.execute_reply": "2022-02-01T11:10:57.001313Z",
     "shell.execute_reply.started": "2022-02-01T11:10:56.899381Z"
    }
   },
   "outputs": [],
   "source": [
    "data = data.drop_duplicates(subset=['car_url'])"
   ]
  },
  {
   "cell_type": "markdown",
   "metadata": {},
   "source": [
    "### 8. Обработка NAN "
   ]
  },
  {
   "cell_type": "markdown",
   "metadata": {},
   "source": [
    "Осмотрим данные на пропуски:"
   ]
  },
  {
   "cell_type": "code",
   "execution_count": 60,
   "metadata": {
    "execution": {
     "iopub.execute_input": "2022-02-01T11:10:57.003671Z",
     "iopub.status.busy": "2022-02-01T11:10:57.003412Z",
     "iopub.status.idle": "2022-02-01T11:10:57.244227Z",
     "shell.execute_reply": "2022-02-01T11:10:57.243659Z",
     "shell.execute_reply.started": "2022-02-01T11:10:57.003640Z"
    }
   },
   "outputs": [],
   "source": [
    "data.isna().sum()"
   ]
  },
  {
   "cell_type": "markdown",
   "metadata": {},
   "source": [
    "Обработаем и, по возможности, восполним пропущенные параметры:"
   ]
  },
  {
   "cell_type": "markdown",
   "metadata": {},
   "source": [
    "#### 8.1. sell_id"
   ]
  },
  {
   "cell_type": "markdown",
   "metadata": {},
   "source": [
    "'sell_id' - уникальный параметр. Его можно удалить:"
   ]
  },
  {
   "cell_type": "code",
   "execution_count": 61,
   "metadata": {
    "execution": {
     "iopub.execute_input": "2022-02-01T11:10:57.245571Z",
     "iopub.status.busy": "2022-02-01T11:10:57.245263Z",
     "iopub.status.idle": "2022-02-01T11:10:57.293505Z",
     "shell.execute_reply": "2022-02-01T11:10:57.292863Z",
     "shell.execute_reply.started": "2022-02-01T11:10:57.245544Z"
    }
   },
   "outputs": [],
   "source": [
    "data = data.drop(columns = ['sell_id'], axis=1)"
   ]
  },
  {
   "cell_type": "markdown",
   "metadata": {},
   "source": [
    "#### 8.2. Владельцы"
   ]
  },
  {
   "cell_type": "markdown",
   "metadata": {},
   "source": [
    "Заполним пропуски самым популярным значением:"
   ]
  },
  {
   "cell_type": "code",
   "execution_count": 62,
   "metadata": {
    "execution": {
     "iopub.execute_input": "2022-02-01T11:10:57.294975Z",
     "iopub.status.busy": "2022-02-01T11:10:57.294587Z",
     "iopub.status.idle": "2022-02-01T11:10:57.313980Z",
     "shell.execute_reply": "2022-02-01T11:10:57.313037Z",
     "shell.execute_reply.started": "2022-02-01T11:10:57.294929Z"
    }
   },
   "outputs": [],
   "source": [
    "data['Владельцы'] = data['Владельцы'].fillna('3')"
   ]
  },
  {
   "cell_type": "markdown",
   "metadata": {},
   "source": [
    "Удалим пробелы из данных:"
   ]
  },
  {
   "cell_type": "code",
   "execution_count": 63,
   "metadata": {
    "execution": {
     "iopub.execute_input": "2022-02-01T11:10:57.315699Z",
     "iopub.status.busy": "2022-02-01T11:10:57.315314Z",
     "iopub.status.idle": "2022-02-01T11:10:57.415680Z",
     "shell.execute_reply": "2022-02-01T11:10:57.414767Z",
     "shell.execute_reply.started": "2022-02-01T11:10:57.315658Z"
    }
   },
   "outputs": [],
   "source": [
    "data['Владельцы'] = data.Владельцы.str.replace(' ', '')"
   ]
  },
  {
   "cell_type": "markdown",
   "metadata": {},
   "source": [
    "Оставим только количество, как численный параметр:"
   ]
  },
  {
   "cell_type": "code",
   "execution_count": 64,
   "metadata": {
    "execution": {
     "iopub.execute_input": "2022-02-01T11:10:57.417188Z",
     "iopub.status.busy": "2022-02-01T11:10:57.416948Z",
     "iopub.status.idle": "2022-02-01T11:10:57.533568Z",
     "shell.execute_reply": "2022-02-01T11:10:57.532770Z",
     "shell.execute_reply.started": "2022-02-01T11:10:57.417158Z"
    }
   },
   "outputs": [],
   "source": [
    "data['Владельцы'] = data['Владельцы'].apply(lambda x: int(x[0]))"
   ]
  },
  {
   "cell_type": "markdown",
   "metadata": {},
   "source": [
    "Осмотрим получившийся параметр:"
   ]
  },
  {
   "cell_type": "code",
   "execution_count": 65,
   "metadata": {
    "execution": {
     "iopub.execute_input": "2022-02-01T11:10:57.535342Z",
     "iopub.status.busy": "2022-02-01T11:10:57.535015Z",
     "iopub.status.idle": "2022-02-01T11:10:57.563409Z",
     "shell.execute_reply": "2022-02-01T11:10:57.562497Z",
     "shell.execute_reply.started": "2022-02-01T11:10:57.535299Z"
    }
   },
   "outputs": [],
   "source": [
    "data['Владельцы'].value_counts()"
   ]
  },
  {
   "cell_type": "markdown",
   "metadata": {},
   "source": [
    "#### 8.3. Владение"
   ]
  },
  {
   "cell_type": "markdown",
   "metadata": {},
   "source": [
    "Если продавец не указал время владения автомобилем - это салон или перекупщик. Сделаем из этого параметра бинарный признак:"
   ]
  },
  {
   "cell_type": "code",
   "execution_count": 66,
   "metadata": {
    "execution": {
     "iopub.execute_input": "2022-02-01T11:10:57.565946Z",
     "iopub.status.busy": "2022-02-01T11:10:57.564454Z",
     "iopub.status.idle": "2022-02-01T11:10:57.614684Z",
     "shell.execute_reply": "2022-02-01T11:10:57.614051Z",
     "shell.execute_reply.started": "2022-02-01T11:10:57.565897Z"
    }
   },
   "outputs": [],
   "source": [
    "data['Владение'] = data['Владение'].isna().astype(np.int8)"
   ]
  },
  {
   "cell_type": "markdown",
   "metadata": {},
   "source": [
    "#### 8.4. ПТС"
   ]
  },
  {
   "cell_type": "markdown",
   "metadata": {},
   "source": [
    "Осмотрим строки, где не указали ПТС:"
   ]
  },
  {
   "cell_type": "code",
   "execution_count": 67,
   "metadata": {
    "execution": {
     "iopub.execute_input": "2022-02-01T11:10:57.616214Z",
     "iopub.status.busy": "2022-02-01T11:10:57.615638Z",
     "iopub.status.idle": "2022-02-01T11:10:57.659212Z",
     "shell.execute_reply": "2022-02-01T11:10:57.658477Z",
     "shell.execute_reply.started": "2022-02-01T11:10:57.616181Z"
    }
   },
   "outputs": [],
   "source": [
    "data[data['ПТС'].isna()]"
   ]
  },
  {
   "cell_type": "markdown",
   "metadata": {},
   "source": [
    "Поверим людям и заполним пропуски популярным значением 'Оригинал'"
   ]
  },
  {
   "cell_type": "code",
   "execution_count": 68,
   "metadata": {
    "execution": {
     "iopub.execute_input": "2022-02-01T11:10:57.660638Z",
     "iopub.status.busy": "2022-02-01T11:10:57.660122Z",
     "iopub.status.idle": "2022-02-01T11:10:57.679013Z",
     "shell.execute_reply": "2022-02-01T11:10:57.678244Z",
     "shell.execute_reply.started": "2022-02-01T11:10:57.660606Z"
    }
   },
   "outputs": [],
   "source": [
    "data['ПТС'] = data['ПТС'].fillna('Оригинал')"
   ]
  },
  {
   "cell_type": "markdown",
   "metadata": {},
   "source": [
    "Удалим пробелы из данных:"
   ]
  },
  {
   "cell_type": "code",
   "execution_count": 69,
   "metadata": {
    "execution": {
     "iopub.execute_input": "2022-02-01T11:10:57.681000Z",
     "iopub.status.busy": "2022-02-01T11:10:57.680245Z",
     "iopub.status.idle": "2022-02-01T11:10:57.775486Z",
     "shell.execute_reply": "2022-02-01T11:10:57.774744Z",
     "shell.execute_reply.started": "2022-02-01T11:10:57.680966Z"
    }
   },
   "outputs": [],
   "source": [
    "data['ПТС'] = data.ПТС.str.replace(' ', '')"
   ]
  },
  {
   "cell_type": "markdown",
   "metadata": {},
   "source": [
    "Осмотрим результаты:"
   ]
  },
  {
   "cell_type": "code",
   "execution_count": 70,
   "metadata": {
    "execution": {
     "iopub.execute_input": "2022-02-01T11:10:57.777317Z",
     "iopub.status.busy": "2022-02-01T11:10:57.777026Z",
     "iopub.status.idle": "2022-02-01T11:10:57.806335Z",
     "shell.execute_reply": "2022-02-01T11:10:57.805421Z",
     "shell.execute_reply.started": "2022-02-01T11:10:57.777276Z"
    }
   },
   "outputs": [],
   "source": [
    "data['ПТС'].value_counts()"
   ]
  },
  {
   "cell_type": "markdown",
   "metadata": {},
   "source": [
    "#### 8.5. Статус"
   ]
  },
  {
   "cell_type": "markdown",
   "metadata": {},
   "source": [
    "Данных очень мало и их не восстановить. Удаляем параметр:"
   ]
  },
  {
   "cell_type": "code",
   "execution_count": 71,
   "metadata": {
    "execution": {
     "iopub.execute_input": "2022-02-01T11:10:57.808461Z",
     "iopub.status.busy": "2022-02-01T11:10:57.808001Z",
     "iopub.status.idle": "2022-02-01T11:10:57.844341Z",
     "shell.execute_reply": "2022-02-01T11:10:57.843744Z",
     "shell.execute_reply.started": "2022-02-01T11:10:57.808423Z"
    }
   },
   "outputs": [],
   "source": [
    "data = data.drop(columns = ['Статус'], axis=1)"
   ]
  },
  {
   "cell_type": "markdown",
   "metadata": {},
   "source": [
    "### 9. Aнализ, распределение признаков и Feature Engineering"
   ]
  },
  {
   "cell_type": "markdown",
   "metadata": {},
   "source": [
    "Посмотрим, что pandas_profiling расскажет о наших данных:"
   ]
  },
  {
   "cell_type": "code",
   "execution_count": 72,
   "metadata": {
    "execution": {
     "iopub.execute_input": "2022-02-01T11:10:57.845872Z",
     "iopub.status.busy": "2022-02-01T11:10:57.845596Z",
     "iopub.status.idle": "2022-02-01T11:12:45.571736Z",
     "shell.execute_reply": "2022-02-01T11:12:45.570548Z",
     "shell.execute_reply.started": "2022-02-01T11:10:57.845840Z"
    }
   },
   "outputs": [],
   "source": [
    "pandas_profiling.ProfileReport(data)"
   ]
  },
  {
   "cell_type": "markdown",
   "metadata": {},
   "source": [
    "Ознакомившись с результатами, можно закоментить эту функцию для большей производительности."
   ]
  },
  {
   "cell_type": "markdown",
   "metadata": {},
   "source": [
    "Предлагается удалить несколько параметров, которые уникальны или не имеют отличий. Осмотрим только параметр 'Состояние':"
   ]
  },
  {
   "cell_type": "code",
   "execution_count": 73,
   "metadata": {
    "execution": {
     "iopub.execute_input": "2022-02-01T11:12:45.574667Z",
     "iopub.status.busy": "2022-02-01T11:12:45.573600Z",
     "iopub.status.idle": "2022-02-01T11:12:45.602324Z",
     "shell.execute_reply": "2022-02-01T11:12:45.593249Z",
     "shell.execute_reply.started": "2022-02-01T11:12:45.574598Z"
    }
   },
   "outputs": [],
   "source": [
    "test['Состояние'].value_counts()"
   ]
  },
  {
   "cell_type": "markdown",
   "metadata": {},
   "source": [
    "В тестовой выборке битых машин нет. Осмотрим битые машины подробнее:"
   ]
  },
  {
   "cell_type": "code",
   "execution_count": 74,
   "metadata": {
    "execution": {
     "iopub.execute_input": "2022-02-01T11:12:45.604815Z",
     "iopub.status.busy": "2022-02-01T11:12:45.603918Z",
     "iopub.status.idle": "2022-02-01T11:12:45.671654Z",
     "shell.execute_reply": "2022-02-01T11:12:45.670772Z",
     "shell.execute_reply.started": "2022-02-01T11:12:45.604772Z"
    }
   },
   "outputs": [],
   "source": [
    "data[data['Состояние'] == 'Битый / не на ходу']"
   ]
  },
  {
   "cell_type": "markdown",
   "metadata": {},
   "source": [
    "Эти данные лучше удалить - цена существенно занижена:"
   ]
  },
  {
   "cell_type": "code",
   "execution_count": 75,
   "metadata": {
    "execution": {
     "iopub.execute_input": "2022-02-01T11:12:45.673654Z",
     "iopub.status.busy": "2022-02-01T11:12:45.673412Z",
     "iopub.status.idle": "2022-02-01T11:12:45.756434Z",
     "shell.execute_reply": "2022-02-01T11:12:45.755187Z",
     "shell.execute_reply.started": "2022-02-01T11:12:45.673624Z"
    }
   },
   "outputs": [],
   "source": [
    "data = data.loc[data['Состояние'] != 'Битый / не на ходу']"
   ]
  },
  {
   "cell_type": "markdown",
   "metadata": {},
   "source": [
    "Теперь удаляем столбецы:\n",
    "- 'Состояние';\n",
    "- 'car_url', 'sell_id' - параметры не несущие данных об автомобиле;\n",
    "- 'priceCurrency', 'Таможня' - столбцы с единственным значением."
   ]
  },
  {
   "cell_type": "code",
   "execution_count": 76,
   "metadata": {
    "execution": {
     "iopub.execute_input": "2022-02-01T11:12:45.758443Z",
     "iopub.status.busy": "2022-02-01T11:12:45.758183Z",
     "iopub.status.idle": "2022-02-01T11:12:45.812829Z",
     "shell.execute_reply": "2022-02-01T11:12:45.811790Z",
     "shell.execute_reply.started": "2022-02-01T11:12:45.758408Z"
    }
   },
   "outputs": [],
   "source": [
    "data = data.drop(columns = ['car_url',\n",
    "                            'priceCurrency',\n",
    "                            'Таможня',\n",
    "                            'Состояние'], axis=1)"
   ]
  },
  {
   "cell_type": "markdown",
   "metadata": {},
   "source": [
    "Также рассмотрим параметры и распределим их по типу: \n",
    "* бинарные;\n",
    "* категориальные;\n",
    "* числовые."
   ]
  },
  {
   "cell_type": "code",
   "execution_count": 77,
   "metadata": {
    "execution": {
     "iopub.execute_input": "2022-02-01T11:12:45.814584Z",
     "iopub.status.busy": "2022-02-01T11:12:45.814310Z",
     "iopub.status.idle": "2022-02-01T11:12:45.819264Z",
     "shell.execute_reply": "2022-02-01T11:12:45.818707Z",
     "shell.execute_reply.started": "2022-02-01T11:12:45.814553Z"
    }
   },
   "outputs": [],
   "source": [
    "bin_cols = [] \n",
    "cat_cols = [] \n",
    "num_cols = []"
   ]
  },
  {
   "cell_type": "markdown",
   "metadata": {},
   "source": [
    "#### 9.1. bodyType"
   ]
  },
  {
   "cell_type": "markdown",
   "metadata": {},
   "source": [
    "Осмотрим уникальные параметры bodyType:"
   ]
  },
  {
   "cell_type": "code",
   "execution_count": 78,
   "metadata": {
    "execution": {
     "iopub.execute_input": "2022-02-01T11:12:45.820881Z",
     "iopub.status.busy": "2022-02-01T11:12:45.820442Z",
     "iopub.status.idle": "2022-02-01T11:12:45.857533Z",
     "shell.execute_reply": "2022-02-01T11:12:45.856815Z",
     "shell.execute_reply.started": "2022-02-01T11:12:45.820832Z"
    }
   },
   "outputs": [],
   "source": [
    "data.bodyType.value_counts()"
   ]
  },
  {
   "cell_type": "markdown",
   "metadata": {},
   "source": [
    "Очистим данные и оставим первое слово из описания:"
   ]
  },
  {
   "cell_type": "code",
   "execution_count": 79,
   "metadata": {
    "execution": {
     "iopub.execute_input": "2022-02-01T11:12:45.859593Z",
     "iopub.status.busy": "2022-02-01T11:12:45.859113Z",
     "iopub.status.idle": "2022-02-01T11:12:45.985807Z",
     "shell.execute_reply": "2022-02-01T11:12:45.984449Z",
     "shell.execute_reply.started": "2022-02-01T11:12:45.859560Z"
    }
   },
   "outputs": [],
   "source": [
    "data['bodyType'] = data.bodyType.apply(lambda x: x.split(' ')[0].lower())\n",
    "data.bodyType.value_counts()"
   ]
  },
  {
   "cell_type": "markdown",
   "metadata": {},
   "source": [
    "Выделим самые популярные типы кузова:"
   ]
  },
  {
   "cell_type": "code",
   "execution_count": 80,
   "metadata": {
    "execution": {
     "iopub.execute_input": "2022-02-01T11:12:45.988010Z",
     "iopub.status.busy": "2022-02-01T11:12:45.987482Z",
     "iopub.status.idle": "2022-02-01T11:12:46.018433Z",
     "shell.execute_reply": "2022-02-01T11:12:46.017514Z",
     "shell.execute_reply.started": "2022-02-01T11:12:45.987949Z"
    }
   },
   "outputs": [],
   "source": [
    "popular_bodyType = data.bodyType.value_counts()[:9]\n",
    "popular_bodyType"
   ]
  },
  {
   "cell_type": "markdown",
   "metadata": {},
   "source": [
    "Заменим наименее популярные типы кузова описание 'другой':"
   ]
  },
  {
   "cell_type": "code",
   "execution_count": 81,
   "metadata": {
    "execution": {
     "iopub.execute_input": "2022-02-01T11:12:46.020150Z",
     "iopub.status.busy": "2022-02-01T11:12:46.019861Z",
     "iopub.status.idle": "2022-02-01T11:12:46.228660Z",
     "shell.execute_reply": "2022-02-01T11:12:46.227568Z",
     "shell.execute_reply.started": "2022-02-01T11:12:46.020107Z"
    }
   },
   "outputs": [],
   "source": [
    "data['bodyType'] = data['bodyType'].apply(lambda x: x if x in popular_bodyType else 'другой')"
   ]
  },
  {
   "cell_type": "markdown",
   "metadata": {},
   "source": [
    "Осмотрим полученный результат в графической интерпретации:"
   ]
  },
  {
   "cell_type": "code",
   "execution_count": 82,
   "metadata": {
    "execution": {
     "iopub.execute_input": "2022-02-01T11:12:46.230874Z",
     "iopub.status.busy": "2022-02-01T11:12:46.230493Z",
     "iopub.status.idle": "2022-02-01T11:12:46.757357Z",
     "shell.execute_reply": "2022-02-01T11:12:46.756286Z",
     "shell.execute_reply.started": "2022-02-01T11:12:46.230829Z"
    }
   },
   "outputs": [],
   "source": [
    "get_boxplot(data, 'bodyType')"
   ]
  },
  {
   "cell_type": "code",
   "execution_count": 83,
   "metadata": {
    "execution": {
     "iopub.execute_input": "2022-02-01T11:12:46.758851Z",
     "iopub.status.busy": "2022-02-01T11:12:46.758559Z",
     "iopub.status.idle": "2022-02-01T11:12:47.055021Z",
     "shell.execute_reply": "2022-02-01T11:12:47.053922Z",
     "shell.execute_reply.started": "2022-02-01T11:12:46.758821Z"
    }
   },
   "outputs": [],
   "source": [
    "data.bodyType.value_counts().plot.barh() "
   ]
  },
  {
   "cell_type": "code",
   "execution_count": 84,
   "metadata": {
    "execution": {
     "iopub.execute_input": "2022-02-01T11:12:47.056598Z",
     "iopub.status.busy": "2022-02-01T11:12:47.056325Z",
     "iopub.status.idle": "2022-02-01T11:12:47.872690Z",
     "shell.execute_reply": "2022-02-01T11:12:47.871929Z",
     "shell.execute_reply.started": "2022-02-01T11:12:47.056565Z"
    }
   },
   "outputs": [],
   "source": [
    "plt.figure(figsize=(8, 5))\n",
    "g1 = sns.boxplot(y='price', x='bodyType', \n",
    "                  data=train, color='darkgreen')\n",
    "g1.set_title(\"price of bodyType\", fontsize=20)\n",
    "\n",
    "g1.set_ylabel(\"price\", fontsize=15)\n",
    "g1.set_xticklabels(g1.get_xticklabels(),rotation=45)\n",
    "plt.show()"
   ]
  },
  {
   "cell_type": "markdown",
   "metadata": {},
   "source": [
    "Посмотрим на распределение зависимости цены от типа кузова:"
   ]
  },
  {
   "cell_type": "code",
   "execution_count": 85,
   "metadata": {
    "execution": {
     "iopub.execute_input": "2022-02-01T11:12:47.874700Z",
     "iopub.status.busy": "2022-02-01T11:12:47.873859Z",
     "iopub.status.idle": "2022-02-01T11:12:49.204164Z",
     "shell.execute_reply": "2022-02-01T11:12:49.203543Z",
     "shell.execute_reply.started": "2022-02-01T11:12:47.874663Z"
    }
   },
   "outputs": [],
   "source": [
    "plt.figure(figsize=(10, 15))\n",
    "plt.scatter(np.log(data.price), data.bodyType)"
   ]
  },
  {
   "cell_type": "markdown",
   "metadata": {},
   "source": [
    "Признак относится к категориальным:"
   ]
  },
  {
   "cell_type": "code",
   "execution_count": 86,
   "metadata": {
    "execution": {
     "iopub.execute_input": "2022-02-01T11:12:49.205663Z",
     "iopub.status.busy": "2022-02-01T11:12:49.205321Z",
     "iopub.status.idle": "2022-02-01T11:12:49.210295Z",
     "shell.execute_reply": "2022-02-01T11:12:49.209442Z",
     "shell.execute_reply.started": "2022-02-01T11:12:49.205633Z"
    }
   },
   "outputs": [],
   "source": [
    "cat_cols.append('bodyType')"
   ]
  },
  {
   "cell_type": "markdown",
   "metadata": {},
   "source": [
    "#### 9.2. brand"
   ]
  },
  {
   "cell_type": "markdown",
   "metadata": {
    "execution": {
     "iopub.execute_input": "2022-01-31T17:01:45.45018Z",
     "iopub.status.busy": "2022-01-31T17:01:45.449945Z",
     "iopub.status.idle": "2022-01-31T17:01:45.469687Z",
     "shell.execute_reply": "2022-01-31T17:01:45.464729Z",
     "shell.execute_reply.started": "2022-01-31T17:01:45.45015Z"
    }
   },
   "source": [
    "Осмотрим уникальные параметры 'brand':"
   ]
  },
  {
   "cell_type": "code",
   "execution_count": 87,
   "metadata": {
    "execution": {
     "iopub.execute_input": "2022-02-01T11:12:49.211763Z",
     "iopub.status.busy": "2022-02-01T11:12:49.211526Z",
     "iopub.status.idle": "2022-02-01T11:12:49.244556Z",
     "shell.execute_reply": "2022-02-01T11:12:49.243290Z",
     "shell.execute_reply.started": "2022-02-01T11:12:49.211699Z"
    }
   },
   "outputs": [],
   "source": [
    "data.brand.value_counts()"
   ]
  },
  {
   "cell_type": "markdown",
   "metadata": {},
   "source": [
    "Удаляем данные других брэндов. Они могут влиять на конечный результат:"
   ]
  },
  {
   "cell_type": "code",
   "execution_count": 88,
   "metadata": {
    "execution": {
     "iopub.execute_input": "2022-02-01T11:12:49.246671Z",
     "iopub.status.busy": "2022-02-01T11:12:49.246257Z",
     "iopub.status.idle": "2022-02-01T11:12:49.306958Z",
     "shell.execute_reply": "2022-02-01T11:12:49.306100Z",
     "shell.execute_reply.started": "2022-02-01T11:12:49.246635Z"
    }
   },
   "outputs": [],
   "source": [
    "data = data.loc[data['brand'] != 'other']"
   ]
  },
  {
   "cell_type": "markdown",
   "metadata": {},
   "source": [
    "Осмотрим графически:"
   ]
  },
  {
   "cell_type": "code",
   "execution_count": 89,
   "metadata": {
    "execution": {
     "iopub.execute_input": "2022-02-01T11:12:49.308845Z",
     "iopub.status.busy": "2022-02-01T11:12:49.308120Z",
     "iopub.status.idle": "2022-02-01T11:12:49.814741Z",
     "shell.execute_reply": "2022-02-01T11:12:49.813765Z",
     "shell.execute_reply.started": "2022-02-01T11:12:49.308812Z"
    }
   },
   "outputs": [],
   "source": [
    "get_boxplot(data, 'brand')"
   ]
  },
  {
   "cell_type": "code",
   "execution_count": 90,
   "metadata": {
    "execution": {
     "iopub.execute_input": "2022-02-01T11:12:49.816227Z",
     "iopub.status.busy": "2022-02-01T11:12:49.815988Z",
     "iopub.status.idle": "2022-02-01T11:12:50.134316Z",
     "shell.execute_reply": "2022-02-01T11:12:50.133112Z",
     "shell.execute_reply.started": "2022-02-01T11:12:49.816197Z"
    }
   },
   "outputs": [],
   "source": [
    "data.brand.value_counts().plot.barh() "
   ]
  },
  {
   "cell_type": "markdown",
   "metadata": {},
   "source": [
    "Признак относится к категориальным:"
   ]
  },
  {
   "cell_type": "code",
   "execution_count": 91,
   "metadata": {
    "execution": {
     "iopub.execute_input": "2022-02-01T11:12:50.136950Z",
     "iopub.status.busy": "2022-02-01T11:12:50.136702Z",
     "iopub.status.idle": "2022-02-01T11:12:50.145402Z",
     "shell.execute_reply": "2022-02-01T11:12:50.140228Z",
     "shell.execute_reply.started": "2022-02-01T11:12:50.136921Z"
    }
   },
   "outputs": [],
   "source": [
    "cat_cols.append('brand')"
   ]
  },
  {
   "cell_type": "markdown",
   "metadata": {},
   "source": [
    "#### 9.3. model_name"
   ]
  },
  {
   "cell_type": "markdown",
   "metadata": {},
   "source": [
    "Для начала выровняем регистр и очистим данные 'model_name':"
   ]
  },
  {
   "cell_type": "code",
   "execution_count": 92,
   "metadata": {
    "execution": {
     "iopub.execute_input": "2022-02-01T11:12:50.147066Z",
     "iopub.status.busy": "2022-02-01T11:12:50.146781Z",
     "iopub.status.idle": "2022-02-01T11:12:50.182194Z",
     "shell.execute_reply": "2022-02-01T11:12:50.181183Z",
     "shell.execute_reply.started": "2022-02-01T11:12:50.147036Z"
    }
   },
   "outputs": [],
   "source": [
    "data['model_name'] = data.model_name.apply(lambda x: x.upper())"
   ]
  },
  {
   "cell_type": "code",
   "execution_count": 93,
   "metadata": {
    "execution": {
     "iopub.execute_input": "2022-02-01T11:12:50.183864Z",
     "iopub.status.busy": "2022-02-01T11:12:50.183247Z",
     "iopub.status.idle": "2022-02-01T11:12:50.481866Z",
     "shell.execute_reply": "2022-02-01T11:12:50.481077Z",
     "shell.execute_reply.started": "2022-02-01T11:12:50.183828Z"
    }
   },
   "outputs": [],
   "source": [
    "data['model_name'] = data.model_name.str.replace('-', '_')\n",
    "data['model_name'] = data.model_name.str.replace('KLASSE', 'КЛАСС')\n",
    "data['model_name'] = data.model_name.str.replace('_AMG', '')\n",
    "data['model_name'] = data.model_name.str.replace('(', '')\n",
    "data['model_name'] = data.model_name.str.replace(')', '')"
   ]
  },
  {
   "cell_type": "markdown",
   "metadata": {},
   "source": [
    "Осмотрим уникальные параметры 'model_name':"
   ]
  },
  {
   "cell_type": "code",
   "execution_count": 94,
   "metadata": {
    "execution": {
     "iopub.execute_input": "2022-02-01T11:12:50.483910Z",
     "iopub.status.busy": "2022-02-01T11:12:50.482980Z",
     "iopub.status.idle": "2022-02-01T11:12:50.509673Z",
     "shell.execute_reply": "2022-02-01T11:12:50.508557Z",
     "shell.execute_reply.started": "2022-02-01T11:12:50.483860Z"
    }
   },
   "outputs": [],
   "source": [
    "data.model_name.value_counts()"
   ]
  },
  {
   "cell_type": "markdown",
   "metadata": {},
   "source": [
    "Выделим 30 самых популярных моделей:"
   ]
  },
  {
   "cell_type": "code",
   "execution_count": 95,
   "metadata": {
    "execution": {
     "iopub.execute_input": "2022-02-01T11:12:50.511963Z",
     "iopub.status.busy": "2022-02-01T11:12:50.511558Z",
     "iopub.status.idle": "2022-02-01T11:12:50.535581Z",
     "shell.execute_reply": "2022-02-01T11:12:50.534643Z",
     "shell.execute_reply.started": "2022-02-01T11:12:50.511907Z"
    }
   },
   "outputs": [],
   "source": [
    "popular_name = data.model_name.value_counts()[:30]\n",
    "popular_name"
   ]
  },
  {
   "cell_type": "markdown",
   "metadata": {},
   "source": [
    "Также осмотрим редкость автомобиля. Если количество объявлений меньше 15, то скорее всего редкий и его цена существенно выше:"
   ]
  },
  {
   "cell_type": "code",
   "execution_count": 96,
   "metadata": {
    "execution": {
     "iopub.execute_input": "2022-02-01T11:12:50.538049Z",
     "iopub.status.busy": "2022-02-01T11:12:50.537527Z",
     "iopub.status.idle": "2022-02-01T11:12:50.578590Z",
     "shell.execute_reply": "2022-02-01T11:12:50.577380Z",
     "shell.execute_reply.started": "2022-02-01T11:12:50.538007Z"
    }
   },
   "outputs": [],
   "source": [
    "rare_car = data['model_name'].value_counts().to_frame()\n",
    "rare_model = data.model_name.value_counts()[-len(rare_car[rare_car['model_name'] < 15]):]\n",
    "rare_model"
   ]
  },
  {
   "cell_type": "markdown",
   "metadata": {},
   "source": [
    "Создадим параметр 'rare' - редкость автомобиля:"
   ]
  },
  {
   "cell_type": "code",
   "execution_count": 97,
   "metadata": {
    "execution": {
     "iopub.execute_input": "2022-02-01T11:12:50.580996Z",
     "iopub.status.busy": "2022-02-01T11:12:50.580766Z",
     "iopub.status.idle": "2022-02-01T11:12:50.739517Z",
     "shell.execute_reply": "2022-02-01T11:12:50.738632Z",
     "shell.execute_reply.started": "2022-02-01T11:12:50.580958Z"
    }
   },
   "outputs": [],
   "source": [
    "data['rare'] = data['model_name'].apply(lambda x: 1 if x in rare_model else 0)"
   ]
  },
  {
   "cell_type": "markdown",
   "metadata": {},
   "source": [
    "Заменим непопулярные автомобили параметром 'other':"
   ]
  },
  {
   "cell_type": "code",
   "execution_count": 98,
   "metadata": {
    "execution": {
     "iopub.execute_input": "2022-02-01T11:12:50.741285Z",
     "iopub.status.busy": "2022-02-01T11:12:50.741046Z",
     "iopub.status.idle": "2022-02-01T11:12:50.877430Z",
     "shell.execute_reply": "2022-02-01T11:12:50.876491Z",
     "shell.execute_reply.started": "2022-02-01T11:12:50.741238Z"
    }
   },
   "outputs": [],
   "source": [
    "data['model_name'] = data['model_name'].apply(lambda x: x if x in popular_name else 'other')"
   ]
  },
  {
   "cell_type": "markdown",
   "metadata": {},
   "source": [
    "Осмотрим полученные данные:"
   ]
  },
  {
   "cell_type": "code",
   "execution_count": 99,
   "metadata": {
    "execution": {
     "iopub.execute_input": "2022-02-01T11:12:50.879034Z",
     "iopub.status.busy": "2022-02-01T11:12:50.878815Z",
     "iopub.status.idle": "2022-02-01T11:12:51.733399Z",
     "shell.execute_reply": "2022-02-01T11:12:51.732534Z",
     "shell.execute_reply.started": "2022-02-01T11:12:50.879003Z"
    }
   },
   "outputs": [],
   "source": [
    "get_boxplot(data, 'model_name')"
   ]
  },
  {
   "cell_type": "markdown",
   "metadata": {},
   "source": [
    "- 'model_name' - категориальный признак;\n",
    "- 'rare' - бинарный."
   ]
  },
  {
   "cell_type": "code",
   "execution_count": 100,
   "metadata": {
    "execution": {
     "iopub.execute_input": "2022-02-01T11:12:51.735045Z",
     "iopub.status.busy": "2022-02-01T11:12:51.734834Z",
     "iopub.status.idle": "2022-02-01T11:12:51.739426Z",
     "shell.execute_reply": "2022-02-01T11:12:51.738168Z",
     "shell.execute_reply.started": "2022-02-01T11:12:51.735017Z"
    }
   },
   "outputs": [],
   "source": [
    "cat_cols.append('model_name')\n",
    "bin_cols.append('rare')"
   ]
  },
  {
   "cell_type": "markdown",
   "metadata": {},
   "source": [
    "#### 9.4. color"
   ]
  },
  {
   "cell_type": "markdown",
   "metadata": {},
   "source": [
    "Осмотрим boxplot:"
   ]
  },
  {
   "cell_type": "code",
   "execution_count": 101,
   "metadata": {
    "execution": {
     "iopub.execute_input": "2022-02-01T11:12:51.741519Z",
     "iopub.status.busy": "2022-02-01T11:12:51.740947Z",
     "iopub.status.idle": "2022-02-01T11:12:52.342596Z",
     "shell.execute_reply": "2022-02-01T11:12:52.341627Z",
     "shell.execute_reply.started": "2022-02-01T11:12:51.741466Z"
    }
   },
   "outputs": [],
   "source": [
    "get_boxplot(data, 'color')"
   ]
  },
  {
   "cell_type": "markdown",
   "metadata": {},
   "source": [
    "Категориальный признак"
   ]
  },
  {
   "cell_type": "code",
   "execution_count": 102,
   "metadata": {
    "execution": {
     "iopub.execute_input": "2022-02-01T11:12:52.344412Z",
     "iopub.status.busy": "2022-02-01T11:12:52.343958Z",
     "iopub.status.idle": "2022-02-01T11:12:52.350372Z",
     "shell.execute_reply": "2022-02-01T11:12:52.348332Z",
     "shell.execute_reply.started": "2022-02-01T11:12:52.344379Z"
    }
   },
   "outputs": [],
   "source": [
    "cat_cols.append('color')"
   ]
  },
  {
   "cell_type": "markdown",
   "metadata": {},
   "source": [
    "#### 9.5. description"
   ]
  },
  {
   "cell_type": "markdown",
   "metadata": {},
   "source": [
    "Сгенерируем из описания продавца новый числовой признак 'description_len' - длина описания:"
   ]
  },
  {
   "cell_type": "code",
   "execution_count": 103,
   "metadata": {
    "execution": {
     "iopub.execute_input": "2022-02-01T11:12:52.352738Z",
     "iopub.status.busy": "2022-02-01T11:12:52.352130Z",
     "iopub.status.idle": "2022-02-01T11:12:52.450059Z",
     "shell.execute_reply": "2022-02-01T11:12:52.449081Z",
     "shell.execute_reply.started": "2022-02-01T11:12:52.352683Z"
    }
   },
   "outputs": [],
   "source": [
    "data['description_len'] = data.description.apply(lambda x: len(str(x)))"
   ]
  },
  {
   "cell_type": "markdown",
   "metadata": {},
   "source": [
    "Также осмотрим уникальность описания"
   ]
  },
  {
   "cell_type": "code",
   "execution_count": 104,
   "metadata": {
    "execution": {
     "iopub.execute_input": "2022-02-01T11:12:52.451698Z",
     "iopub.status.busy": "2022-02-01T11:12:52.451421Z",
     "iopub.status.idle": "2022-02-01T11:12:52.534909Z",
     "shell.execute_reply": "2022-02-01T11:12:52.533825Z",
     "shell.execute_reply.started": "2022-02-01T11:12:52.451663Z"
    },
    "scrolled": true
   },
   "outputs": [],
   "source": [
    "simular_description = data['description'].value_counts().to_frame()\n",
    "simular_description.head()"
   ]
  },
  {
   "cell_type": "markdown",
   "metadata": {},
   "source": [
    "Некоторые салоны предлaгают к сотням машин одинаковое описание. \n",
    "\n",
    "Выделим уникальные объявления, а остальных отнесем к перекупам:"
   ]
  },
  {
   "cell_type": "code",
   "execution_count": 105,
   "metadata": {
    "execution": {
     "iopub.execute_input": "2022-02-01T11:12:52.537107Z",
     "iopub.status.busy": "2022-02-01T11:12:52.536753Z",
     "iopub.status.idle": "2022-02-01T11:12:52.809387Z",
     "shell.execute_reply": "2022-02-01T11:12:52.808262Z",
     "shell.execute_reply.started": "2022-02-01T11:12:52.537065Z"
    }
   },
   "outputs": [],
   "source": [
    "len_not_secondhand = len(simular_description[simular_description['description'] == 1])\n",
    "not_secondhand = data.description.value_counts()[-len_not_secondhand:]\n",
    "data['secondhand_dealer'] = data['description'].apply(lambda x: 0 if x in not_secondhand else 1)"
   ]
  },
  {
   "cell_type": "code",
   "execution_count": 106,
   "metadata": {
    "execution": {
     "iopub.execute_input": "2022-02-01T11:12:52.812095Z",
     "iopub.status.busy": "2022-02-01T11:12:52.810676Z",
     "iopub.status.idle": "2022-02-01T11:12:52.820669Z",
     "shell.execute_reply": "2022-02-01T11:12:52.819611Z",
     "shell.execute_reply.started": "2022-02-01T11:12:52.812048Z"
    }
   },
   "outputs": [],
   "source": [
    "data['secondhand_dealer'].value_counts()"
   ]
  },
  {
   "cell_type": "markdown",
   "metadata": {},
   "source": [
    "Категории:\n",
    "- 'description' - под удаление;\n",
    "- 'description_len' - числовой тип;\n",
    "- 'secondhand_dealer' -  бинарный параметр."
   ]
  },
  {
   "cell_type": "code",
   "execution_count": 107,
   "metadata": {
    "execution": {
     "iopub.execute_input": "2022-02-01T11:12:52.822281Z",
     "iopub.status.busy": "2022-02-01T11:12:52.822025Z",
     "iopub.status.idle": "2022-02-01T11:12:52.866442Z",
     "shell.execute_reply": "2022-02-01T11:12:52.865406Z",
     "shell.execute_reply.started": "2022-02-01T11:12:52.822251Z"
    }
   },
   "outputs": [],
   "source": [
    "data = data.drop('description',axis=1)\n",
    "num_cols.append('description_len')\n",
    "bin_cols.append('secondhand_dealer')"
   ]
  },
  {
   "cell_type": "markdown",
   "metadata": {},
   "source": [
    "#### 9.6. fuelType"
   ]
  },
  {
   "cell_type": "markdown",
   "metadata": {},
   "source": [
    "Осмотрим boxplot категориального признака:"
   ]
  },
  {
   "cell_type": "code",
   "execution_count": 108,
   "metadata": {
    "execution": {
     "iopub.execute_input": "2022-02-01T11:12:52.870642Z",
     "iopub.status.busy": "2022-02-01T11:12:52.870349Z",
     "iopub.status.idle": "2022-02-01T11:12:53.189494Z",
     "shell.execute_reply": "2022-02-01T11:12:53.188419Z",
     "shell.execute_reply.started": "2022-02-01T11:12:52.870598Z"
    }
   },
   "outputs": [],
   "source": [
    "get_boxplot(data, 'fuelType')"
   ]
  },
  {
   "cell_type": "code",
   "execution_count": 109,
   "metadata": {
    "execution": {
     "iopub.execute_input": "2022-02-01T11:12:53.191048Z",
     "iopub.status.busy": "2022-02-01T11:12:53.190769Z",
     "iopub.status.idle": "2022-02-01T11:12:53.195496Z",
     "shell.execute_reply": "2022-02-01T11:12:53.194592Z",
     "shell.execute_reply.started": "2022-02-01T11:12:53.191017Z"
    }
   },
   "outputs": [],
   "source": [
    "cat_cols.append('fuelType')"
   ]
  },
  {
   "cell_type": "markdown",
   "metadata": {},
   "source": [
    "#### 9.7. image"
   ]
  },
  {
   "cell_type": "markdown",
   "metadata": {},
   "source": [
    "Осмотрим уникальность ссылки на картинку:"
   ]
  },
  {
   "cell_type": "code",
   "execution_count": 110,
   "metadata": {
    "execution": {
     "iopub.execute_input": "2022-02-01T11:12:53.197105Z",
     "iopub.status.busy": "2022-02-01T11:12:53.196890Z",
     "iopub.status.idle": "2022-02-01T11:12:53.285289Z",
     "shell.execute_reply": "2022-02-01T11:12:53.284639Z",
     "shell.execute_reply.started": "2022-02-01T11:12:53.197077Z"
    }
   },
   "outputs": [],
   "source": [
    "data.image.value_counts()[:10]"
   ]
  },
  {
   "cell_type": "markdown",
   "metadata": {},
   "source": [
    "Ссылки на картинку повторяются десятки раз. \n",
    "\n",
    "Получим уникальные фотографии, по признаку 'get-verba' - это ссылка на получение картинки:"
   ]
  },
  {
   "cell_type": "code",
   "execution_count": 111,
   "metadata": {
    "execution": {
     "iopub.execute_input": "2022-02-01T11:12:53.287177Z",
     "iopub.status.busy": "2022-02-01T11:12:53.286756Z",
     "iopub.status.idle": "2022-02-01T11:12:53.350066Z",
     "shell.execute_reply": "2022-02-01T11:12:53.349378Z",
     "shell.execute_reply.started": "2022-02-01T11:12:53.287146Z"
    }
   },
   "outputs": [],
   "source": [
    "data['seller_photo'] = data['image'].apply(lambda x: 1 if 'get-verba' in x else 0)"
   ]
  },
  {
   "cell_type": "code",
   "execution_count": 112,
   "metadata": {
    "execution": {
     "iopub.execute_input": "2022-02-01T11:12:53.351960Z",
     "iopub.status.busy": "2022-02-01T11:12:53.351413Z",
     "iopub.status.idle": "2022-02-01T11:12:53.359799Z",
     "shell.execute_reply": "2022-02-01T11:12:53.358892Z",
     "shell.execute_reply.started": "2022-02-01T11:12:53.351926Z"
    }
   },
   "outputs": [],
   "source": [
    "data['seller_photo'].value_counts()"
   ]
  },
  {
   "cell_type": "markdown",
   "metadata": {},
   "source": [
    "Категории:\n",
    "- 'image' - под удаление;\n",
    "- 'seller_photo' - бинарный признак."
   ]
  },
  {
   "cell_type": "code",
   "execution_count": 113,
   "metadata": {
    "execution": {
     "iopub.execute_input": "2022-02-01T11:12:53.362039Z",
     "iopub.status.busy": "2022-02-01T11:12:53.361252Z",
     "iopub.status.idle": "2022-02-01T11:12:53.392330Z",
     "shell.execute_reply": "2022-02-01T11:12:53.391285Z",
     "shell.execute_reply.started": "2022-02-01T11:12:53.361980Z"
    }
   },
   "outputs": [],
   "source": [
    "data = data.drop('image',axis=1)\n",
    "bin_cols.append('seller_photo')"
   ]
  },
  {
   "cell_type": "markdown",
   "metadata": {},
   "source": [
    "#### 9.8. engineDisplacement"
   ]
  },
  {
   "cell_type": "markdown",
   "metadata": {},
   "source": [
    "Разобьем по категориям. Вспомним, что объем электродвигателя равен 0:"
   ]
  },
  {
   "cell_type": "code",
   "execution_count": 114,
   "metadata": {
    "execution": {
     "iopub.execute_input": "2022-02-01T11:12:53.393942Z",
     "iopub.status.busy": "2022-02-01T11:12:53.393643Z",
     "iopub.status.idle": "2022-02-01T11:12:53.476932Z",
     "shell.execute_reply": "2022-02-01T11:12:53.475918Z",
     "shell.execute_reply.started": "2022-02-01T11:12:53.393910Z"
    }
   },
   "outputs": [],
   "source": [
    "data[\"engineDisplacement\"] = data[\"engineDisplacement\"].apply(lambda x: 6 if x > 6 else round(x))"
   ]
  },
  {
   "cell_type": "code",
   "execution_count": 115,
   "metadata": {
    "execution": {
     "iopub.execute_input": "2022-02-01T11:12:53.478687Z",
     "iopub.status.busy": "2022-02-01T11:12:53.478463Z",
     "iopub.status.idle": "2022-02-01T11:12:53.707070Z",
     "shell.execute_reply": "2022-02-01T11:12:53.706179Z",
     "shell.execute_reply.started": "2022-02-01T11:12:53.478659Z"
    }
   },
   "outputs": [],
   "source": [
    "sns.countplot(x = 'engineDisplacement', data = data)"
   ]
  },
  {
   "cell_type": "code",
   "execution_count": 116,
   "metadata": {
    "execution": {
     "iopub.execute_input": "2022-02-01T11:12:53.709434Z",
     "iopub.status.busy": "2022-02-01T11:12:53.708849Z",
     "iopub.status.idle": "2022-02-01T11:12:53.714141Z",
     "shell.execute_reply": "2022-02-01T11:12:53.713334Z",
     "shell.execute_reply.started": "2022-02-01T11:12:53.709387Z"
    }
   },
   "outputs": [],
   "source": [
    "cat_cols.append('engineDisplacement')"
   ]
  },
  {
   "cell_type": "markdown",
   "metadata": {},
   "source": [
    "#### 9.9. enginePower"
   ]
  },
  {
   "cell_type": "markdown",
   "metadata": {},
   "source": [
    "Осмотрим числовой признак:"
   ]
  },
  {
   "cell_type": "code",
   "execution_count": 117,
   "metadata": {
    "execution": {
     "iopub.execute_input": "2022-02-01T11:12:53.716616Z",
     "iopub.status.busy": "2022-02-01T11:12:53.716136Z",
     "iopub.status.idle": "2022-02-01T11:12:53.981087Z",
     "shell.execute_reply": "2022-02-01T11:12:53.980299Z",
     "shell.execute_reply.started": "2022-02-01T11:12:53.716572Z"
    }
   },
   "outputs": [],
   "source": [
    "data.enginePower.hist().barh"
   ]
  },
  {
   "cell_type": "markdown",
   "metadata": {},
   "source": [
    "Осмотрим квартили и обработаем выбросы:"
   ]
  },
  {
   "cell_type": "code",
   "execution_count": 118,
   "metadata": {
    "execution": {
     "iopub.execute_input": "2022-02-01T11:12:53.983636Z",
     "iopub.status.busy": "2022-02-01T11:12:53.982958Z",
     "iopub.status.idle": "2022-02-01T11:12:53.996883Z",
     "shell.execute_reply": "2022-02-01T11:12:53.995664Z",
     "shell.execute_reply.started": "2022-02-01T11:12:53.983589Z"
    }
   },
   "outputs": [],
   "source": [
    "Power_outliers=data_outliers(data['enginePower'])\n",
    "Power_outliers"
   ]
  },
  {
   "cell_type": "code",
   "execution_count": 119,
   "metadata": {
    "execution": {
     "iopub.execute_input": "2022-02-01T11:12:53.998751Z",
     "iopub.status.busy": "2022-02-01T11:12:53.998076Z",
     "iopub.status.idle": "2022-02-01T11:12:54.005169Z",
     "shell.execute_reply": "2022-02-01T11:12:54.004104Z",
     "shell.execute_reply.started": "2022-02-01T11:12:53.998700Z"
    }
   },
   "outputs": [],
   "source": [
    "data['enginePower'].min()"
   ]
  },
  {
   "cell_type": "markdown",
   "metadata": {},
   "source": [
    "Всего 3568 выбросов. \n",
    "\n",
    "Проверили, что минимальная мощность двигателя больше 0. Все выбросы - очень мощные машины.\n",
    "\n",
    "Введем бинарный признак 'силовых' машин, у кого мощность больше верхнего квартиля - запишем в категорию 'muscle_car':"
   ]
  },
  {
   "cell_type": "code",
   "execution_count": 120,
   "metadata": {
    "execution": {
     "iopub.execute_input": "2022-02-01T11:12:54.006632Z",
     "iopub.status.busy": "2022-02-01T11:12:54.006403Z",
     "iopub.status.idle": "2022-02-01T11:12:54.100810Z",
     "shell.execute_reply": "2022-02-01T11:12:54.099825Z",
     "shell.execute_reply.started": "2022-02-01T11:12:54.006603Z"
    }
   },
   "outputs": [],
   "source": [
    "muscle = Power_outliers[2]\n",
    "data[\"muscle_car\"] = data[\"enginePower\"].apply(lambda x: 1 if x > muscle else 0)"
   ]
  },
  {
   "cell_type": "markdown",
   "metadata": {},
   "source": [
    "Категории:\n",
    "- 'enginePower' - числовой тип;\n",
    "- 'muscle_car' -  бинарный параметр."
   ]
  },
  {
   "cell_type": "code",
   "execution_count": 121,
   "metadata": {
    "execution": {
     "iopub.execute_input": "2022-02-01T11:12:54.102294Z",
     "iopub.status.busy": "2022-02-01T11:12:54.102063Z",
     "iopub.status.idle": "2022-02-01T11:12:54.106621Z",
     "shell.execute_reply": "2022-02-01T11:12:54.105764Z",
     "shell.execute_reply.started": "2022-02-01T11:12:54.102266Z"
    }
   },
   "outputs": [],
   "source": [
    "num_cols.append('enginePower')\n",
    "bin_cols.append('muscle_car')"
   ]
  },
  {
   "cell_type": "markdown",
   "metadata": {},
   "source": [
    "#### 9.10. mileage"
   ]
  },
  {
   "cell_type": "markdown",
   "metadata": {},
   "source": [
    "Осмотрим числовой признак:"
   ]
  },
  {
   "cell_type": "code",
   "execution_count": 122,
   "metadata": {
    "execution": {
     "iopub.execute_input": "2022-02-01T11:12:54.122947Z",
     "iopub.status.busy": "2022-02-01T11:12:54.122195Z",
     "iopub.status.idle": "2022-02-01T11:12:54.477205Z",
     "shell.execute_reply": "2022-02-01T11:12:54.476500Z",
     "shell.execute_reply.started": "2022-02-01T11:12:54.122902Z"
    }
   },
   "outputs": [],
   "source": [
    "data['mileage'].hist(figsize=(5,5), bins=50)"
   ]
  },
  {
   "cell_type": "markdown",
   "metadata": {},
   "source": [
    "Осмотрим квартили и обработаем выбросы:"
   ]
  },
  {
   "cell_type": "code",
   "execution_count": 123,
   "metadata": {
    "execution": {
     "iopub.execute_input": "2022-02-01T11:12:54.478786Z",
     "iopub.status.busy": "2022-02-01T11:12:54.478368Z",
     "iopub.status.idle": "2022-02-01T11:12:54.490457Z",
     "shell.execute_reply": "2022-02-01T11:12:54.489373Z",
     "shell.execute_reply.started": "2022-02-01T11:12:54.478749Z"
    }
   },
   "outputs": [],
   "source": [
    "mileage_outliers=data_outliers(data['mileage'])\n",
    "mileage_outliers"
   ]
  },
  {
   "cell_type": "code",
   "execution_count": 124,
   "metadata": {
    "execution": {
     "iopub.execute_input": "2022-02-01T11:12:54.494216Z",
     "iopub.status.busy": "2022-02-01T11:12:54.493816Z",
     "iopub.status.idle": "2022-02-01T11:12:54.500881Z",
     "shell.execute_reply": "2022-02-01T11:12:54.499918Z",
     "shell.execute_reply.started": "2022-02-01T11:12:54.494180Z"
    }
   },
   "outputs": [],
   "source": [
    "data['mileage'].min()"
   ]
  },
  {
   "cell_type": "markdown",
   "metadata": {},
   "source": [
    "Всего 1706 выбросов. \n",
    "\n",
    "Минимальный пробег 1, хотя при парсинге было явно указано \"used\". Больше 0, поэтому его выбросом не считаем.\n",
    "\n",
    "Все выбросы - очень большой пробег.\n",
    "\n",
    "Введем категориальный признак 'mileage_cat', чтобы разбить пробег автомобилей по категориям"
   ]
  },
  {
   "cell_type": "code",
   "execution_count": 125,
   "metadata": {
    "execution": {
     "iopub.execute_input": "2022-02-01T11:12:54.503263Z",
     "iopub.status.busy": "2022-02-01T11:12:54.502941Z",
     "iopub.status.idle": "2022-02-01T11:12:54.567783Z",
     "shell.execute_reply": "2022-02-01T11:12:54.566991Z",
     "shell.execute_reply.started": "2022-02-01T11:12:54.503218Z"
    }
   },
   "outputs": [],
   "source": [
    "data[\"mileage_cat\"] = data[\"mileage\"].apply(lambda x: 9 if x//50000 > 9 else x//50000)"
   ]
  },
  {
   "cell_type": "code",
   "execution_count": 126,
   "metadata": {
    "execution": {
     "iopub.execute_input": "2022-02-01T11:12:54.570328Z",
     "iopub.status.busy": "2022-02-01T11:12:54.569664Z",
     "iopub.status.idle": "2022-02-01T11:12:54.580634Z",
     "shell.execute_reply": "2022-02-01T11:12:54.579599Z",
     "shell.execute_reply.started": "2022-02-01T11:12:54.570283Z"
    }
   },
   "outputs": [],
   "source": [
    "data[\"mileage_cat\"].value_counts()"
   ]
  },
  {
   "cell_type": "markdown",
   "metadata": {},
   "source": [
    "Категории:\n",
    "- 'mileage' - числовой;\n",
    "- 'mileage_cat' -  категориальный."
   ]
  },
  {
   "cell_type": "code",
   "execution_count": 127,
   "metadata": {
    "execution": {
     "iopub.execute_input": "2022-02-01T11:12:54.583389Z",
     "iopub.status.busy": "2022-02-01T11:12:54.582527Z",
     "iopub.status.idle": "2022-02-01T11:12:54.587861Z",
     "shell.execute_reply": "2022-02-01T11:12:54.587039Z",
     "shell.execute_reply.started": "2022-02-01T11:12:54.583349Z"
    }
   },
   "outputs": [],
   "source": [
    "num_cols.append('mileage')\n",
    "cat_cols.append('mileage_cat')"
   ]
  },
  {
   "cell_type": "markdown",
   "metadata": {},
   "source": [
    "#### 9.11. numberOfDoors"
   ]
  },
  {
   "cell_type": "markdown",
   "metadata": {},
   "source": [
    "Осмотрим категориальный признак:"
   ]
  },
  {
   "cell_type": "code",
   "execution_count": 128,
   "metadata": {
    "execution": {
     "iopub.execute_input": "2022-02-01T11:12:54.590862Z",
     "iopub.status.busy": "2022-02-01T11:12:54.589826Z",
     "iopub.status.idle": "2022-02-01T11:12:54.787133Z",
     "shell.execute_reply": "2022-02-01T11:12:54.786405Z",
     "shell.execute_reply.started": "2022-02-01T11:12:54.590827Z"
    }
   },
   "outputs": [],
   "source": [
    "sns.countplot(x = 'numberOfDoors', data = data)"
   ]
  },
  {
   "cell_type": "code",
   "execution_count": 129,
   "metadata": {
    "execution": {
     "iopub.execute_input": "2022-02-01T11:12:54.789253Z",
     "iopub.status.busy": "2022-02-01T11:12:54.788357Z",
     "iopub.status.idle": "2022-02-01T11:12:54.792938Z",
     "shell.execute_reply": "2022-02-01T11:12:54.792353Z",
     "shell.execute_reply.started": "2022-02-01T11:12:54.789217Z"
    }
   },
   "outputs": [],
   "source": [
    "cat_cols.append('numberOfDoors')"
   ]
  },
  {
   "cell_type": "markdown",
   "metadata": {},
   "source": [
    "#### 9.12. production_date"
   ]
  },
  {
   "cell_type": "markdown",
   "metadata": {},
   "source": [
    "Осмотрим числовой признак:"
   ]
  },
  {
   "cell_type": "code",
   "execution_count": 130,
   "metadata": {
    "execution": {
     "iopub.execute_input": "2022-02-01T11:12:54.794758Z",
     "iopub.status.busy": "2022-02-01T11:12:54.793926Z",
     "iopub.status.idle": "2022-02-01T11:12:56.075516Z",
     "shell.execute_reply": "2022-02-01T11:12:56.074825Z",
     "shell.execute_reply.started": "2022-02-01T11:12:54.794695Z"
    }
   },
   "outputs": [],
   "source": [
    "sns.countplot(x = 'productionDate', data = data)"
   ]
  },
  {
   "cell_type": "markdown",
   "metadata": {},
   "source": [
    "Осмотрим квартили и обработаем выбросы:"
   ]
  },
  {
   "cell_type": "code",
   "execution_count": 131,
   "metadata": {
    "execution": {
     "iopub.execute_input": "2022-02-01T11:12:56.077126Z",
     "iopub.status.busy": "2022-02-01T11:12:56.076816Z",
     "iopub.status.idle": "2022-02-01T11:12:56.089331Z",
     "shell.execute_reply": "2022-02-01T11:12:56.088657Z",
     "shell.execute_reply.started": "2022-02-01T11:12:56.077010Z"
    }
   },
   "outputs": [],
   "source": [
    "production_outliers=data_outliers(data['productionDate'])\n",
    "production_outliers"
   ]
  },
  {
   "cell_type": "code",
   "execution_count": 132,
   "metadata": {
    "execution": {
     "iopub.execute_input": "2022-02-01T11:12:56.091355Z",
     "iopub.status.busy": "2022-02-01T11:12:56.090545Z",
     "iopub.status.idle": "2022-02-01T11:12:56.097895Z",
     "shell.execute_reply": "2022-02-01T11:12:56.096880Z",
     "shell.execute_reply.started": "2022-02-01T11:12:56.091321Z"
    }
   },
   "outputs": [],
   "source": [
    "data['productionDate'].max()"
   ]
  },
  {
   "cell_type": "markdown",
   "metadata": {},
   "source": [
    "Всего 2579 выбросов. \n",
    "\n",
    "Самые новые автомобили 2022 года выпуска, хотя при парсинге было явно указано \"used\". \n",
    "\n",
    "Это возможно, и явно не выброс.\n",
    "\n",
    "Все выбросы - раритетные автомобили, которым больше 30 лет."
   ]
  },
  {
   "cell_type": "markdown",
   "metadata": {},
   "source": [
    "Введем числовой признак возраста автомобиля 'age':"
   ]
  },
  {
   "cell_type": "code",
   "execution_count": 133,
   "metadata": {
    "execution": {
     "iopub.execute_input": "2022-02-01T11:12:56.099615Z",
     "iopub.status.busy": "2022-02-01T11:12:56.099391Z",
     "iopub.status.idle": "2022-02-01T11:12:56.110954Z",
     "shell.execute_reply": "2022-02-01T11:12:56.109912Z",
     "shell.execute_reply.started": "2022-02-01T11:12:56.099588Z"
    }
   },
   "outputs": [],
   "source": [
    "data['age'] = 2022 - data.productionDate"
   ]
  },
  {
   "cell_type": "code",
   "execution_count": 134,
   "metadata": {
    "execution": {
     "iopub.execute_input": "2022-02-01T11:12:56.113877Z",
     "iopub.status.busy": "2022-02-01T11:12:56.113189Z",
     "iopub.status.idle": "2022-02-01T11:12:56.128874Z",
     "shell.execute_reply": "2022-02-01T11:12:56.127765Z",
     "shell.execute_reply.started": "2022-02-01T11:12:56.113825Z"
    }
   },
   "outputs": [],
   "source": [
    "data_outliers(data['age'])"
   ]
  },
  {
   "cell_type": "markdown",
   "metadata": {},
   "source": [
    "Выбросы нового числового признака сродни с родительским признаком, что неудивительно. Введем еще один категориальный признак - разобъем возраст по категориям:"
   ]
  },
  {
   "cell_type": "code",
   "execution_count": 135,
   "metadata": {
    "execution": {
     "iopub.execute_input": "2022-02-01T11:12:56.130939Z",
     "iopub.status.busy": "2022-02-01T11:12:56.130283Z",
     "iopub.status.idle": "2022-02-01T11:12:56.195313Z",
     "shell.execute_reply": "2022-02-01T11:12:56.194223Z",
     "shell.execute_reply.started": "2022-02-01T11:12:56.130893Z"
    }
   },
   "outputs": [],
   "source": [
    "data[\"category_age\"] = data[\"age\"].apply(lambda x: 3 if x//10 > 3 else x//10)"
   ]
  },
  {
   "cell_type": "markdown",
   "metadata": {},
   "source": [
    "Все выбросы попали в 3 категорию, поэтому не будем вводить бинарный признак раритетного автомобиля.\n",
    "\n",
    "Осмотрим новый признак:"
   ]
  },
  {
   "cell_type": "code",
   "execution_count": 136,
   "metadata": {
    "execution": {
     "iopub.execute_input": "2022-02-01T11:12:56.199488Z",
     "iopub.status.busy": "2022-02-01T11:12:56.198799Z",
     "iopub.status.idle": "2022-02-01T11:12:56.415507Z",
     "shell.execute_reply": "2022-02-01T11:12:56.414688Z",
     "shell.execute_reply.started": "2022-02-01T11:12:56.199425Z"
    }
   },
   "outputs": [],
   "source": [
    "sns.countplot(x = 'category_age', data = data)"
   ]
  },
  {
   "cell_type": "markdown",
   "metadata": {},
   "source": [
    "Определим категории:\n",
    "- 'productionDate' - под удаление, т.к. есть признак линейно заменяющий дату производства;\n",
    "- 'age' - числовой;\n",
    "- 'category_age' -  категориальный."
   ]
  },
  {
   "cell_type": "code",
   "execution_count": 137,
   "metadata": {
    "execution": {
     "iopub.execute_input": "2022-02-01T11:12:56.417637Z",
     "iopub.status.busy": "2022-02-01T11:12:56.417008Z",
     "iopub.status.idle": "2022-02-01T11:12:56.458899Z",
     "shell.execute_reply": "2022-02-01T11:12:56.457791Z",
     "shell.execute_reply.started": "2022-02-01T11:12:56.417581Z"
    }
   },
   "outputs": [],
   "source": [
    "data = data.drop('productionDate',axis=1)\n",
    "num_cols.append('age')\n",
    "cat_cols.append('category_age')"
   ]
  },
  {
   "cell_type": "markdown",
   "metadata": {},
   "source": [
    "#### 9.12. vehicleTransmission"
   ]
  },
  {
   "cell_type": "markdown",
   "metadata": {},
   "source": [
    "Осмотрим категориальный признак:"
   ]
  },
  {
   "cell_type": "code",
   "execution_count": 138,
   "metadata": {
    "execution": {
     "iopub.execute_input": "2022-02-01T11:12:56.460654Z",
     "iopub.status.busy": "2022-02-01T11:12:56.460341Z",
     "iopub.status.idle": "2022-02-01T11:12:56.792901Z",
     "shell.execute_reply": "2022-02-01T11:12:56.791793Z",
     "shell.execute_reply.started": "2022-02-01T11:12:56.460611Z"
    }
   },
   "outputs": [],
   "source": [
    "sns.countplot(x = 'vehicleTransmission', data = data)"
   ]
  },
  {
   "cell_type": "code",
   "execution_count": 139,
   "metadata": {
    "execution": {
     "iopub.execute_input": "2022-02-01T11:12:56.794952Z",
     "iopub.status.busy": "2022-02-01T11:12:56.794591Z",
     "iopub.status.idle": "2022-02-01T11:12:57.153574Z",
     "shell.execute_reply": "2022-02-01T11:12:57.152820Z",
     "shell.execute_reply.started": "2022-02-01T11:12:56.794907Z"
    }
   },
   "outputs": [],
   "source": [
    "get_boxplot(data, 'vehicleTransmission')"
   ]
  },
  {
   "cell_type": "code",
   "execution_count": 140,
   "metadata": {
    "execution": {
     "iopub.execute_input": "2022-02-01T11:12:57.155216Z",
     "iopub.status.busy": "2022-02-01T11:12:57.154837Z",
     "iopub.status.idle": "2022-02-01T11:12:57.158168Z",
     "shell.execute_reply": "2022-02-01T11:12:57.157517Z",
     "shell.execute_reply.started": "2022-02-01T11:12:57.155183Z"
    }
   },
   "outputs": [],
   "source": [
    "cat_cols.append('vehicleTransmission')"
   ]
  },
  {
   "cell_type": "markdown",
   "metadata": {},
   "source": [
    "#### 9.13. vendor"
   ]
  },
  {
   "cell_type": "markdown",
   "metadata": {},
   "source": [
    "Осмотрим категориальный признак:"
   ]
  },
  {
   "cell_type": "code",
   "execution_count": 141,
   "metadata": {
    "execution": {
     "iopub.execute_input": "2022-02-01T11:12:57.159806Z",
     "iopub.status.busy": "2022-02-01T11:12:57.159239Z",
     "iopub.status.idle": "2022-02-01T11:12:57.470770Z",
     "shell.execute_reply": "2022-02-01T11:12:57.469736Z",
     "shell.execute_reply.started": "2022-02-01T11:12:57.159771Z"
    }
   },
   "outputs": [],
   "source": [
    "get_boxplot(data, 'vendor')"
   ]
  },
  {
   "cell_type": "code",
   "execution_count": 142,
   "metadata": {
    "execution": {
     "iopub.execute_input": "2022-02-01T11:12:57.472798Z",
     "iopub.status.busy": "2022-02-01T11:12:57.472360Z",
     "iopub.status.idle": "2022-02-01T11:12:57.478172Z",
     "shell.execute_reply": "2022-02-01T11:12:57.477160Z",
     "shell.execute_reply.started": "2022-02-01T11:12:57.472752Z"
    }
   },
   "outputs": [],
   "source": [
    "cat_cols.append('vendor')"
   ]
  },
  {
   "cell_type": "markdown",
   "metadata": {},
   "source": [
    "#### 9.14. Владельцы"
   ]
  },
  {
   "cell_type": "markdown",
   "metadata": {},
   "source": [
    "Осмотрим категориальный признак:"
   ]
  },
  {
   "cell_type": "code",
   "execution_count": 143,
   "metadata": {
    "execution": {
     "iopub.execute_input": "2022-02-01T11:12:57.480010Z",
     "iopub.status.busy": "2022-02-01T11:12:57.479613Z",
     "iopub.status.idle": "2022-02-01T11:12:58.606147Z",
     "shell.execute_reply": "2022-02-01T11:12:58.605137Z",
     "shell.execute_reply.started": "2022-02-01T11:12:57.479979Z"
    }
   },
   "outputs": [],
   "source": [
    "sns.countplot(x = 'Владельцы', data = data)"
   ]
  },
  {
   "cell_type": "code",
   "execution_count": 144,
   "metadata": {
    "execution": {
     "iopub.execute_input": "2022-02-01T11:12:58.608208Z",
     "iopub.status.busy": "2022-02-01T11:12:58.607985Z",
     "iopub.status.idle": "2022-02-01T11:12:58.612176Z",
     "shell.execute_reply": "2022-02-01T11:12:58.611441Z",
     "shell.execute_reply.started": "2022-02-01T11:12:58.608180Z"
    }
   },
   "outputs": [],
   "source": [
    "cat_cols.append('Владельцы')"
   ]
  },
  {
   "cell_type": "markdown",
   "metadata": {},
   "source": [
    "#### 9.15. Владение"
   ]
  },
  {
   "cell_type": "markdown",
   "metadata": {},
   "source": [
    "Осмотрим бинарный признак:"
   ]
  },
  {
   "cell_type": "code",
   "execution_count": 145,
   "metadata": {
    "execution": {
     "iopub.execute_input": "2022-02-01T11:12:58.614002Z",
     "iopub.status.busy": "2022-02-01T11:12:58.613516Z",
     "iopub.status.idle": "2022-02-01T11:12:58.808900Z",
     "shell.execute_reply": "2022-02-01T11:12:58.808024Z",
     "shell.execute_reply.started": "2022-02-01T11:12:58.613848Z"
    }
   },
   "outputs": [],
   "source": [
    "sns.countplot(x = 'Владение', data = data)"
   ]
  },
  {
   "cell_type": "code",
   "execution_count": 146,
   "metadata": {
    "execution": {
     "iopub.execute_input": "2022-02-01T11:12:58.811239Z",
     "iopub.status.busy": "2022-02-01T11:12:58.810627Z",
     "iopub.status.idle": "2022-02-01T11:12:58.817286Z",
     "shell.execute_reply": "2022-02-01T11:12:58.816132Z",
     "shell.execute_reply.started": "2022-02-01T11:12:58.811189Z"
    }
   },
   "outputs": [],
   "source": [
    "bin_cols.append('Владение')"
   ]
  },
  {
   "cell_type": "markdown",
   "metadata": {},
   "source": [
    "#### 9.16. ПТС"
   ]
  },
  {
   "cell_type": "markdown",
   "metadata": {},
   "source": [
    "Осмотрим признак:"
   ]
  },
  {
   "cell_type": "code",
   "execution_count": 147,
   "metadata": {
    "execution": {
     "iopub.execute_input": "2022-02-01T11:12:58.819440Z",
     "iopub.status.busy": "2022-02-01T11:12:58.818921Z",
     "iopub.status.idle": "2022-02-01T11:12:59.123436Z",
     "shell.execute_reply": "2022-02-01T11:12:59.122781Z",
     "shell.execute_reply.started": "2022-02-01T11:12:58.819379Z"
    }
   },
   "outputs": [],
   "source": [
    "get_boxplot(data, 'ПТС')"
   ]
  },
  {
   "cell_type": "markdown",
   "metadata": {},
   "source": [
    "Преобразуем в бинарный признак:"
   ]
  },
  {
   "cell_type": "code",
   "execution_count": 148,
   "metadata": {
    "execution": {
     "iopub.execute_input": "2022-02-01T11:12:59.125269Z",
     "iopub.status.busy": "2022-02-01T11:12:59.125051Z",
     "iopub.status.idle": "2022-02-01T11:12:59.193435Z",
     "shell.execute_reply": "2022-02-01T11:12:59.192518Z",
     "shell.execute_reply.started": "2022-02-01T11:12:59.125242Z"
    }
   },
   "outputs": [],
   "source": [
    "data['ПТС'] = data['ПТС'].apply(lambda x: 1 if x == 'Оригинал' else 0).astype('int8')\n",
    "bin_cols.append('ПТС')"
   ]
  },
  {
   "cell_type": "markdown",
   "metadata": {},
   "source": [
    "#### 9.17. Руль"
   ]
  },
  {
   "cell_type": "markdown",
   "metadata": {},
   "source": [
    "Осмотрим признак:"
   ]
  },
  {
   "cell_type": "code",
   "execution_count": 149,
   "metadata": {
    "execution": {
     "iopub.execute_input": "2022-02-01T11:12:59.195230Z",
     "iopub.status.busy": "2022-02-01T11:12:59.194933Z",
     "iopub.status.idle": "2022-02-01T11:12:59.494176Z",
     "shell.execute_reply": "2022-02-01T11:12:59.492944Z",
     "shell.execute_reply.started": "2022-02-01T11:12:59.195197Z"
    }
   },
   "outputs": [],
   "source": [
    "get_boxplot(data, 'Руль')"
   ]
  },
  {
   "cell_type": "markdown",
   "metadata": {},
   "source": [
    "Преобразуем в бинарный признак:"
   ]
  },
  {
   "cell_type": "code",
   "execution_count": 150,
   "metadata": {
    "execution": {
     "iopub.execute_input": "2022-02-01T11:12:59.496362Z",
     "iopub.status.busy": "2022-02-01T11:12:59.496015Z",
     "iopub.status.idle": "2022-02-01T11:12:59.562359Z",
     "shell.execute_reply": "2022-02-01T11:12:59.561387Z",
     "shell.execute_reply.started": "2022-02-01T11:12:59.496309Z"
    }
   },
   "outputs": [],
   "source": [
    "data['Руль'] = data['Руль'].apply(lambda x: 1 if x == 'Левый' else 0).astype('int8')\n",
    "bin_cols.append('Руль')"
   ]
  },
  {
   "cell_type": "markdown",
   "metadata": {},
   "source": [
    "#### 9.18. Привод"
   ]
  },
  {
   "cell_type": "markdown",
   "metadata": {},
   "source": [
    "Осмотрим категориальный признак:"
   ]
  },
  {
   "cell_type": "code",
   "execution_count": 151,
   "metadata": {
    "execution": {
     "iopub.execute_input": "2022-02-01T11:12:59.563793Z",
     "iopub.status.busy": "2022-02-01T11:12:59.563533Z",
     "iopub.status.idle": "2022-02-01T11:12:59.885149Z",
     "shell.execute_reply": "2022-02-01T11:12:59.884149Z",
     "shell.execute_reply.started": "2022-02-01T11:12:59.563766Z"
    }
   },
   "outputs": [],
   "source": [
    "get_boxplot(data, 'Привод')"
   ]
  },
  {
   "cell_type": "code",
   "execution_count": 152,
   "metadata": {
    "execution": {
     "iopub.execute_input": "2022-02-01T11:12:59.887506Z",
     "iopub.status.busy": "2022-02-01T11:12:59.886915Z",
     "iopub.status.idle": "2022-02-01T11:12:59.892656Z",
     "shell.execute_reply": "2022-02-01T11:12:59.891772Z",
     "shell.execute_reply.started": "2022-02-01T11:12:59.887459Z"
    }
   },
   "outputs": [],
   "source": [
    "cat_cols.append('Привод')"
   ]
  },
  {
   "cell_type": "markdown",
   "metadata": {},
   "source": [
    "#### 9.19. price"
   ]
  },
  {
   "cell_type": "markdown",
   "metadata": {},
   "source": [
    "Средняя дата парсинга, как упоминалось выше, -  21 октября 2020 года. "
   ]
  },
  {
   "cell_type": "code",
   "execution_count": 153,
   "metadata": {
    "execution": {
     "iopub.execute_input": "2022-02-01T11:12:59.894794Z",
     "iopub.status.busy": "2022-02-01T11:12:59.894416Z",
     "iopub.status.idle": "2022-02-01T11:12:59.907067Z",
     "shell.execute_reply": "2022-02-01T11:12:59.906200Z",
     "shell.execute_reply.started": "2022-02-01T11:12:59.894728Z"
    }
   },
   "outputs": [],
   "source": [
    "parcing_date"
   ]
  },
  {
   "cell_type": "markdown",
   "metadata": {},
   "source": [
    "Данные же, используемые в обучающем датасете, собраны в конце января 2022."
   ]
  },
  {
   "cell_type": "markdown",
   "metadata": {},
   "source": [
    "Мы должны обработать признак цены автомобиля с учетом инфляции"
   ]
  },
  {
   "cell_type": "markdown",
   "metadata": {},
   "source": [
    "<img src=\"https://www.autostat.ru/application/includes/blocks/big_photo/images/original/f2a/8c2/366853b406d0c5a564298e0c31.jpg\" width=\"90%\" height = \"60%\" alt=\"\">"
   ]
  },
  {
   "cell_type": "markdown",
   "metadata": {},
   "source": [
    "Источник картинки [www.autostat.ru](https://www.autostat.ru/infographics/48987/)"
   ]
  },
  {
   "cell_type": "markdown",
   "metadata": {},
   "source": [
    "С 2020 по 2022 год цены на автомобили сильно поднялись, особенно на популярные модели. Почитать об этом можно по ссылкам:\n",
    "\n",
    "[Цены на автомобили с пробегом растут быстрее, чем на новые](https://mag.auto.ru/article/risepricescalltouchpres/)\n",
    "\n",
    "[Средняя цена автомобилей в Москве в массовом сегменте](https://cenamashin.ru/statistika/moskva/avg_price?seg=1)\n",
    "\n",
    "[Как менялись цены на автомобили с пробегом в России?](https://www.autostat.ru/infographics/48987/)"
   ]
  },
  {
   "cell_type": "markdown",
   "metadata": {},
   "source": [
    "Будем использовать статистику с [cenamashin.ru](https://cenamashin.ru/statistika/moskva/avg_price?seg=1)\n",
    "\n",
    "    Средняя цена трехлетнего автомобиля в октябре 2020:       738767\n",
    "\n",
    "    Средняя цена автомобиля в октябре 2020:                   584605\n",
    "\n",
    "    Средняя цена трехлетнего автомобиля сейчас:               1107344\n",
    "\n",
    "    Средняя цена автомобиля сейчас:                           790063\n",
    "\n",
    "Посчитаем инфляцию для двух параметров:"
   ]
  },
  {
   "cell_type": "code",
   "execution_count": 154,
   "metadata": {
    "execution": {
     "iopub.execute_input": "2022-02-01T11:12:59.908643Z",
     "iopub.status.busy": "2022-02-01T11:12:59.908294Z",
     "iopub.status.idle": "2022-02-01T11:12:59.921780Z",
     "shell.execute_reply": "2022-02-01T11:12:59.920871Z",
     "shell.execute_reply.started": "2022-02-01T11:12:59.908603Z"
    }
   },
   "outputs": [],
   "source": [
    "inflation_3year = 1107344/738767\n",
    "display('Средняя инфляция трехлетнего автомобиля: ' + str(round(inflation_3year, 3)))\n",
    "inflation_all = 790063/584605\n",
    "display('Средняя инфляция цена автомобиля: ' + str(round(inflation_all, 3)))"
   ]
  },
  {
   "cell_type": "markdown",
   "metadata": {},
   "source": [
    "Инфляция 50 % - это вполне вероятно, но слишком большая. \n",
    "\n",
    "35% - вроде правдивая инфляция, учитывая простой автопроизводств из-за дифицита полупроводников.\n",
    "\n",
    "[Дефицит полупроводников останавливает мировой автопром](https://quote.rbc.ru/news/article/605de55e9a7947b757afd891)\n",
    "\n",
    "[Кризис полупроводников в 2022 году: удорожание чипов, усугубление проблем автомобилестроения, игровой отрасли и медицины](https://habr.com/ru/company/selectel/blog/561986/)\n",
    "\n",
    "[Почему дефицит микросхем – это миф, но автокомпаниям и дилерам он выгоден](https://5koleso.ru/blogi/pochemu-deficzit-mikroshem-eto-mif-no-avtokompaniyam-i-dileram-on-vygoden/)\n",
    "\n",
    "[Глобальный дефицит полупроводников: идеальный шторм](https://econs.online/articles/ekonomika/globalnyy-defitsit-poluprovodnikov-idealnyy-shtorm/)\n",
    "\n",
    "Cущественная инфляция на новые автомобили в 50% за полтора года - вполне реальная цифра.\n",
    "\n",
    "Вслед за новыми автомобилями дорожают и автомобили с пробегом. В качестве коэффициента инфляции примем среднее между полученными коэффициентами инфляции."
   ]
  },
  {
   "cell_type": "code",
   "execution_count": 155,
   "metadata": {
    "execution": {
     "iopub.execute_input": "2022-02-01T11:12:59.924263Z",
     "iopub.status.busy": "2022-02-01T11:12:59.923703Z",
     "iopub.status.idle": "2022-02-01T11:12:59.932383Z",
     "shell.execute_reply": "2022-02-01T11:12:59.931525Z",
     "shell.execute_reply.started": "2022-02-01T11:12:59.924197Z"
    }
   },
   "outputs": [],
   "source": [
    "inflation = (inflation_3year + inflation_all) / 2\n",
    "inflation"
   ]
  },
  {
   "cell_type": "markdown",
   "metadata": {},
   "source": [
    "Итоговая инфляция 42.5 процента. За полтора года с довольно насыщенными различными событиями вполне реальная инфляция.\n",
    "\n",
    "Поделим целевой признак на полученный коэффициент инфляции:"
   ]
  },
  {
   "cell_type": "code",
   "execution_count": 156,
   "metadata": {
    "execution": {
     "iopub.execute_input": "2022-02-01T11:12:59.935056Z",
     "iopub.status.busy": "2022-02-01T11:12:59.933980Z",
     "iopub.status.idle": "2022-02-01T11:12:59.942153Z",
     "shell.execute_reply": "2022-02-01T11:12:59.941417Z",
     "shell.execute_reply.started": "2022-02-01T11:12:59.935017Z"
    }
   },
   "outputs": [],
   "source": [
    "data['price'] = data['price']/inflation"
   ]
  },
  {
   "cell_type": "markdown",
   "metadata": {},
   "source": [
    "### 10. Обработка признаков и поиск корреляций"
   ]
  },
  {
   "cell_type": "markdown",
   "metadata": {},
   "source": [
    "#### 10.1. Числовые признаки "
   ]
  },
  {
   "cell_type": "markdown",
   "metadata": {},
   "source": [
    "Применим стандартизацию к числовым признакам:"
   ]
  },
  {
   "cell_type": "code",
   "execution_count": 157,
   "metadata": {
    "execution": {
     "iopub.execute_input": "2022-02-01T11:12:59.944514Z",
     "iopub.status.busy": "2022-02-01T11:12:59.943933Z",
     "iopub.status.idle": "2022-02-01T11:12:59.967554Z",
     "shell.execute_reply": "2022-02-01T11:12:59.966856Z",
     "shell.execute_reply.started": "2022-02-01T11:12:59.944470Z"
    }
   },
   "outputs": [],
   "source": [
    "data[num_cols] = StandardScaler().fit_transform(data[num_cols].values)"
   ]
  },
  {
   "cell_type": "code",
   "execution_count": 158,
   "metadata": {
    "execution": {
     "iopub.execute_input": "2022-02-01T11:12:59.971920Z",
     "iopub.status.busy": "2022-02-01T11:12:59.971488Z",
     "iopub.status.idle": "2022-02-01T11:12:59.991258Z",
     "shell.execute_reply": "2022-02-01T11:12:59.990424Z",
     "shell.execute_reply.started": "2022-02-01T11:12:59.971881Z"
    }
   },
   "outputs": [],
   "source": [
    "data[num_cols]"
   ]
  },
  {
   "cell_type": "markdown",
   "metadata": {},
   "source": [
    "#### 10.2. Бинарные признаки"
   ]
  },
  {
   "cell_type": "markdown",
   "metadata": {},
   "source": [
    "Заменяем бинарные признаки 0 и 1 с помощью LabelEncoder:"
   ]
  },
  {
   "cell_type": "code",
   "execution_count": 159,
   "metadata": {
    "execution": {
     "iopub.execute_input": "2022-02-01T11:12:59.992818Z",
     "iopub.status.busy": "2022-02-01T11:12:59.992463Z",
     "iopub.status.idle": "2022-02-01T11:13:00.017926Z",
     "shell.execute_reply": "2022-02-01T11:13:00.016994Z",
     "shell.execute_reply.started": "2022-02-01T11:12:59.992784Z"
    }
   },
   "outputs": [],
   "source": [
    "label_encoder = LabelEncoder()\n",
    "for column in bin_cols:\n",
    "    data[column] = label_encoder.fit_transform(data[column])"
   ]
  },
  {
   "cell_type": "code",
   "execution_count": 160,
   "metadata": {
    "execution": {
     "iopub.execute_input": "2022-02-01T11:13:00.019694Z",
     "iopub.status.busy": "2022-02-01T11:13:00.019436Z",
     "iopub.status.idle": "2022-02-01T11:13:00.039754Z",
     "shell.execute_reply": "2022-02-01T11:13:00.038913Z",
     "shell.execute_reply.started": "2022-02-01T11:13:00.019664Z"
    }
   },
   "outputs": [],
   "source": [
    "data[bin_cols]"
   ]
  },
  {
   "cell_type": "markdown",
   "metadata": {},
   "source": [
    "#### 10.3. Категориальные признаки"
   ]
  },
  {
   "cell_type": "code",
   "execution_count": 161,
   "metadata": {
    "execution": {
     "iopub.execute_input": "2022-02-01T11:13:00.041272Z",
     "iopub.status.busy": "2022-02-01T11:13:00.041035Z",
     "iopub.status.idle": "2022-02-01T11:13:00.165994Z",
     "shell.execute_reply": "2022-02-01T11:13:00.165034Z",
     "shell.execute_reply.started": "2022-02-01T11:13:00.041241Z"
    }
   },
   "outputs": [],
   "source": [
    "for column in cat_cols:\n",
    "    data[column] = data[column].astype('category').cat.codes"
   ]
  },
  {
   "cell_type": "markdown",
   "metadata": {},
   "source": [
    "#### 10.4. Поиск корреляций"
   ]
  },
  {
   "cell_type": "code",
   "execution_count": 162,
   "metadata": {
    "execution": {
     "iopub.execute_input": "2022-02-01T11:13:00.167461Z",
     "iopub.status.busy": "2022-02-01T11:13:00.167245Z",
     "iopub.status.idle": "2022-02-01T11:13:00.526079Z",
     "shell.execute_reply": "2022-02-01T11:13:00.525141Z",
     "shell.execute_reply.started": "2022-02-01T11:13:00.167434Z"
    }
   },
   "outputs": [],
   "source": [
    "corr = data.corr()\n",
    "cmap = sns.diverging_palette(5, 250, as_cmap=True)\n",
    "\n",
    "def magnify():\n",
    "    return [dict(selector='th',\n",
    "                 props=[('font-size', '7pt')]),\n",
    "            dict(selector='td',\n",
    "                 props=[('padding', '0em 0em')]),\n",
    "            dict(selector='th:hover',\n",
    "                 props=[('font-size', '12pt')]),\n",
    "            dict(selector='tr:hover td:hover',\n",
    "                 props=[('max-width', '200px'),\n",
    "                        ('font-size', '12pt')])\n",
    "]\n",
    "\n",
    "corr.style.background_gradient(cmap, axis=1)\\\n",
    "    .set_properties(**{'max-width': '80px', 'font-size': '10pt'})\\\n",
    "    .set_caption('Hover to magify')\\\n",
    "    .set_precision(2)\\\n",
    "    .set_table_styles(magnify())"
   ]
  },
  {
   "cell_type": "markdown",
   "metadata": {},
   "source": [
    "Высокий коэффициент корреляции между:\n",
    "- пробегом и категорией пробега;\n",
    "- корреляции между возрастом и категорией возраст;\n",
    "- enginePower и muscle_car.\n",
    "\n",
    "Все признаки конкурируют между собой, но у дочерних признаков уменьшается корреляция с другими признаками.\n",
    "\n",
    "Хотя удаление каждого из параметров очень сильно снижает результат, поэтому enginePower останется в датасете."
   ]
  },
  {
   "cell_type": "markdown",
   "metadata": {},
   "source": [
    "enginePower"
   ]
  },
  {
   "cell_type": "markdown",
   "metadata": {},
   "source": [
    "### 11. Train Split"
   ]
  },
  {
   "cell_type": "markdown",
   "metadata": {},
   "source": [
    "По метке разделяем данный на обучающие и тестовые:"
   ]
  },
  {
   "cell_type": "code",
   "execution_count": 163,
   "metadata": {
    "execution": {
     "iopub.execute_input": "2022-02-01T11:13:00.528071Z",
     "iopub.status.busy": "2022-02-01T11:13:00.527775Z",
     "iopub.status.idle": "2022-02-01T11:13:00.554955Z",
     "shell.execute_reply": "2022-02-01T11:13:00.554134Z",
     "shell.execute_reply.started": "2022-02-01T11:13:00.528038Z"
    }
   },
   "outputs": [],
   "source": [
    "train_data = data.query('sample == 1').drop(['sample'], axis=1)\n",
    "test_data = data.query('sample == 0').drop(['sample','price'], axis=1)"
   ]
  },
  {
   "cell_type": "markdown",
   "metadata": {},
   "source": [
    "Определяем X и y:"
   ]
  },
  {
   "cell_type": "code",
   "execution_count": 164,
   "metadata": {
    "execution": {
     "iopub.execute_input": "2022-02-01T11:13:00.556610Z",
     "iopub.status.busy": "2022-02-01T11:13:00.556388Z",
     "iopub.status.idle": "2022-02-01T11:13:00.563367Z",
     "shell.execute_reply": "2022-02-01T11:13:00.562431Z",
     "shell.execute_reply.started": "2022-02-01T11:13:00.556582Z"
    }
   },
   "outputs": [],
   "source": [
    "X = train_data.drop(['price'], axis=1)\n",
    "y = train_data['price']"
   ]
  },
  {
   "cell_type": "markdown",
   "metadata": {},
   "source": [
    "Делаем Train Split:"
   ]
  },
  {
   "cell_type": "code",
   "execution_count": 165,
   "metadata": {
    "execution": {
     "iopub.execute_input": "2022-02-01T11:13:00.565079Z",
     "iopub.status.busy": "2022-02-01T11:13:00.564633Z",
     "iopub.status.idle": "2022-02-01T11:13:00.583229Z",
     "shell.execute_reply": "2022-02-01T11:13:00.582608Z",
     "shell.execute_reply.started": "2022-02-01T11:13:00.565047Z"
    }
   },
   "outputs": [],
   "source": [
    "X_train, X_test, y_train, y_test = train_test_split(X, y, test_size=0.2, shuffle=True, random_state=RANDOM_SEED)"
   ]
  },
  {
   "cell_type": "markdown",
   "metadata": {},
   "source": [
    "### 12. Model choice"
   ]
  },
  {
   "cell_type": "markdown",
   "metadata": {},
   "source": [
    "Содзадим датасет для хранения предсказанной точности:"
   ]
  },
  {
   "cell_type": "code",
   "execution_count": 166,
   "metadata": {
    "execution": {
     "iopub.execute_input": "2022-02-01T11:13:00.584867Z",
     "iopub.status.busy": "2022-02-01T11:13:00.584473Z",
     "iopub.status.idle": "2022-02-01T11:13:00.589768Z",
     "shell.execute_reply": "2022-02-01T11:13:00.588812Z",
     "shell.execute_reply.started": "2022-02-01T11:13:00.584836Z"
    }
   },
   "outputs": [],
   "source": [
    "MAPE = []"
   ]
  },
  {
   "cell_type": "markdown",
   "metadata": {},
   "source": [
    "#### 12.1. \"Наивная\" модель "
   ]
  },
  {
   "cell_type": "code",
   "execution_count": 167,
   "metadata": {
    "execution": {
     "iopub.execute_input": "2022-02-01T11:13:00.591487Z",
     "iopub.status.busy": "2022-02-01T11:13:00.591111Z",
     "iopub.status.idle": "2022-02-01T11:13:00.600788Z",
     "shell.execute_reply": "2022-02-01T11:13:00.600182Z",
     "shell.execute_reply.started": "2022-02-01T11:13:00.591456Z"
    }
   },
   "outputs": [],
   "source": [
    "tmp_train = X_train.copy()\n",
    "tmp_train['price'] = y_train"
   ]
  },
  {
   "cell_type": "markdown",
   "metadata": {},
   "source": [
    "Находим median по экземплярам engineDisplacement в трейне и размечаем тест:"
   ]
  },
  {
   "cell_type": "code",
   "execution_count": 168,
   "metadata": {
    "execution": {
     "iopub.execute_input": "2022-02-01T11:13:00.602645Z",
     "iopub.status.busy": "2022-02-01T11:13:00.602350Z",
     "iopub.status.idle": "2022-02-01T11:13:00.612240Z",
     "shell.execute_reply": "2022-02-01T11:13:00.611574Z",
     "shell.execute_reply.started": "2022-02-01T11:13:00.602614Z"
    }
   },
   "outputs": [],
   "source": [
    "predict = X_test['engineDisplacement'].map(tmp_train.groupby('engineDisplacement')['price'].median())"
   ]
  },
  {
   "cell_type": "markdown",
   "metadata": {},
   "source": [
    "Оцениваем точность:"
   ]
  },
  {
   "cell_type": "code",
   "execution_count": 169,
   "metadata": {
    "execution": {
     "iopub.execute_input": "2022-02-01T11:13:00.614172Z",
     "iopub.status.busy": "2022-02-01T11:13:00.613527Z",
     "iopub.status.idle": "2022-02-01T11:13:00.621003Z",
     "shell.execute_reply": "2022-02-01T11:13:00.620138Z",
     "shell.execute_reply.started": "2022-02-01T11:13:00.614124Z"
    }
   },
   "outputs": [],
   "source": [
    "naive_mape = mape(y_test, predict.values)\n",
    "MAPE.append({'MAPE наивной модели': naive_mape})\n",
    "print(f\"Точность наивной модели по метрике MAPE: {(naive_mape)*100:0.2f}%\")"
   ]
  },
  {
   "cell_type": "markdown",
   "metadata": {},
   "source": [
    "#### 12.2. Простая модель линейной регрессии"
   ]
  },
  {
   "cell_type": "code",
   "execution_count": 170,
   "metadata": {
    "execution": {
     "iopub.execute_input": "2022-02-01T11:13:00.622657Z",
     "iopub.status.busy": "2022-02-01T11:13:00.622170Z",
     "iopub.status.idle": "2022-02-01T11:13:00.686332Z",
     "shell.execute_reply": "2022-02-01T11:13:00.684769Z",
     "shell.execute_reply.started": "2022-02-01T11:13:00.622628Z"
    }
   },
   "outputs": [],
   "source": [
    "linear_regr = LinearRegression().fit(X_train, np.log(y_train+1))\n",
    "predict_test = np.exp(linear_regr.predict(X_test))"
   ]
  },
  {
   "cell_type": "markdown",
   "metadata": {},
   "source": [
    "Оцениваем точность:"
   ]
  },
  {
   "cell_type": "code",
   "execution_count": 171,
   "metadata": {
    "execution": {
     "iopub.execute_input": "2022-02-01T11:13:00.692196Z",
     "iopub.status.busy": "2022-02-01T11:13:00.689417Z",
     "iopub.status.idle": "2022-02-01T11:13:00.711555Z",
     "shell.execute_reply": "2022-02-01T11:13:00.710173Z",
     "shell.execute_reply.started": "2022-02-01T11:13:00.692141Z"
    }
   },
   "outputs": [],
   "source": [
    "linear_mape = mape(y_test, predict_test)\n",
    "MAPE.append({'MAPE линейной регрессии': linear_mape})\n",
    "print(f\"Точность модели линейной регрессии по метрике MAPE: {(linear_mape)*100:0.2f}%\")"
   ]
  },
  {
   "cell_type": "markdown",
   "metadata": {},
   "source": [
    "#### 12.3. CatBoost"
   ]
  },
  {
   "cell_type": "markdown",
   "metadata": {},
   "source": [
    "#### 12.3.a. CatBoost without Log"
   ]
  },
  {
   "cell_type": "code",
   "execution_count": 172,
   "metadata": {
    "execution": {
     "iopub.execute_input": "2022-02-01T11:13:00.717216Z",
     "iopub.status.busy": "2022-02-01T11:13:00.714705Z",
     "iopub.status.idle": "2022-02-01T11:13:25.278109Z",
     "shell.execute_reply": "2022-02-01T11:13:25.277176Z",
     "shell.execute_reply.started": "2022-02-01T11:13:00.717165Z"
    }
   },
   "outputs": [],
   "source": [
    "model = CatBoostRegressor(iterations = 5000,\n",
    "                          random_seed = RANDOM_SEED,\n",
    "                          eval_metric='MAPE',\n",
    "                          custom_metric=['R2', 'MAE'],\n",
    "                          silent=True,\n",
    "                         )\n",
    "model.fit(X_train, y_train,\n",
    "         eval_set=(X_test, y_test),\n",
    "         verbose_eval=0,\n",
    "         use_best_model=True,\n",
    "         )\n",
    "\n",
    "model.save_model('catboost_single_model_baseline.model')"
   ]
  },
  {
   "cell_type": "code",
   "execution_count": 173,
   "metadata": {
    "execution": {
     "iopub.execute_input": "2022-02-01T11:13:25.279865Z",
     "iopub.status.busy": "2022-02-01T11:13:25.279518Z",
     "iopub.status.idle": "2022-02-01T11:13:25.310583Z",
     "shell.execute_reply": "2022-02-01T11:13:25.309623Z",
     "shell.execute_reply.started": "2022-02-01T11:13:25.279809Z"
    }
   },
   "outputs": [],
   "source": [
    "predict_CatBoost = model.predict(X_test)"
   ]
  },
  {
   "cell_type": "markdown",
   "metadata": {},
   "source": [
    "Оцениваем точность:"
   ]
  },
  {
   "cell_type": "code",
   "execution_count": 174,
   "metadata": {
    "execution": {
     "iopub.execute_input": "2022-02-01T11:13:25.312446Z",
     "iopub.status.busy": "2022-02-01T11:13:25.312136Z",
     "iopub.status.idle": "2022-02-01T11:13:25.320282Z",
     "shell.execute_reply": "2022-02-01T11:13:25.319457Z",
     "shell.execute_reply.started": "2022-02-01T11:13:25.312403Z"
    }
   },
   "outputs": [],
   "source": [
    "CatBoost_mape = mape(y_test, predict_CatBoost)\n",
    "MAPE.append({'MAPE CatBoost': CatBoost_mape})\n",
    "print(f\"Точность модели CatBoost по метрике MAPE: {(CatBoost_mape)*100:0.2f}%\")"
   ]
  },
  {
   "cell_type": "markdown",
   "metadata": {},
   "source": [
    "#### 12.3.b. CatBoost with Log Target"
   ]
  },
  {
   "cell_type": "markdown",
   "metadata": {},
   "source": [
    "Попробуем взять таргет в логарифм - это позволит уменьшить влияние выбросов на обучение модели.    "
   ]
  },
  {
   "cell_type": "code",
   "execution_count": 175,
   "metadata": {
    "execution": {
     "iopub.execute_input": "2022-02-01T11:13:25.322078Z",
     "iopub.status.busy": "2022-02-01T11:13:25.321855Z",
     "iopub.status.idle": "2022-02-01T11:13:50.062290Z",
     "shell.execute_reply": "2022-02-01T11:13:50.061416Z",
     "shell.execute_reply.started": "2022-02-01T11:13:25.322050Z"
    }
   },
   "outputs": [],
   "source": [
    "model = CatBoostRegressor(iterations = 5000,\n",
    "                          random_seed = RANDOM_SEED,\n",
    "                          eval_metric='MAPE',\n",
    "                          custom_metric=['R2', 'MAE'],\n",
    "                          silent=True,\n",
    "                         )\n",
    "model.fit(X_train, np.log(y_train),\n",
    "         eval_set=(X_test, np.log(y_test)),\n",
    "         verbose_eval=0,\n",
    "         use_best_model=True,\n",
    "         )\n",
    "\n",
    "model.save_model('catboost_single_model_2_baseline.model')"
   ]
  },
  {
   "cell_type": "code",
   "execution_count": 176,
   "metadata": {
    "execution": {
     "iopub.execute_input": "2022-02-01T11:13:50.064515Z",
     "iopub.status.busy": "2022-02-01T11:13:50.063690Z",
     "iopub.status.idle": "2022-02-01T11:13:50.093597Z",
     "shell.execute_reply": "2022-02-01T11:13:50.092762Z",
     "shell.execute_reply.started": "2022-02-01T11:13:50.064470Z"
    }
   },
   "outputs": [],
   "source": [
    "predict_CatBoost_log = np.exp(model.predict(X_test))"
   ]
  },
  {
   "cell_type": "markdown",
   "metadata": {},
   "source": [
    "Оцениваем точность:"
   ]
  },
  {
   "cell_type": "code",
   "execution_count": 177,
   "metadata": {
    "execution": {
     "iopub.execute_input": "2022-02-01T11:13:50.095113Z",
     "iopub.status.busy": "2022-02-01T11:13:50.094884Z",
     "iopub.status.idle": "2022-02-01T11:13:50.102753Z",
     "shell.execute_reply": "2022-02-01T11:13:50.101848Z",
     "shell.execute_reply.started": "2022-02-01T11:13:50.095086Z"
    }
   },
   "outputs": [],
   "source": [
    "CatBoost_mape_log = mape(y_test, predict_CatBoost_log)\n",
    "MAPE.append({'MAPE CatBoost with log': CatBoost_mape_log})\n",
    "print(f\"Точность модели CatBoost с логарифмированием по метрике MAPE: {(CatBoost_mape_log)*100:0.2f}%\")"
   ]
  },
  {
   "cell_type": "markdown",
   "metadata": {},
   "source": [
    "#### 12.4. xgboost"
   ]
  },
  {
   "cell_type": "code",
   "execution_count": 178,
   "metadata": {
    "execution": {
     "iopub.execute_input": "2022-02-01T11:13:50.104315Z",
     "iopub.status.busy": "2022-02-01T11:13:50.104065Z",
     "iopub.status.idle": "2022-02-01T11:14:30.801295Z",
     "shell.execute_reply": "2022-02-01T11:14:30.800374Z",
     "shell.execute_reply.started": "2022-02-01T11:13:50.104285Z"
    }
   },
   "outputs": [],
   "source": [
    "xb = xgb.XGBRegressor(objective='reg:squarederror', colsample_bytree=0.5, learning_rate=0.03, \\\n",
    "                      max_depth=12, alpha=1, n_jobs=-1, n_estimators=1000)\n",
    "xb.fit(X_train, np.log(y_train+1))\n",
    "VERSION = 7"
   ]
  },
  {
   "cell_type": "code",
   "execution_count": 179,
   "metadata": {
    "execution": {
     "iopub.execute_input": "2022-02-01T11:14:30.803356Z",
     "iopub.status.busy": "2022-02-01T11:14:30.802641Z",
     "iopub.status.idle": "2022-02-01T11:14:31.068189Z",
     "shell.execute_reply": "2022-02-01T11:14:31.067405Z",
     "shell.execute_reply.started": "2022-02-01T11:14:30.803322Z"
    }
   },
   "outputs": [],
   "source": [
    "predict_xgboost = np.exp(xb.predict(X_test))"
   ]
  },
  {
   "cell_type": "markdown",
   "metadata": {},
   "source": [
    "Оцениваем точность:"
   ]
  },
  {
   "cell_type": "code",
   "execution_count": 180,
   "metadata": {
    "execution": {
     "iopub.execute_input": "2022-02-01T11:14:31.069853Z",
     "iopub.status.busy": "2022-02-01T11:14:31.069467Z",
     "iopub.status.idle": "2022-02-01T11:14:31.077252Z",
     "shell.execute_reply": "2022-02-01T11:14:31.076467Z",
     "shell.execute_reply.started": "2022-02-01T11:14:31.069820Z"
    }
   },
   "outputs": [],
   "source": [
    "xgboost_mape = mape(y_test, predict_xgboost)\n",
    "MAPE.append({'MAPE xgboost': xgboost_mape})\n",
    "print(f\"Точность модели xgboost по метрике MAPE: {(xgboost_mape)*100:0.2f}%\")"
   ]
  },
  {
   "cell_type": "markdown",
   "metadata": {},
   "source": [
    "#### 12.5. GradientBoosting с подбором параметров"
   ]
  },
  {
   "cell_type": "markdown",
   "metadata": {},
   "source": [
    "Пропишем функцию подбора параметров:"
   ]
  },
  {
   "cell_type": "code",
   "execution_count": 181,
   "metadata": {
    "execution": {
     "iopub.execute_input": "2022-02-01T11:14:31.082510Z",
     "iopub.status.busy": "2022-02-01T11:14:31.081064Z",
     "iopub.status.idle": "2022-02-01T11:14:31.089314Z",
     "shell.execute_reply": "2022-02-01T11:14:31.088769Z",
     "shell.execute_reply.started": "2022-02-01T11:14:31.082472Z"
    }
   },
   "outputs": [],
   "source": [
    "def regularise(X_train, y_train):\n",
    "    max_depth = [5, 10, 15]\n",
    "    n_estimators = [100, 200, 1000]\n",
    "    hyperparameters = dict(max_depth=max_depth, n_estimators=n_estimators)\n",
    "    model = GradientBoostingRegressor()\n",
    "    model.fit(X_train, y_train)\n",
    "    clf = GridSearchCV(model, hyperparameters)\n",
    "    best_model = clf.fit(X_train, y_train)\n",
    "    best_max_depth = best_model.best_estimator_.get_params()['max_depth']\n",
    "    best_n_estimators = best_model.best_estimator_.get_params()['n_estimators']\n",
    "    return best_max_depth, best_n_estimators"
   ]
  },
  {
   "cell_type": "markdown",
   "metadata": {},
   "source": [
    "Проводим обучение:"
   ]
  },
  {
   "cell_type": "code",
   "execution_count": 182,
   "metadata": {
    "execution": {
     "iopub.execute_input": "2022-02-01T11:14:31.090640Z",
     "iopub.status.busy": "2022-02-01T11:14:31.090323Z",
     "iopub.status.idle": "2022-02-01T11:15:58.679437Z",
     "shell.execute_reply": "2022-02-01T11:15:58.678801Z",
     "shell.execute_reply.started": "2022-02-01T11:14:31.090613Z"
    }
   },
   "outputs": [],
   "source": [
    "gb = GradientBoostingRegressor(min_samples_split=2, learning_rate=0.03, max_depth=5, n_estimators=1000)\n",
    "gb.fit(X_train, np.log(y_train+1))"
   ]
  },
  {
   "cell_type": "code",
   "execution_count": 183,
   "metadata": {
    "execution": {
     "iopub.execute_input": "2022-02-01T11:15:58.681108Z",
     "iopub.status.busy": "2022-02-01T11:15:58.680750Z",
     "iopub.status.idle": "2022-02-01T11:15:58.896188Z",
     "shell.execute_reply": "2022-02-01T11:15:58.895225Z",
     "shell.execute_reply.started": "2022-02-01T11:15:58.681076Z"
    }
   },
   "outputs": [],
   "source": [
    "predict_gb = np.exp(gb.predict(X_test))"
   ]
  },
  {
   "cell_type": "markdown",
   "metadata": {},
   "source": [
    "Оцениваем точность:"
   ]
  },
  {
   "cell_type": "code",
   "execution_count": 184,
   "metadata": {
    "execution": {
     "iopub.execute_input": "2022-02-01T11:15:58.897687Z",
     "iopub.status.busy": "2022-02-01T11:15:58.897458Z",
     "iopub.status.idle": "2022-02-01T11:15:58.904460Z",
     "shell.execute_reply": "2022-02-01T11:15:58.903443Z",
     "shell.execute_reply.started": "2022-02-01T11:15:58.897656Z"
    }
   },
   "outputs": [],
   "source": [
    "gb_mape = mape(y_test, predict_gb)\n",
    "MAPE.append({'MAPE GradientBoosting': gb_mape})\n",
    "print(f\"Точность модели Gradient Boosting по метрике MAPE: {(gb_mape)*100:0.2f}%\")"
   ]
  },
  {
   "cell_type": "markdown",
   "metadata": {},
   "source": [
    "#### 12.6. Stacking"
   ]
  },
  {
   "cell_type": "markdown",
   "metadata": {},
   "source": [
    "Пропишем функцию:"
   ]
  },
  {
   "cell_type": "code",
   "execution_count": 185,
   "metadata": {
    "execution": {
     "iopub.execute_input": "2022-02-01T11:15:58.905964Z",
     "iopub.status.busy": "2022-02-01T11:15:58.905673Z",
     "iopub.status.idle": "2022-02-01T11:15:58.946317Z",
     "shell.execute_reply": "2022-02-01T11:15:58.945679Z",
     "shell.execute_reply.started": "2022-02-01T11:15:58.905935Z"
    }
   },
   "outputs": [],
   "source": [
    "scaler = StandardScaler() \n",
    "X_train = scaler.fit_transform(X_train) \n",
    "X_test = scaler.transform(X_test) \n",
    "y_train = y_train \n",
    "y_test = y_test\n",
    "cv = KFold(n_splits=5, shuffle=True, random_state=RANDOM_SEED)\n",
    "\n",
    "def compute_meta_feature(regr, X_train, X_test, y_train, cv):\n",
    "    X_meta_train = np.zeros_like(y_train, dtype=np.float32)    \n",
    "    splits = cv.split(X_train)\n",
    "    for train_fold_index, predict_fold_index in splits:\n",
    "        X_fold_train, X_fold_predict = X_train[train_fold_index], X_train[predict_fold_index]\n",
    "        y_fold_train = y_train[train_fold_index]\n",
    "        folded_regr = clone(regr)\n",
    "        folded_regr.fit(X_fold_train, y_fold_train)\n",
    "        X_meta_train[predict_fold_index] = folded_regr.predict(X_fold_predict)\n",
    "    meta_regr = clone(regr)\n",
    "    meta_regr.fit(X_train, y_train)\n",
    "    X_meta_test = meta_regr.predict(X_test)\n",
    "    return X_meta_train, X_meta_test\n",
    "\n",
    "def generate_meta_features(regr, X_train, X_test, y_train, cv):\n",
    "    features = [compute_meta_feature(regr, X_train, X_test, y_train, cv) for regr in tqdm(regr)]    \n",
    "    stacked_features_train = np.vstack([features_train for features_train, features_test in features]).T\n",
    "    stacked_features_test = np.vstack([features_test for features_train, features_test in features]).T\n",
    "    return stacked_features_train, stacked_features_test\n",
    "\n",
    "X_train = np.where(np.isnan(X_train), 0, X_train)\n",
    "X_test = np.where(np.isnan(X_test), 0, X_test)\n",
    "y_train = np.where(np.isnan(y_train), 0, y_train)"
   ]
  },
  {
   "cell_type": "markdown",
   "metadata": {},
   "source": [
    "Проводим обучение:"
   ]
  },
  {
   "cell_type": "code",
   "execution_count": 186,
   "metadata": {
    "execution": {
     "iopub.execute_input": "2022-02-01T11:15:58.947884Z",
     "iopub.status.busy": "2022-02-01T11:15:58.947624Z",
     "iopub.status.idle": "2022-02-01T11:24:46.471355Z",
     "shell.execute_reply": "2022-02-01T11:24:46.470290Z",
     "shell.execute_reply.started": "2022-02-01T11:15:58.947851Z"
    }
   },
   "outputs": [],
   "source": [
    "regr = RandomForestRegressor(n_estimators=300, min_samples_split=2, min_samples_leaf=1, \n",
    "                             max_features=3, max_depth=19, bootstrap=True, random_state=RANDOM_SEED)\n",
    "\n",
    "stacked_features_train, stacked_features_test = generate_meta_features([\n",
    "                            regr,\n",
    "                            GradientBoostingRegressor(min_samples_split=2, learning_rate=0.03, max_depth=10, n_estimators=300),\n",
    "                            KNeighborsRegressor(n_neighbors=2, algorithm = 'ball_tree', weights = 'distance', p=1),\n",
    "                            RandomForestRegressor(random_state = RANDOM_SEED, n_jobs = -1, verbose = 1, max_depth=5, n_estimators=200),\n",
    "                            ExtraTreesRegressor(random_state=RANDOM_SEED), \n",
    "                            RandomForestRegressor(random_state=RANDOM_SEED, max_depth=15)], X_train, X_test, y_train, cv)"
   ]
  },
  {
   "cell_type": "markdown",
   "metadata": {},
   "source": [
    "Оцениваем точность:"
   ]
  },
  {
   "cell_type": "code",
   "execution_count": 187,
   "metadata": {
    "execution": {
     "iopub.execute_input": "2022-02-01T11:24:46.473306Z",
     "iopub.status.busy": "2022-02-01T11:24:46.472833Z",
     "iopub.status.idle": "2022-02-01T11:24:46.478971Z",
     "shell.execute_reply": "2022-02-01T11:24:46.478038Z",
     "shell.execute_reply.started": "2022-02-01T11:24:46.473273Z"
    }
   },
   "outputs": [],
   "source": [
    "def compute_metric(regr, X_train, y_train, X_test, y_test): \n",
    "    regr.fit(X_train, y_train) \n",
    "    y_test_pred = regr.predict(X_test) \n",
    "    return np.round(mape(y_test, y_test_pred)*100, 2)"
   ]
  },
  {
   "cell_type": "code",
   "execution_count": 188,
   "metadata": {
    "execution": {
     "iopub.execute_input": "2022-02-01T11:24:46.480624Z",
     "iopub.status.busy": "2022-02-01T11:24:46.480379Z",
     "iopub.status.idle": "2022-02-01T11:25:18.932540Z",
     "shell.execute_reply": "2022-02-01T11:25:18.931573Z",
     "shell.execute_reply.started": "2022-02-01T11:24:46.480594Z"
    }
   },
   "outputs": [],
   "source": [
    "MAPE_Stacking = compute_metric(regr, stacked_features_train, y_train, stacked_features_test, y_test)"
   ]
  },
  {
   "cell_type": "code",
   "execution_count": 189,
   "metadata": {
    "execution": {
     "iopub.execute_input": "2022-02-01T11:25:18.934169Z",
     "iopub.status.busy": "2022-02-01T11:25:18.933916Z",
     "iopub.status.idle": "2022-02-01T11:25:18.938824Z",
     "shell.execute_reply": "2022-02-01T11:25:18.938051Z",
     "shell.execute_reply.started": "2022-02-01T11:25:18.934140Z"
    }
   },
   "outputs": [],
   "source": [
    "MAPE.append({'MAPE Stacking': MAPE_Stacking})"
   ]
  },
  {
   "cell_type": "code",
   "execution_count": 190,
   "metadata": {
    "execution": {
     "iopub.execute_input": "2022-02-01T11:25:18.940299Z",
     "iopub.status.busy": "2022-02-01T11:25:18.940082Z",
     "iopub.status.idle": "2022-02-01T11:25:18.953437Z",
     "shell.execute_reply": "2022-02-01T11:25:18.952476Z",
     "shell.execute_reply.started": "2022-02-01T11:25:18.940269Z"
    }
   },
   "outputs": [],
   "source": [
    "print(f\"Точность модели по метрике MAPE: {MAPE_Stacking}%\")"
   ]
  },
  {
   "cell_type": "markdown",
   "metadata": {},
   "source": [
    "### 13. Сравним точность и выберем модель обучения:"
   ]
  },
  {
   "cell_type": "code",
   "execution_count": 191,
   "metadata": {
    "execution": {
     "iopub.execute_input": "2022-02-01T11:25:18.955649Z",
     "iopub.status.busy": "2022-02-01T11:25:18.954872Z",
     "iopub.status.idle": "2022-02-01T11:25:18.965022Z",
     "shell.execute_reply": "2022-02-01T11:25:18.964056Z",
     "shell.execute_reply.started": "2022-02-01T11:25:18.955602Z"
    }
   },
   "outputs": [],
   "source": [
    "MAPE"
   ]
  },
  {
   "cell_type": "markdown",
   "metadata": {},
   "source": [
    "### Выводы\n",
    "\n",
    "- CatBoost и GradientBoosting показывают хороший результат;\n",
    "- Лучший результат показал xgboost 16.18;\n",
    "- Результат заметно улучшается после логарифмирования целевой переменной."
   ]
  },
  {
   "cell_type": "markdown",
   "metadata": {},
   "source": [
    "### Submission"
   ]
  },
  {
   "cell_type": "markdown",
   "metadata": {},
   "source": [
    "Делаем предсказания по выбранной модели обучения: "
   ]
  },
  {
   "cell_type": "code",
   "execution_count": 192,
   "metadata": {
    "execution": {
     "iopub.execute_input": "2022-02-01T11:25:18.967904Z",
     "iopub.status.busy": "2022-02-01T11:25:18.966679Z",
     "iopub.status.idle": "2022-02-01T11:25:20.273275Z",
     "shell.execute_reply": "2022-02-01T11:25:20.272563Z",
     "shell.execute_reply.started": "2022-02-01T11:25:18.967853Z"
    }
   },
   "outputs": [],
   "source": [
    "predict_test = np.exp(xb.predict(X_test))\n",
    "predict_submission = np.exp(xb.predict(test_data))"
   ]
  },
  {
   "cell_type": "markdown",
   "metadata": {},
   "source": [
    "Запишем наш вариант решения в требуемый датасет:"
   ]
  },
  {
   "cell_type": "code",
   "execution_count": 193,
   "metadata": {
    "execution": {
     "iopub.execute_input": "2022-02-01T11:25:20.275277Z",
     "iopub.status.busy": "2022-02-01T11:25:20.274414Z",
     "iopub.status.idle": "2022-02-01T11:25:20.292688Z",
     "shell.execute_reply": "2022-02-01T11:25:20.292077Z",
     "shell.execute_reply.started": "2022-02-01T11:25:20.275235Z"
    }
   },
   "outputs": [],
   "source": [
    "sample_submission['price'] = predict_submission\n",
    "submission = sample_submission.copy()\n",
    "submission"
   ]
  },
  {
   "cell_type": "markdown",
   "metadata": {},
   "source": [
    "Запишем в submission в файл (Если нужно):"
   ]
  },
  {
   "cell_type": "code",
   "execution_count": 194,
   "metadata": {
    "execution": {
     "iopub.execute_input": "2022-02-01T11:25:20.294215Z",
     "iopub.status.busy": "2022-02-01T11:25:20.293608Z",
     "iopub.status.idle": "2022-02-01T11:25:20.401505Z",
     "shell.execute_reply": "2022-02-01T11:25:20.400803Z",
     "shell.execute_reply.started": "2022-02-01T11:25:20.294177Z"
    }
   },
   "outputs": [],
   "source": [
    "submission.to_csv('submission.csv', index=False)"
   ]
  },
  {
   "cell_type": "code",
   "execution_count": null,
   "metadata": {},
   "outputs": [],
   "source": []
  },
  {
   "cell_type": "code",
   "execution_count": null,
   "metadata": {},
   "outputs": [],
   "source": []
  }
 ],
 "metadata": {
  "kernelspec": {
   "display_name": "Python 3",
   "language": "python",
   "name": "python3"
  },
  "language_info": {
   "codemirror_mode": {
    "name": "ipython",
    "version": 3
   },
   "file_extension": ".py",
   "mimetype": "text/x-python",
   "name": "python",
   "nbconvert_exporter": "python",
   "pygments_lexer": "ipython3",
   "version": "3.8.5"
  }
 },
 "nbformat": 4,
 "nbformat_minor": 4
}
